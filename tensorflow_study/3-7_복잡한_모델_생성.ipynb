{
 "cells": [
  {
   "cell_type": "code",
   "execution_count": 1,
   "id": "6c6caa77",
   "metadata": {},
   "outputs": [
    {
     "data": {
      "text/plain": [
       "'\\n### 함수형 API (Functional API)\\n\\n함수 형태로 딥러닝 모델을 정의하면 다양한 모델 구조를 구현할 수 있다\\n여러 층을 시퀀스 형태로 연결하는 Sequential API와 다르게, \\nFunctional API는 복잡한 구조의 모델을 정의할수 있다\\n'"
      ]
     },
     "execution_count": 1,
     "metadata": {},
     "output_type": "execute_result"
    }
   ],
   "source": [
    "\"\"\"\n",
    "### 함수형 API (Functional API)\n",
    "\n",
    "함수 형태로 딥러닝 모델을 정의하면 다양한 모델 구조를 구현할 수 있다\n",
    "여러 층을 시퀀스 형태로 연결하는 Sequential API와 다르게, \n",
    "Functional API는 복잡한 구조의 모델을 정의할수 있다\n",
    "\"\"\""
   ]
  },
  {
   "cell_type": "code",
   "execution_count": 2,
   "id": "c769fd70",
   "metadata": {},
   "outputs": [],
   "source": [
    "import tensorflow as tf\n",
    "\n",
    "#ㅔ라스의 내장 데이터셋에서 mnist 데이터셋 로드\n",
    "mnist = tf.keras.datasets.mnist\n",
    "\n",
    "#load_data()로 데이터셋 로드\n",
    "(x_train, y_train), (x_test, y_test) = mnist.load_data()\n",
    "\n",
    "# 데이터 정규화\n",
    "x_train = x_train / x_train.max()\n",
    "x_test = x_test / x_test.max()\n"
   ]
  },
  {
   "cell_type": "code",
   "execution_count": 3,
   "id": "b6f21c64",
   "metadata": {},
   "outputs": [],
   "source": [
    "\"\"\"\n",
    "이건 Sequential API로 구현된 모델\n",
    "Sequential API를 사용하는 경우 단반향의 Sequential 모델만 구현할 수 있다는 제약\n",
    "\"\"\"\n",
    "#책에 중략으로 코드가 빠진것을 확인 - 모델 아무거나 불러옴\n",
    "# 모델정의 \n",
    "model = tf.keras.Sequential([\n",
    "    tf.keras.layers.Flatten(input_shape=(28, 28)),\n",
    "    tf.keras.layers.Dense(256, activation=\"relu\"),\n",
    "    tf.keras.layers.Dense(64, activation=\"relu\"),\n",
    "    tf.keras.layers.Dense(32, activation=\"relu\"),\n",
    "    # 노드=10개가 되어야 한다\n",
    "    tf.keras.layers.Dense(10, activation=\"softmax\"),\n",
    "])\n",
    "\n",
    "#모델 컴파일\n",
    "model.compile(optimizer = \"adam\", loss=\"sparse_categorical_crossentropy\", metrics = [\"accuracy\"])"
   ]
  },
  {
   "cell_type": "code",
   "execution_count": 4,
   "id": "cec16fce",
   "metadata": {},
   "outputs": [],
   "source": [
    "# 체크포인트 설정\n",
    "checkpoint = tf.keras.callbacks.ModelCheckpoint(filepath = \"tmp_checkpoint.ckpt\",\n",
    "                                               save_weights_only = True,\n",
    "                                               save_best_only = True,\n",
    "                                               monitor = \"val_loss\",\n",
    "                                               verbose=1)"
   ]
  },
  {
   "cell_type": "code",
   "execution_count": 5,
   "id": "79e3b28c",
   "metadata": {},
   "outputs": [
    {
     "name": "stdout",
     "output_type": "stream",
     "text": [
      "Epoch 1/10\n",
      "1873/1875 [============================>.] - ETA: 0s - loss: 0.2238 - accuracy: 0.9323\n",
      "Epoch 00001: val_loss improved from inf to 0.11366, saving model to tmp_checkpoint.ckpt\n",
      "1875/1875 [==============================] - 7s 3ms/step - loss: 0.2238 - accuracy: 0.9323 - val_loss: 0.1137 - val_accuracy: 0.9632\n",
      "Epoch 2/10\n",
      "1873/1875 [============================>.] - ETA: 0s - loss: 0.0926 - accuracy: 0.9713\n",
      "Epoch 00002: val_loss improved from 0.11366 to 0.09100, saving model to tmp_checkpoint.ckpt\n",
      "1875/1875 [==============================] - 8s 4ms/step - loss: 0.0927 - accuracy: 0.9713 - val_loss: 0.0910 - val_accuracy: 0.9716\n",
      "Epoch 3/10\n",
      "1865/1875 [============================>.] - ETA: 0s - loss: 0.0637 - accuracy: 0.9800\n",
      "Epoch 00003: val_loss improved from 0.09100 to 0.07299, saving model to tmp_checkpoint.ckpt\n",
      "1875/1875 [==============================] - 8s 4ms/step - loss: 0.0638 - accuracy: 0.9800 - val_loss: 0.0730 - val_accuracy: 0.9784\n",
      "Epoch 4/10\n",
      "1864/1875 [============================>.] - ETA: 0s - loss: 0.0502 - accuracy: 0.9843\n",
      "Epoch 00004: val_loss did not improve from 0.07299\n",
      "1875/1875 [==============================] - 8s 4ms/step - loss: 0.0500 - accuracy: 0.9844 - val_loss: 0.0818 - val_accuracy: 0.9751\n",
      "Epoch 5/10\n",
      "1865/1875 [============================>.] - ETA: 0s - loss: 0.0403 - accuracy: 0.9870\n",
      "Epoch 00005: val_loss did not improve from 0.07299\n",
      "1875/1875 [==============================] - 8s 4ms/step - loss: 0.0402 - accuracy: 0.9870 - val_loss: 0.0752 - val_accuracy: 0.9767\n",
      "Epoch 6/10\n",
      "1864/1875 [============================>.] - ETA: 0s - loss: 0.0322 - accuracy: 0.9902\n",
      "Epoch 00006: val_loss did not improve from 0.07299\n",
      "1875/1875 [==============================] - 8s 4ms/step - loss: 0.0322 - accuracy: 0.9902 - val_loss: 0.0802 - val_accuracy: 0.9780\n",
      "Epoch 7/10\n",
      "1870/1875 [============================>.] - ETA: 0s - loss: 0.0294 - accuracy: 0.9903\n",
      "Epoch 00007: val_loss did not improve from 0.07299\n",
      "1875/1875 [==============================] - 8s 4ms/step - loss: 0.0293 - accuracy: 0.9903 - val_loss: 0.0837 - val_accuracy: 0.9784\n",
      "Epoch 8/10\n",
      "1866/1875 [============================>.] - ETA: 0s - loss: 0.0244 - accuracy: 0.9922\n",
      "Epoch 00008: val_loss did not improve from 0.07299\n",
      "1875/1875 [==============================] - 8s 4ms/step - loss: 0.0244 - accuracy: 0.9922 - val_loss: 0.0966 - val_accuracy: 0.9748\n",
      "Epoch 9/10\n",
      "1875/1875 [==============================] - ETA: 0s - loss: 0.0222 - accuracy: 0.9925\n",
      "Epoch 00009: val_loss did not improve from 0.07299\n",
      "1875/1875 [==============================] - 7s 4ms/step - loss: 0.0222 - accuracy: 0.9925 - val_loss: 0.0764 - val_accuracy: 0.9802\n",
      "Epoch 10/10\n",
      "1873/1875 [============================>.] - ETA: 0s - loss: 0.0190 - accuracy: 0.9936\n",
      "Epoch 00010: val_loss did not improve from 0.07299\n",
      "1875/1875 [==============================] - 8s 4ms/step - loss: 0.0190 - accuracy: 0.9936 - val_loss: 0.0889 - val_accuracy: 0.9793\n"
     ]
    },
    {
     "data": {
      "text/plain": [
       "<keras.callbacks.History at 0x1df19307340>"
      ]
     },
     "execution_count": 5,
     "metadata": {},
     "output_type": "execute_result"
    }
   ],
   "source": [
    "model.fit(x_train, y_train,\n",
    "         validation_data=(x_test,y_test),\n",
    "         epochs=10,\n",
    "         callbacks=[checkpoint]\n",
    "         )"
   ]
  },
  {
   "cell_type": "code",
   "execution_count": 6,
   "id": "43e3a1fd",
   "metadata": {},
   "outputs": [],
   "source": [
    "\"\"\"\n",
    "함수형 API를 사용하기 위해서는 먼저 Input 레이어를 정의한다\n",
    "Input 레이어에 데이터의 입력 shape을 정의 \n",
    "레이어마다 반환되는 출력 값을 변수에 저장한 뒤 다음 레이어의 입력으로 연결\n",
    "이렇게 여러 개의 레이어를 마치 체인 구조로 입출력을 계속 연결할 수 있다\n",
    "\"\"\"\n",
    "\n",
    "#모델의 레이어를 체인 구조로 연결 Input 레이어 정의\n",
    "input_layer = tf.keras.Input(shape=(28, 28), name=\"InputLayer\")\n",
    "\n",
    "#모델의 레이어를 체인 구조로 연결\n",
    "x1 = tf.keras.layers.Flatten(name=\"Flatten\")(input_layer)\n",
    "x2 = tf.keras.layers.Dense(256, activation=\"relu\", name=\"Dense1\")(x1)\n",
    "x3 = tf.keras.layers.Dense(64, activation=\"relu\", name=\"Dense2\")(x2)\n",
    "x4 = tf.keras.layers.Dense(10, activation=\"softmax\", name=\"OutputLayer\")(x3)"
   ]
  },
  {
   "cell_type": "code",
   "execution_count": 7,
   "id": "796a08b0",
   "metadata": {},
   "outputs": [
    {
     "name": "stdout",
     "output_type": "stream",
     "text": [
      "Model: \"FunctionalModel\"\n",
      "_________________________________________________________________\n",
      " Layer (type)                Output Shape              Param #   \n",
      "=================================================================\n",
      " InputLayer (InputLayer)     [(None, 28, 28)]          0         \n",
      "                                                                 \n",
      " Flatten (Flatten)           (None, 784)               0         \n",
      "                                                                 \n",
      " Dense1 (Dense)              (None, 256)               200960    \n",
      "                                                                 \n",
      " Dense2 (Dense)              (None, 64)                16448     \n",
      "                                                                 \n",
      " OutputLayer (Dense)         (None, 10)                650       \n",
      "                                                                 \n",
      "=================================================================\n",
      "Total params: 218,058\n",
      "Trainable params: 218,058\n",
      "Non-trainable params: 0\n",
      "_________________________________________________________________\n"
     ]
    }
   ],
   "source": [
    "\"\"\"\n",
    "레이어마다 name 매개변수로 이름을 부여할 수 있다\n",
    "모델 인스턴스에 대하여 summary()로 요약 출력할 때 이름이 함께 출력된다\n",
    "첫 Input 레이어로 시작하여 x4 변수는 마지막 출력층을 나타낸다\n",
    "이렇게 체인 방식으로 연결한 후에 tf.keras.Model()에 입력 레이어와 출력 레이어를 정의해\n",
    "모델을 생성\n",
    "\"\"\"\n",
    "#모델 생성\n",
    "func_model = tf.keras.Model(inputs = input_layer, outputs = x4, name=\"FunctionalModel\")\n",
    "\n",
    "#모델 요약\n",
    "func_model.summary()"
   ]
  },
  {
   "cell_type": "code",
   "execution_count": 8,
   "id": "1c0c17de",
   "metadata": {},
   "outputs": [
    {
     "data": {
      "image/png": "[encoded data removed]",
      "text/plain": [
       "<IPython.core.display.Image object>"
      ]
     },
     "execution_count": 8,
     "metadata": {},
     "output_type": "execute_result"
    }
   ],
   "source": [
    "\"\"\"\n",
    "tf.keras.Model()에 inputs 매개변수로 입력층인 input_layer를 지정하고 outputs 매개변수에 \n",
    "출력층을 지정해주어 모델을 생성한다\n",
    "모델 인스턴스 생성 시 name 매개변수에 이름을 지정하면\n",
    "해당 이름이 summary()에 출력된다\n",
    "\n",
    "복잡한 구조를 갖는 모델을 생성할 때 summary()로는 모델의 구조도를 시각화 하기 어렵다\n",
    "케라스의 유틸 패키지에서 제공하는 plot_model 모듈을 활용하여 모델의 구조도를 시각화할 수있다\n",
    "\"\"\"\n",
    "from tensorflow.keras.utils import plot_model\n",
    "\n",
    "# 구조도 시각화\n",
    "plot_model(func_model, show_shapes=True, show_layer_names=True, to_file=\"model.png\")"
   ]
  },
  {
   "cell_type": "code",
   "execution_count": 9,
   "id": "ca7f6975",
   "metadata": {},
   "outputs": [
    {
     "name": "stdout",
     "output_type": "stream",
     "text": [
      "Epoch 1/3\n",
      "1875/1875 [==============================] - 6s 3ms/step - loss: 0.2143 - accuracy: 0.9360\n",
      "Epoch 2/3\n",
      "1875/1875 [==============================] - 6s 3ms/step - loss: 0.0872 - accuracy: 0.9723\n",
      "Epoch 3/3\n",
      "1875/1875 [==============================] - 6s 3ms/step - loss: 0.0609 - accuracy: 0.9806\n",
      "Functional Model- loss: 0.072406, acc:0.977600\n"
     ]
    }
   ],
   "source": [
    "\"\"\"\n",
    "함수형 API로 생성한 모델 훈련\n",
    "\n",
    "생성된 모델 인스턴스에 compile() 메소드로 모델을 컴파일하고 fit() 메소드로 모델을 훈련\n",
    "훈련이 완료된 뒤 evaluate() 메소드로 검증\n",
    "\"\"\"\n",
    "#컴파일\n",
    "func_model.compile(optimizer=\"adam\", loss=\"sparse_categorical_crossentropy\", metrics=[\"accuracy\"])\n",
    "\n",
    "# 훈련 \n",
    "func_model.fit(x_train, y_train, epochs=3)\n",
    "\n",
    "#검증\n",
    "loss, acc = func_model.evaluate(x_test, y_test, verbose=0)\n",
    "print(f\"Functional Model- loss: {loss:5f}, acc:{acc:5f}\")"
   ]
  },
  {
   "cell_type": "code",
   "execution_count": 10,
   "id": "4ebb179c",
   "metadata": {},
   "outputs": [
    {
     "data": {
      "text/plain": [
       "'\\n###모델 서브클래싱\\n텐서플로우 케라스는 Model 클래스를 제공하고, 이를 기반으로 딥러닝 모델을 구현하고 있다\\n이 클래스를 직접 상속받아 사용자가 직접 서브클래스로 딥러닝 모델을 만들 수도 있다\\n\\n하지만 객체지향이나 파이썬 클래스의 개념이 부족하다면 굳이 Model Subclassing으로 모델을\\n구현하지 않아도 좋다 \\n함수형 API로 생성한 모델과의 성능 차이는 없다\\n따라서 이책의 예체를 실습할 때는 앞서 다룬 Sequentail API와 Functional API로 충분하다\\n'"
      ]
     },
     "execution_count": 10,
     "metadata": {},
     "output_type": "execute_result"
    }
   ],
   "source": [
    "\"\"\"\n",
    "###모델 서브클래싱\n",
    "텐서플로우 케라스는 Model 클래스를 제공하고, 이를 기반으로 딥러닝 모델을 구현하고 있다\n",
    "이 클래스를 직접 상속받아 사용자가 직접 서브클래스로 딥러닝 모델을 만들 수도 있다\n",
    "\n",
    "하지만 객체지향이나 파이썬 클래스의 개념이 부족하다면 굳이 Model Subclassing으로 모델을\n",
    "구현하지 않아도 좋다 \n",
    "함수형 API로 생성한 모델과의 성능 차이는 없다\n",
    "따라서 이책의 예체를 실습할 때는 앞서 다룬 Sequentail API와 Functional API로 충분하다\n",
    "\"\"\""
   ]
  },
  {
   "cell_type": "code",
   "execution_count": 12,
   "id": "97261508",
   "metadata": {},
   "outputs": [],
   "source": [
    "\"\"\"\n",
    "Model Subvlassing 으로 모델 인스턴스를 생성하기 위해서는 tf.keras.Model를 상속받아 \n",
    "생성하고자 하는 모델 클래스를 구현한다.\n",
    "모델의 __init__()함수에 레이어를 정의하고 레이어의 하이퍼파라미터를 정의한다\n",
    "\"\"\"\n",
    "class MyModel(tf.keras.Model):\n",
    "    def __init__(self):\n",
    "        super(MyModel, self).__init__()\n",
    "        #초기값 설정\n",
    "        self.flatten = tf.keras.layers.Flatten()\n",
    "        self.dense1 = tf.keras.layers.Dense(256, activation=\"relu\")\n",
    "        self.dense2 = tf.keras.layers.Dense(64, activation=\"relu\")\n",
    "        self.dense3 = tf.keras.layers.Dense(10, activation=\"softmax\")\n",
    "        \n",
    "    #method overiding\n",
    "    #훈련용 함수 정의\n",
    "    # x 는 input\n",
    "    def call(self, x):\n",
    "        x = self.flatten(x)\n",
    "        x = self.dense1(x)\n",
    "        x = self.dense2(x)\n",
    "        x = self.dense3(x)\n",
    "        return x\n",
    "    \n",
    "\"\"\"\n",
    "call()함수를 메소드 오버라이딩으로 구현한다. call() 메소드는 fit()메소드가 호출되어 \n",
    "훈련하는 경우 호출될 함수이다. call() 함수 내부에서는 모델의 입력부터 출력까지의 흐름,\n",
    "즉 순전파(forward propagation)를 정의하고 함수형 API와 같은 방식으로 모든 레이어를 \n",
    "체인처럼 연결한다 \n",
    "마지막 출력값을 reuturn 한다\n",
    "\"\"\""
   ]
  },
  {
   "cell_type": "code",
   "execution_count": 13,
   "id": "816fb726",
   "metadata": {},
   "outputs": [
    {
     "name": "stdout",
     "output_type": "stream",
     "text": [
      "Model: \"subclass_model\"\n",
      "_________________________________________________________________\n",
      " Layer (type)                Output Shape              Param #   \n",
      "=================================================================\n",
      " flatten_1 (Flatten)         multiple                  0         \n",
      "                                                                 \n",
      " dense_4 (Dense)             multiple                  200960    \n",
      "                                                                 \n",
      " dense_5 (Dense)             multiple                  16448     \n",
      "                                                                 \n",
      " dense_6 (Dense)             multiple                  650       \n",
      "                                                                 \n",
      "=================================================================\n",
      "Total params: 218,058\n",
      "Trainable params: 218,058\n",
      "Non-trainable params: 0\n",
      "_________________________________________________________________\n"
     ]
    }
   ],
   "source": [
    "\"\"\"\n",
    "tf.keras.Model을 상속받아 구현한 모델인 MyModel을 생성자로 인스턴스를 생성한다\n",
    "모델에 이름을 부여하고 싶다면 모델 인스턴스의 _name에 이름을 지정한다. 생성자로 \n",
    "객체를 생성해 저장한 mymodel 변수에 바로 summary()로 요약 출력하는 것은 불가능하다.\n",
    "input_shape이 정의되지 않았기 때문에 전체 모델의 구조를 생성해내지 못하기 때문\n",
    "mymodel에 Input 레이어와 함께 shape을 정의해주면 summary()로 모델의 요약을 확인할 수 있다\n",
    "\"\"\"\n",
    "\n",
    "# 모델 생성\n",
    "mymodel = MyModel()\n",
    "\n",
    "# 모델의 이름 설정\n",
    "mymodel._name = \"subclass_model\"\n",
    "\n",
    "# 모델 input 정의\n",
    "mymodel(tf.keras.layers.Input(shape = (28, 28)))\n",
    "\n",
    "# 모델 요약\n",
    "mymodel.summary()"
   ]
  },
  {
   "cell_type": "code",
   "execution_count": 14,
   "id": "1ee2c02c",
   "metadata": {},
   "outputs": [
    {
     "name": "stdout",
     "output_type": "stream",
     "text": [
      "Epoch 1/3\n",
      "1875/1875 [==============================] - 6s 3ms/step - loss: 0.2127 - accuracy: 0.9370\n",
      "Epoch 2/3\n",
      "1875/1875 [==============================] - 6s 3ms/step - loss: 0.0854 - accuracy: 0.9734\n",
      "Epoch 3/3\n",
      "1875/1875 [==============================] - 6s 3ms/step - loss: 0.0604 - accuracy: 0.9807\n",
      "Subclassing Model- loss: 0.082763, acc:0.976000\n"
     ]
    }
   ],
   "source": [
    "\"\"\"\n",
    "Model Subclassing으로 생성된 모델의 훈련도 동일하게 compile()메소드로 컴파일 후 fit()\n",
    "메소드로 훈련한다. 요약하면 함수형 API로 생성한 모델과 Model Subclassing으로 생성한 \n",
    "모델 모두 동일한 compile() 메소드와 fit() 메소드로 훈련할 수 있다 \n",
    "물론 evaluate() 메소드로 모델 성능을 검증할 수도 있다\n",
    "단지 모델을 생성하는 방식에 차이가 있을 뿐이다\n",
    "\"\"\"\n",
    "# 컴파일\n",
    "mymodel.compile(optimizer = \"adam\", loss = \"sparse_categorical_crossentropy\",\n",
    "               metrics=[\"accuracy\"])\n",
    "\n",
    "# 훈련\n",
    "mymodel.fit(x_train, y_train, epochs=3)\n",
    "\n",
    "#검증\n",
    "loss, acc = mymodel.evaluate(x_test, y_test, verbose=0)\n",
    "print(f\"Subclassing Model- loss: {loss:5f}, acc:{acc:5f}\")"
   ]
  },
  {
   "cell_type": "code",
   "execution_count": 16,
   "id": "9b8c3968",
   "metadata": {},
   "outputs": [],
   "source": [
    "\"\"\"\n",
    "서브클래싱 모델 파라미터를 활용한 생성\n",
    "\n",
    "Model Subclassing으로 생성하는 장점은 생성자 파라미터로 모델 내부 레이어의 하이퍼파라미터를 \n",
    "지정할 수 있다는 점이다\n",
    "다음은 모델의 생성자 파라미터를 추가하여 동적으로 레이어의 유닛 개수를 초기화하는 예제\n",
    "\"\"\"\n",
    "class MyModel(tf.keras.Model):\n",
    "    def __init__(self, units, num_classes):   # 생성자 파라미터 추가함\n",
    "        super(MyModel, self).__init__()\n",
    "        #초기값 설정\n",
    "        self.flatten = tf.keras.layers.Flatten()\n",
    "        self.dense1 = tf.keras.layers.Dense(units, activation=\"relu\")\n",
    "        self.dense2 = tf.keras.layers.Dense(units/4, activation=\"relu\")\n",
    "        self.dense3 = tf.keras.layers.Dense(num_classes, activation=\"softmax\")\n",
    "        \n",
    "    #method overiding\n",
    "    #훈련용 함수 정의\n",
    "    # x 는 input\n",
    "    def call(self, x):\n",
    "        x = self.flatten(x)\n",
    "        x = self.dense1(x)\n",
    "        x = self.dense2(x)\n",
    "        x = self.dense3(x)\n",
    "        return x"
   ]
  },
  {
   "cell_type": "code",
   "execution_count": 17,
   "id": "53172996",
   "metadata": {},
   "outputs": [
    {
     "name": "stdout",
     "output_type": "stream",
     "text": [
      "Model: \"my_model_1\"\n",
      "_________________________________________________________________\n",
      " Layer (type)                Output Shape              Param #   \n",
      "=================================================================\n",
      " flatten_2 (Flatten)         multiple                  0         \n",
      "                                                                 \n",
      " dense_7 (Dense)             multiple                  200960    \n",
      "                                                                 \n",
      " dense_8 (Dense)             multiple                  16448     \n",
      "                                                                 \n",
      " dense_9 (Dense)             multiple                  650       \n",
      "                                                                 \n",
      "=================================================================\n",
      "Total params: 218,058\n",
      "Trainable params: 218,058\n",
      "Non-trainable params: 0\n",
      "_________________________________________________________________\n"
     ]
    }
   ],
   "source": [
    "\"\"\"\n",
    "모델의 생성자 파라미터로 기준이 되는 unit의 개수를 입력받아 Dense 레이어의 유닛 개수를 \n",
    "계산하여 설저한다\n",
    "\"\"\"\n",
    "# 모델 생성\n",
    "mymodel = MyModel(256, 10)\n",
    "\n",
    "# 모델 input 정의\n",
    "mymodel(tf.keras.layers.Input(shape=(28, 28)))\n",
    "\n",
    "#모델 요약\n",
    "mymodel.summary()"
   ]
  },
  {
   "cell_type": "code",
   "execution_count": 18,
   "id": "5b371465",
   "metadata": {},
   "outputs": [
    {
     "name": "stdout",
     "output_type": "stream",
     "text": [
      "Epoch 1/3\n",
      "1875/1875 [==============================] - 6s 3ms/step - loss: 0.2098 - accuracy: 0.9381\n",
      "Epoch 2/3\n",
      "1875/1875 [==============================] - 8s 4ms/step - loss: 0.0885 - accuracy: 0.9727\n",
      "Epoch 3/3\n",
      "1875/1875 [==============================] - 8s 4ms/step - loss: 0.0612 - accuracy: 0.9805\n",
      "Subclassing Model w. parameters- loss: 0.074578, acc:0.976200\n"
     ]
    }
   ],
   "source": [
    "\"\"\"\n",
    "모델 생성자에 생성자 파라미터로 초기화하여 생성한 모델에 summary()로 요약한 결과를 \n",
    "확인해보면 동적으로 설정한 레이어의 파라미터가 초기화되었음을 알 수 있다.\n",
    "\"\"\"\n",
    "# 컴파일\n",
    "mymodel.compile(optimizer=\"adam\", loss=\"sparse_categorical_crossentropy\",\n",
    "               metrics=[\"accuracy\"])\n",
    "\n",
    "# 훈련 \n",
    "mymodel.fit(x_train, y_train, epochs=3)\n",
    "\n",
    "# 검증\n",
    "loss, acc = mymodel.evaluate(x_test, y_test, verbose=0)\n",
    "print(f\"Subclassing Model w. parameters- loss: {loss:5f}, acc:{acc:5f}\")"
   ]
  },
  {
   "cell_type": "code",
   "execution_count": null,
   "id": "d3408ae7",
   "metadata": {},
   "outputs": [],
   "source": []
  },
  {
   "cell_type": "code",
   "execution_count": null,
   "id": "634d1d39",
   "metadata": {},
   "outputs": [],
   "source": []
  },
  {
   "cell_type": "code",
   "execution_count": null,
   "id": "86e4e753",
   "metadata": {},
   "outputs": [],
   "source": []
  }
 ],
 "metadata": {
  "kernelspec": {
   "display_name": "Python 3 (ipykernel)",
   "language": "python",
   "name": "python3"
  },
  "language_info": {
   "codemirror_mode": {
    "name": "ipython",
    "version": 3
   },
   "file_extension": ".py",
   "mimetype": "text/x-python",
   "name": "python",
   "nbconvert_exporter": "python",
   "pygments_lexer": "ipython3",
   "version": "3.8.12"
  }
 },
 "nbformat": 4,
 "nbformat_minor": 5
}
