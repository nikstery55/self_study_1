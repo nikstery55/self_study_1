{
 "cells": [
  {
   "cell_type": "code",
   "execution_count": 1,
   "id": "c84a8536",
   "metadata": {},
   "outputs": [
    {
     "data": {
      "text/plain": [
       "'\\n텐서플로우 케라스의 Functional API를 사용하는 모델 생성\\n레이어를 기준으로 입력이 2개 이상이거나 출력이 2개 이상인 모델을 만들 수 있다\\n\\n'"
      ]
     },
     "execution_count": 1,
     "metadata": {},
     "output_type": "execute_result"
    }
   ],
   "source": [
    "\"\"\"\n",
    "텐서플로우 케라스의 Functional API를 사용하는 모델 생성\n",
    "레이어를 기준으로 입력이 2개 이상이거나 출력이 2개 이상인 모델을 만들 수 있다\n",
    "\n",
    "\"\"\""
   ]
  },
  {
   "cell_type": "code",
   "execution_count": 2,
   "id": "e4644dc8",
   "metadata": {},
   "outputs": [],
   "source": [
    "import tensorflow as tf\n",
    "import numpy as np"
   ]
  },
  {
   "cell_type": "code",
   "execution_count": 3,
   "id": "996776c7",
   "metadata": {},
   "outputs": [
    {
     "name": "stdout",
     "output_type": "stream",
     "text": [
      "(60000, 28, 28) (60000,)\n",
      "(10000, 28, 28) (10000,)\n"
     ]
    }
   ],
   "source": [
    "#mnist 손글씨 이미지 데이터 로드\n",
    "mnist = tf.keras.datasets.mnist\n",
    "(x_train, y_train),(x_valid, y_valid) = mnist.load_data()\n",
    "\n",
    "print(x_train.shape, y_train.shape)\n",
    "print(x_valid.shape, y_valid.shape)"
   ]
  },
  {
   "cell_type": "code",
   "execution_count": 4,
   "id": "06bf4371",
   "metadata": {},
   "outputs": [
    {
     "data": {
      "text/plain": [
       "(60000,)"
      ]
     },
     "execution_count": 4,
     "metadata": {},
     "output_type": "execute_result"
    }
   ],
   "source": [
    "\"\"\"\n",
    "원본 mnist 데이터셋은 0~9 까지 숫자를 손글씨로 쓴 이미지(x)와 정답(y) 숫자로 \n",
    "구성되어 있다\n",
    "우리는 0~9 까지 숫자를 맞추는 정답외에 홀수인지 짝수인지 판단하는 정답(y_odd)을\n",
    "새로 만들어서 추가하기로 한다\n",
    "y_train값이 홀수면 1, 짝수면 0 으로 하는 y_train_odd 배열을 새로만든다\n",
    "\"\"\"\n",
    "#새로운 출력 값 배열 생성(홀수 1 , 짝수 0)\n",
    "y_train_odd = []\n",
    "for y in y_train:\n",
    "    if y % 2 ==0:\n",
    "        y_train_odd.append(0)\n",
    "    else:\n",
    "        y_train_odd.append(1)\n",
    "        \n",
    "y_train_odd = np.array(y_train_odd)\n",
    "y_train_odd.shape"
   ]
  },
  {
   "cell_type": "code",
   "execution_count": 5,
   "id": "461c9920",
   "metadata": {},
   "outputs": [
    {
     "name": "stdout",
     "output_type": "stream",
     "text": [
      "[5 0 4 1 9 2 1 3 1 4]\n",
      "[1 0 0 1 1 0 1 1 1 0]\n"
     ]
    }
   ],
   "source": [
    "\"\"\"\n",
    "원본 y_train 배열과 홀짝으로 분류한 y_train_odd 배열을 동시에 출력하여 비교해 본다\n",
    "홀수 짝수 여부가 잘 정리된 것을 확인할 수 있다\n",
    "\"\"\"\n",
    "print(y_train[:10])\n",
    "print(y_train_odd[:10])"
   ]
  },
  {
   "cell_type": "code",
   "execution_count": 6,
   "id": "6582bd6b",
   "metadata": {},
   "outputs": [
    {
     "data": {
      "text/plain": [
       "(10000,)"
      ]
     },
     "execution_count": 6,
     "metadata": {},
     "output_type": "execute_result"
    }
   ],
   "source": [
    "\"\"\"\n",
    "검증 데이터셋에 대해서도 홀수, 짝수를 나타내는 y_valid_odd 배열을 만든다\n",
    "\"\"\"\n",
    "# Validation 데이터셋 처리\n",
    "y_valid_odd = []\n",
    "for y in y_valid:\n",
    "    if y % 2 ==0:\n",
    "        y_valid_odd.append(0)\n",
    "    else:\n",
    "        y_valid_odd.append(1)\n",
    "    \n",
    "y_valid_odd = np.array(y_valid_odd)\n",
    "y_valid_odd.shape"
   ]
  },
  {
   "cell_type": "code",
   "execution_count": 7,
   "id": "1f14a8b3",
   "metadata": {},
   "outputs": [
    {
     "name": "stdout",
     "output_type": "stream",
     "text": [
      "(60000, 28, 28, 1) (10000, 28, 28, 1)\n"
     ]
    }
   ],
   "source": [
    "\"\"\"\n",
    "입력 이미지 데이터를 255로 나눠서 정규화 한다 \n",
    "색상이 하나인 모노 컬러 이미지이므로, 새로운 축을 추가하고 채널 개수를 1개로 지정한다\n",
    "텐서플로우 expand_dims() 함수에 원본 배열을 입력하고, 새롭게 추가하려는 축의 인덱스를 \n",
    "지정하면 해당 인덱스에 새로운 축이 추가된다 \n",
    "여기서는 축의 인덱스로 -1을 지정했기 때문에 새로운 축은 끝에 추가된다 \n",
    "즉, (60000, 28, 28) 배열이 (60000, 28, 28, 1) 배열이 된다\n",
    "\"\"\"\n",
    "#정규화 (Normalization)\n",
    "x_train = x_train / 255.0\n",
    "x_valid = x_valid / 255.0\n",
    "\n",
    "# 채널 추가\n",
    "x_train_in = tf.expand_dims(x_train, -1)\n",
    "x_valid_in = tf.expand_dims(x_valid, -1)\n",
    "\n",
    "print(x_train_in.shape, x_valid_in.shape)"
   ]
  },
  {
   "cell_type": "code",
   "execution_count": 8,
   "id": "813f7fe1",
   "metadata": {},
   "outputs": [
    {
     "name": "stdout",
     "output_type": "stream",
     "text": [
      "Model: \"model\"\n",
      "__________________________________________________________________________________________________\n",
      " Layer (type)                   Output Shape         Param #     Connected to                     \n",
      "==================================================================================================\n",
      " input_1 (InputLayer)           [(None, 28, 28, 1)]  0           []                               \n",
      "                                                                                                  \n",
      " conv2d (Conv2D)                (None, 26, 26, 32)   320         ['input_1[0][0]']                \n",
      "                                                                                                  \n",
      " max_pooling2d (MaxPooling2D)   (None, 13, 13, 32)   0           ['conv2d[0][0]']                 \n",
      "                                                                                                  \n",
      " flatten (Flatten)              (None, 5408)         0           ['max_pooling2d[0][0]']          \n",
      "                                                                                                  \n",
      " flatten_1 (Flatten)            (None, 784)          0           ['input_1[0][0]']                \n",
      "                                                                                                  \n",
      " concatenate (Concatenate)      (None, 6192)         0           ['flatten[0][0]',                \n",
      "                                                                  'flatten_1[0][0]']              \n",
      "                                                                                                  \n",
      " dense (Dense)                  (None, 10)           61930       ['concatenate[0][0]']            \n",
      "                                                                                                  \n",
      "==================================================================================================\n",
      "Total params: 62,250\n",
      "Trainable params: 62,250\n",
      "Non-trainable params: 0\n",
      "__________________________________________________________________________________________________\n"
     ]
    }
   ],
   "source": [
    "\"\"\"\n",
    "# Functional API로 다중 입력, 다중 출력 레이어 생성\n",
    "\n",
    "Functional API를 사용하면 사용자가 원하는 복잡한 구조의 모델을 만들 수 있다\n",
    "앞에서 다른 Sequential API의 경우 레ㅣ어를 층층이 한 줄로 연결할 수 밖에 없지만,\n",
    "Functional API를 사용하면 다중 입력 또는 다중 출력 같은 구조를 만들 수 있다\n",
    "\n",
    "다음 코드는 입력 레이어 2개의 출력\n",
    "conv, pool, flat 다 직접 생성\n",
    "\"\"\"\n",
    "#Functional API를 사용하여 모델 생성\n",
    "inputs = tf.keras.layers.Input(shape=(28, 28, 1))\n",
    "\n",
    "conv = tf.keras.layers.Conv2D(32, (3, 3), activation =\"relu\")(inputs)\n",
    "pool = tf.keras.layers.MaxPool2D((2, 2))(conv)\n",
    "flat = tf.keras.layers.Flatten()(pool)\n",
    "\n",
    "flat_inputs = tf.keras.layers.Flatten()(inputs)\n",
    "concat = tf.keras.layers.Concatenate()([flat, flat_inputs])\n",
    "outputs = tf.keras.layers.Dense(10, activation=\"softmax\")(concat)\n",
    "\n",
    "model = tf.keras.models.Model(inputs=inputs, outputs=outputs)\n",
    "\n",
    "model.summary()\n"
   ]
  },
  {
   "cell_type": "code",
   "execution_count": 9,
   "id": "26fa782e",
   "metadata": {},
   "outputs": [
    {
     "data": {
      "image/png": "[encoded data removed]",
      "text/plain": [
       "<IPython.core.display.Image object>"
      ]
     },
     "execution_count": 9,
     "metadata": {},
     "output_type": "execute_result"
    }
   ],
   "source": [
    "\"\"\"\n",
    "모델 구조를 그래프로 출력\n",
    "케라스 utils 모듈의 plot_model 함수를 사용하고 \n",
    "모델을 입력하면 모델 구조를 그려준다 별도의 파일로 저장 할 수도 있다\n",
    "\"\"\"\n",
    "#모델 구조 출력 및 이미지 파일로 저장\n",
    "from tensorflow.python.keras.utils.vis_utils import plot_model\n",
    "plot_model(model, show_shapes=True, show_layer_names=True, to_file=\"funcional_cnn.png\")"
   ]
  },
  {
   "cell_type": "code",
   "execution_count": 10,
   "id": "8bbca2f7",
   "metadata": {},
   "outputs": [
    {
     "name": "stdout",
     "output_type": "stream",
     "text": [
      "Epoch 1/10\n",
      "1875/1875 [==============================] - 9s 3ms/step - loss: 0.2079 - accuracy: 0.9406 - val_loss: 0.0849 - val_accuracy: 0.9743\n",
      "Epoch 2/10\n",
      "1875/1875 [==============================] - 6s 3ms/step - loss: 0.0803 - accuracy: 0.9766 - val_loss: 0.0647 - val_accuracy: 0.9795\n",
      "Epoch 3/10\n",
      "1875/1875 [==============================] - 6s 3ms/step - loss: 0.0591 - accuracy: 0.9825 - val_loss: 0.0590 - val_accuracy: 0.9801\n",
      "Epoch 4/10\n",
      "1875/1875 [==============================] - 6s 3ms/step - loss: 0.0480 - accuracy: 0.9852 - val_loss: 0.0642 - val_accuracy: 0.9790\n",
      "Epoch 5/10\n",
      "1875/1875 [==============================] - 6s 3ms/step - loss: 0.0402 - accuracy: 0.9877 - val_loss: 0.0555 - val_accuracy: 0.9829\n",
      "Epoch 6/10\n",
      "1875/1875 [==============================] - 6s 3ms/step - loss: 0.0339 - accuracy: 0.9893 - val_loss: 0.0576 - val_accuracy: 0.9828\n",
      "Epoch 7/10\n",
      "1875/1875 [==============================] - 6s 3ms/step - loss: 0.0278 - accuracy: 0.9913 - val_loss: 0.0586 - val_accuracy: 0.9818\n",
      "Epoch 8/10\n",
      "1875/1875 [==============================] - 6s 3ms/step - loss: 0.0237 - accuracy: 0.9924 - val_loss: 0.0605 - val_accuracy: 0.9815\n",
      "Epoch 9/10\n",
      "1875/1875 [==============================] - 6s 3ms/step - loss: 0.0194 - accuracy: 0.9938 - val_loss: 0.0582 - val_accuracy: 0.9835\n",
      "Epoch 10/10\n",
      "1875/1875 [==============================] - 6s 3ms/step - loss: 0.0180 - accuracy: 0.9941 - val_loss: 0.0551 - val_accuracy: 0.9845\n"
     ]
    }
   ],
   "source": [
    "\"\"\"\n",
    "다중 분류 모델에 맞게 손실함수와 평가지표를 지정하고, 옵티마이저로는 adam을 사용한다\n",
    "10epoch에 대한 모델 훈련을 마치고 검증 데이터에 대한 모델의 예측 성능을 평가한다\n",
    "10개의 숫자 레이블을 마주는 모델의 정확도는 약 98%로서 앞에서 학습했던 Sequential 모델과\n",
    "큰 차이는 없다\n",
    "\"\"\"\n",
    "# 모델 컴파일 \n",
    "model.compile(optimizer=\"adam\", loss = \"sparse_categorical_crossentropy\", metrics=[\"accuracy\"])\n",
    "\n",
    "# 모델 훈련\n",
    "history = model.fit(x_train_in, y_train, validation_data = (x_valid_in, y_valid), epochs=10)"
   ]
  },
  {
   "cell_type": "code",
   "execution_count": 11,
   "id": "be1fa33a",
   "metadata": {},
   "outputs": [
    {
     "name": "stdout",
     "output_type": "stream",
     "text": [
      "313/313 [==============================] - 1s 2ms/step - loss: 0.0551 - accuracy: 0.9845\n",
      "0.05505112186074257 0.984499990940094\n"
     ]
    }
   ],
   "source": [
    "# 모델 성능\n",
    "val_loss, val_acc = model.evaluate(x_valid_in, y_valid)\n",
    "print(val_loss, val_acc)"
   ]
  },
  {
   "cell_type": "code",
   "execution_count": 12,
   "id": "8a6a1f33",
   "metadata": {},
   "outputs": [
    {
     "data": {
      "text/plain": [
       "'\\n# 다중 출력 분류 모델\\n\\n이번에는 두가지 서로 다른 분류 문제를 예측하는 다중 출력 모델을 만들어 본다\\n앞에서 데이터셋을 불러온 후에 홀수, 짝수 정답 재열을 추가해 주었다\\n다음은 0~9 까지 숫자를 맞추는 분류 문제와\\n홀수, 짝수를 맞추는 분류 문제를\\n동시에 풀어내는 모델을 정의하는 코드다\\n각기 다른 문제에 맞도록 최종 분류기의 출력 레이어를 2개 만드는 것이 핵심이다\\n'"
      ]
     },
     "execution_count": 12,
     "metadata": {},
     "output_type": "execute_result"
    }
   ],
   "source": [
    "\"\"\"\n",
    "# 다중 출력 분류 모델\n",
    "\n",
    "이번에는 두가지 서로 다른 분류 문제를 예측하는 다중 출력 모델을 만들어 본다\n",
    "앞에서 데이터셋을 불러온 후에 홀수, 짝수 정답 재열을 추가해 주었다\n",
    "다음은 0~9 까지 숫자를 맞추는 분류 문제와\n",
    "홀수, 짝수를 맞추는 분류 문제를\n",
    "동시에 풀어내는 모델을 정의하는 코드다\n",
    "각기 다른 문제에 맞도록 최종 분류기의 출력 레이어를 2개 만드는 것이 핵심이다\n",
    "\"\"\""
   ]
  },
  {
   "cell_type": "code",
   "execution_count": 13,
   "id": "f9b03b6f",
   "metadata": {},
   "outputs": [
    {
     "name": "stdout",
     "output_type": "stream",
     "text": [
      "Model: \"model_1\"\n",
      "__________________________________________________________________________________________________\n",
      " Layer (type)                   Output Shape         Param #     Connected to                     \n",
      "==================================================================================================\n",
      " inputs (InputLayer)            [(None, 28, 28, 1)]  0           []                               \n",
      "                                                                                                  \n",
      " conv2d_layer (Conv2D)          (None, 26, 26, 32)   320         ['inputs[0][0]']                 \n",
      "                                                                                                  \n",
      " maxpool_layer (MaxPooling2D)   (None, 13, 13, 32)   0           ['conv2d_layer[0][0]']           \n",
      "                                                                                                  \n",
      " flatten_layer (Flatten)        (None, 5408)         0           ['maxpool_layer[0][0]']          \n",
      "                                                                                                  \n",
      " flatten_2 (Flatten)            (None, 784)          0           ['inputs[0][0]']                 \n",
      "                                                                                                  \n",
      " concatenate_1 (Concatenate)    (None, 6192)         0           ['flatten_layer[0][0]',          \n",
      "                                                                  'flatten_2[0][0]']              \n",
      "                                                                                                  \n",
      " digit_dense (Dense)            (None, 10)           61930       ['concatenate_1[0][0]']          \n",
      "                                                                                                  \n",
      " odd_dense (Dense)              (None, 1)            785         ['flatten_2[0][0]']              \n",
      "                                                                                                  \n",
      "==================================================================================================\n",
      "Total params: 63,035\n",
      "Trainable params: 63,035\n",
      "Non-trainable params: 0\n",
      "__________________________________________________________________________________________________\n"
     ]
    }
   ],
   "source": [
    "#Functional API를 사용해 모델 생성\n",
    "inputs = tf.keras.layers.Input(shape=(28, 28, 1), name=\"inputs\")\n",
    "\n",
    "conv = tf.keras.layers.Conv2D(32, (3, 3), activation=\"relu\", name=\"conv2d_layer\")(inputs)\n",
    "pool = tf.keras.layers.MaxPool2D((2, 2), name=\"maxpool_layer\")(conv)\n",
    "flat = tf.keras.layers.Flatten(name = \"flatten_layer\")(pool)\n",
    "\n",
    "flat_inputs = tf.keras.layers.Flatten()(inputs)\n",
    "concat = tf.keras.layers.Concatenate()([flat, flat_inputs])\n",
    "digit_outputs = tf.keras.layers.Dense(10, activation=\"softmax\", name=\"digit_dense\")(concat)\n",
    "\n",
    "odd_outputs = tf.keras.layers.Dense(1, activation=\"sigmoid\", name=\"odd_dense\")(flat_inputs)\n",
    "\n",
    "model = tf.keras.models.Model(inputs=inputs, outputs=[digit_outputs, odd_outputs])\n",
    "\n",
    "model.summary()"
   ]
  },
  {
   "cell_type": "code",
   "execution_count": 14,
   "id": "e13a71df",
   "metadata": {},
   "outputs": [
    {
     "name": "stdout",
     "output_type": "stream",
     "text": [
      "KerasTensor(type_spec=TensorSpec(shape=(None, 28, 28, 1), dtype=tf.float32, name='inputs'), name='inputs', description=\"created by layer 'inputs'\")\n",
      "[<KerasTensor: shape=(None, 10) dtype=float32 (created by layer 'digit_dense')>, <KerasTensor: shape=(None, 1) dtype=float32 (created by layer 'odd_dense')>]\n"
     ]
    }
   ],
   "source": [
    "\"\"\"\n",
    "모델의 입력 텐서와 출력 텐서를 화면에 표시한다\n",
    "입력은 하나이고, 출력은 10개인 텐서와 1개인 테서로 두 개가 확인된다\n",
    "\"\"\"\n",
    "# 모델의 입력과 출력을 나타내는 텐서\n",
    "print(model.input)\n",
    "print(model.output)"
   ]
  },
  {
   "cell_type": "code",
   "execution_count": 15,
   "id": "452a209b",
   "metadata": {},
   "outputs": [
    {
     "data": {
      "image/png": "[encoded data removed]",
      "text/plain": [
       "<IPython.core.display.Image object>"
      ]
     },
     "execution_count": 15,
     "metadata": {},
     "output_type": "execute_result"
    }
   ],
   "source": [
    "\"\"\"\n",
    "모델 구조를 그림으로 표현\n",
    "\"\"\"\n",
    "plot_model(model, show_shapes=True, show_layer_names=True, to_file=\"multi_output_cnn.png\")"
   ]
  },
  {
   "cell_type": "code",
   "execution_count": 16,
   "id": "dfdf0bb0",
   "metadata": {},
   "outputs": [
    {
     "name": "stdout",
     "output_type": "stream",
     "text": [
      "Epoch 1/10\n",
      "1875/1875 [==============================] - 12s 6ms/step - loss: 0.3584 - digit_dense_loss: 0.1958 - odd_dense_loss: 0.3254 - digit_dense_accuracy: 0.9436 - odd_dense_accuracy: 0.8653 - val_loss: 0.2184 - val_digit_dense_loss: 0.0801 - val_odd_dense_loss: 0.2766 - val_digit_dense_accuracy: 0.9758 - val_odd_dense_accuracy: 0.8873\n",
      "Epoch 2/10\n",
      "1875/1875 [==============================] - 11s 6ms/step - loss: 0.2114 - digit_dense_loss: 0.0757 - odd_dense_loss: 0.2715 - digit_dense_accuracy: 0.9778 - odd_dense_accuracy: 0.8909 - val_loss: 0.2000 - val_digit_dense_loss: 0.0683 - val_odd_dense_loss: 0.2634 - val_digit_dense_accuracy: 0.9760 - val_odd_dense_accuracy: 0.8960\n",
      "Epoch 3/10\n",
      "1875/1875 [==============================] - 11s 6ms/step - loss: 0.1889 - digit_dense_loss: 0.0578 - odd_dense_loss: 0.2623 - digit_dense_accuracy: 0.9824 - odd_dense_accuracy: 0.8962 - val_loss: 0.1899 - val_digit_dense_loss: 0.0596 - val_odd_dense_loss: 0.2606 - val_digit_dense_accuracy: 0.9812 - val_odd_dense_accuracy: 0.8973\n",
      "Epoch 4/10\n",
      "1875/1875 [==============================] - 11s 6ms/step - loss: 0.1774 - digit_dense_loss: 0.0478 - odd_dense_loss: 0.2593 - digit_dense_accuracy: 0.9855 - odd_dense_accuracy: 0.8974 - val_loss: 0.1846 - val_digit_dense_loss: 0.0560 - val_odd_dense_loss: 0.2571 - val_digit_dense_accuracy: 0.9820 - val_odd_dense_accuracy: 0.9004\n",
      "Epoch 5/10\n",
      "1875/1875 [==============================] - 11s 6ms/step - loss: 0.1678 - digit_dense_loss: 0.0391 - odd_dense_loss: 0.2573 - digit_dense_accuracy: 0.9877 - odd_dense_accuracy: 0.8989 - val_loss: 0.1920 - val_digit_dense_loss: 0.0620 - val_odd_dense_loss: 0.2599 - val_digit_dense_accuracy: 0.9806 - val_odd_dense_accuracy: 0.8982\n",
      "Epoch 6/10\n",
      "1875/1875 [==============================] - 10s 5ms/step - loss: 0.1612 - digit_dense_loss: 0.0334 - odd_dense_loss: 0.2555 - digit_dense_accuracy: 0.9900 - odd_dense_accuracy: 0.8994 - val_loss: 0.1790 - val_digit_dense_loss: 0.0498 - val_odd_dense_loss: 0.2583 - val_digit_dense_accuracy: 0.9846 - val_odd_dense_accuracy: 0.8997\n",
      "Epoch 7/10\n",
      "1875/1875 [==============================] - 11s 6ms/step - loss: 0.1556 - digit_dense_loss: 0.0282 - odd_dense_loss: 0.2549 - digit_dense_accuracy: 0.9911 - odd_dense_accuracy: 0.9006 - val_loss: 0.1834 - val_digit_dense_loss: 0.0558 - val_odd_dense_loss: 0.2552 - val_digit_dense_accuracy: 0.9826 - val_odd_dense_accuracy: 0.9021\n",
      "Epoch 8/10\n",
      "1875/1875 [==============================] - 10s 5ms/step - loss: 0.1517 - digit_dense_loss: 0.0245 - odd_dense_loss: 0.2543 - digit_dense_accuracy: 0.9922 - odd_dense_accuracy: 0.9010 - val_loss: 0.1833 - val_digit_dense_loss: 0.0558 - val_odd_dense_loss: 0.2550 - val_digit_dense_accuracy: 0.9844 - val_odd_dense_accuracy: 0.9019\n",
      "Epoch 9/10\n",
      "1875/1875 [==============================] - 12s 6ms/step - loss: 0.1472 - digit_dense_loss: 0.0204 - odd_dense_loss: 0.2536 - digit_dense_accuracy: 0.9936 - odd_dense_accuracy: 0.9014 - val_loss: 0.1859 - val_digit_dense_loss: 0.0579 - val_odd_dense_loss: 0.2561 - val_digit_dense_accuracy: 0.9834 - val_odd_dense_accuracy: 0.9026\n",
      "Epoch 10/10\n",
      "1875/1875 [==============================] - 9s 5ms/step - loss: 0.1433 - digit_dense_loss: 0.0166 - odd_dense_loss: 0.2532 - digit_dense_accuracy: 0.9950 - odd_dense_accuracy: 0.9017 - val_loss: 0.1926 - val_digit_dense_loss: 0.0644 - val_odd_dense_loss: 0.2563 - val_digit_dense_accuracy: 0.9835 - val_odd_dense_accuracy: 0.9024\n"
     ]
    }
   ],
   "source": [
    "\"\"\"\n",
    "모델을 컴파일 할 때 주의할 내용이 있다\n",
    "앞서 모델을 정의할 때 각각의 출력 Dense 레이어에 name 속성으로 \"digit_dense\", \"odd_dense\"\n",
    "와 같은 이름을 지정한 것을 떠올리자\n",
    "여기서 지정한 이름을 key로 하고, 해당 key에 해당하는 레이어에 적용할 손실함수와 가중치를 \n",
    "딕셔너리 형태로 지정한다\n",
    "\n",
    "모델을 훈련시키기 위해 fit() 메소드를 적용할 때도 출력 값을 2개 지정하고,\n",
    "레이어 이름 속성을 key로 하는 딕셔너리 형태로 각각의 출력에 맞는 정답 배열을 입력해야 한다\n",
    "검증 데이터셋에 대해서도 마찬가지로 구분해 지정한다\n",
    "\"\"\"\n",
    "\n",
    "# 모델 컴파일\n",
    "model.compile(optimizer=\"adam\", loss={\"digit_dense\": \"sparse_categorical_crossentropy\", \n",
    "                                     \"odd_dense\": \"binary_crossentropy\"},\n",
    "             loss_weights = {\"digit_dense\":1, \"odd_dense\": 0.5},\n",
    "             #loss = 1.0 * sparse_categorical_crossentropy + 0.5 * binary_crossengropy\n",
    "             metrics=[\"accuracy\"])\n",
    "\n",
    "# 모델 훈련\n",
    "history = model.fit({\"inputs\": x_train_in}, {\"digit_dense\":y_train, \"odd_dense\":y_train_odd},\n",
    "                   validation_data = ({\"inputs\": x_valid_in}, {\"digit_dense\":y_valid,\n",
    "                                                              \"odd_dense\":y_valid_odd}),\n",
    "                   epochs = 10)"
   ]
  },
  {
   "cell_type": "code",
   "execution_count": 17,
   "id": "2a91ad1b",
   "metadata": {},
   "outputs": [
    {
     "name": "stdout",
     "output_type": "stream",
     "text": [
      "313/313 [==============================] - 1s 4ms/step - loss: 0.1926 - digit_dense_loss: 0.0644 - odd_dense_loss: 0.2563 - digit_dense_accuracy: 0.9835 - odd_dense_accuracy: 0.9024\n"
     ]
    },
    {
     "data": {
      "text/plain": [
       "[0.1925724446773529,\n",
       " 0.06443197280168533,\n",
       " 0.25628113746643066,\n",
       " 0.9835000038146973,\n",
       " 0.902400016784668]"
      ]
     },
     "execution_count": 17,
     "metadata": {},
     "output_type": "execute_result"
    }
   ],
   "source": [
    "#모델 성능\n",
    "model.evaluate({\"inputs\": x_valid_in}, {\"digit_dense\": y_valid, \"odd_dense\": y_valid_odd})"
   ]
  },
  {
   "cell_type": "code",
   "execution_count": 18,
   "id": "ce4661ee",
   "metadata": {},
   "outputs": [],
   "source": [
    "# 홀수 여부를 판단하는 분류기에 레이어를 더 추가해 예측 정확도를 높일 여지가 있다"
   ]
  },
  {
   "cell_type": "code",
   "execution_count": 19,
   "id": "3f823036",
   "metadata": {},
   "outputs": [
    {
     "data": {
      "image/png": "[encoded data removed]",
      "text/plain": [
       "<Figure size 360x360 with 1 Axes>"
      ]
     },
     "metadata": {
      "needs_background": "light"
     },
     "output_type": "display_data"
    }
   ],
   "source": [
    "#샘플 이미지 출력\n",
    "import matplotlib.pylab as plt\n",
    "\n",
    "def plot_image(data, idx):\n",
    "    plt.figure(figsize=(5, 5))\n",
    "    plt.imshow(data[idx])\n",
    "    plt.axis(\"off\")\n",
    "    plt.show()\n",
    "    \n",
    "plot_image(x_valid, 0)"
   ]
  },
  {
   "cell_type": "code",
   "execution_count": 20,
   "id": "016afb46",
   "metadata": {},
   "outputs": [
    {
     "name": "stdout",
     "output_type": "stream",
     "text": [
      "[1.5253930e-12 1.1868387e-11 3.8581884e-09 7.6898800e-08 2.7256460e-13\n",
      " 6.9954768e-13 2.6531592e-20 9.9999988e-01 9.5354676e-11 7.5736741e-09]\n",
      "[0.9995714]\n"
     ]
    }
   ],
   "source": [
    "\"\"\"\n",
    "검증 데이터셋의 모든 이미지 데이터를 입력해서 2개의 분류 문제에 대한 예측 확률을 \n",
    "구하면 다음과 같다. 첫 번째 예측 값은 10개 분류 레이블에 대한 확률을 담고 있고,\n",
    "두 번째 예측 값은 홀수일 확률을 담고 있다\n",
    "숫자 7 이미지에 대한 예측 확률을 print 함수로 출력하면 다음과 같다\n",
    "\"\"\"\n",
    "digit_preds, odd_preds = model.predict(x_valid_in)\n",
    "print(digit_preds[0])\n",
    "print(odd_preds[0])"
   ]
  },
  {
   "cell_type": "code",
   "execution_count": 21,
   "id": "af59e370",
   "metadata": {},
   "outputs": [
    {
     "data": {
      "text/plain": [
       "array([7, 2, 1, 0, 4, 1, 4, 9, 5, 9], dtype=int64)"
      ]
     },
     "execution_count": 21,
     "metadata": {},
     "output_type": "execute_result"
    }
   ],
   "source": [
    "\"\"\"\n",
    "넘파이 argmax 함수를 이용하여 예측 확률을 실제 정답 레이블로 변환한다\n",
    "검증 데이터셋의 첫 10개 이미지에 대한 예측 레이블은 다음과 같고 첫 번째 이미지를 7로 \n",
    "예측하고 있다\n",
    "\"\"\"\n",
    "digit_labels = np.argmax(digit_preds, axis = -1)\n",
    "digit_labels[:10]"
   ]
  },
  {
   "cell_type": "code",
   "execution_count": 22,
   "id": "1e299526",
   "metadata": {},
   "outputs": [
    {
     "name": "stderr",
     "output_type": "stream",
     "text": [
      "C:\\Users\\its_me1\\AppData\\Local\\Temp/ipykernel_48208/625446759.py:6: DeprecationWarning: `np.int` is a deprecated alias for the builtin `int`. To silence this warning, use `int` by itself. Doing this will not modify any behavior and is safe. When replacing `np.int`, you may wish to use e.g. `np.int64` or `np.int32` to specify the precision. If you wish to review your current use, check the release note link for additional information.\n",
      "Deprecated in NumPy 1.20; for more details and guidance: https://numpy.org/devdocs/release/1.20.0-notes.html#deprecations\n",
      "  odd_labels = (odd_preds > 0.5 ).astype(np.int).reshape(1, -1)[0]\n"
     ]
    },
    {
     "data": {
      "text/plain": [
       "array([1, 0, 1, 0, 0, 1, 0, 1, 0, 1])"
      ]
     },
     "execution_count": 22,
     "metadata": {},
     "output_type": "execute_result"
    }
   ],
   "source": [
    "\"\"\"\n",
    "홀수, 짝수 여부에 대한 예측 레이블을 출력하면 다음과 같다\n",
    "임계값(threshold)으로 0.5를 지정했는데 홀수일 확률이 0.5보다 큰 경우 \n",
    "홀수로 분류하기로 한다\n",
    "\"\"\"\n",
    "odd_labels = (odd_preds > 0.5 ).astype(np.int).reshape(1, -1)[0]\n",
    "odd_labels[:10]"
   ]
  },
  {
   "cell_type": "code",
   "execution_count": 23,
   "id": "61ca0a11",
   "metadata": {},
   "outputs": [
    {
     "name": "stdout",
     "output_type": "stream",
     "text": [
      "Model: \"base\"\n",
      "_________________________________________________________________\n",
      " Layer (type)                Output Shape              Param #   \n",
      "=================================================================\n",
      " inputs (InputLayer)         [(None, 28, 28, 1)]       0         \n",
      "                                                                 \n",
      " conv2d_layer (Conv2D)       (None, 26, 26, 32)        320       \n",
      "                                                                 \n",
      " maxpool_layer (MaxPooling2D  (None, 13, 13, 32)       0         \n",
      " )                                                               \n",
      "                                                                 \n",
      " flatten_layer (Flatten)     (None, 5408)              0         \n",
      "                                                                 \n",
      "=================================================================\n",
      "Total params: 320\n",
      "Trainable params: 320\n",
      "Non-trainable params: 0\n",
      "_________________________________________________________________\n"
     ]
    }
   ],
   "source": [
    "\"\"\"\n",
    "# 전이 학습\n",
    "앞서 훈련한 모델의 일부를 가져와서 그대로 사용하고, 최종 출력층만 새롭게 추가하여 \n",
    "모델을 재구성 할 수 있다 \n",
    "이처럼 기존에 학습된 모델을 활용해 새로운 모델을 만들어 내는 개념을 \n",
    "Transfer Learning 이라고 부른다\n",
    "\n",
    "먼저 앞에서 학습한 모델에서 입력 레이어부터 \"flatten_layer\"라는 name 속성을 갖는 Flatten층까지\n",
    "해당하는 부분을 따로 추출하여, base_model 객체를 만든다\n",
    "모델 개요를 출력해서 확인해 보면 (28, 28, 1)이미지를 받아서 5408개의 피처로 특징을 \n",
    "추출해 출력하는 모델이다\n",
    "\"\"\"\n",
    "# 앞의 모델 flatten_layer 출력을 추출\n",
    "base_model_output = model.get_layer(\"flatten_layer\").output\n",
    "\n",
    "#앞의 출력을 출력으로 하는 모델 정의\n",
    "base_model = tf.keras.models.Model(inputs=model.input, outputs=base_model_output,\n",
    "                                  name = \"base\")\n",
    "base_model.summary()\n"
   ]
  },
  {
   "cell_type": "code",
   "execution_count": 24,
   "id": "2c7b591d",
   "metadata": {},
   "outputs": [
    {
     "data": {
      "image/png": "[encoded data removed]",
      "text/plain": [
       "<IPython.core.display.Image object>"
      ]
     },
     "execution_count": 24,
     "metadata": {},
     "output_type": "execute_result"
    }
   ],
   "source": [
    "\"\"\"\n",
    "모델 구조 시각화\n",
    "\"\"\"\n",
    "plot_model(base_model, show_shapes=True, show_layer_names=True, to_file=\"base_model.png\")"
   ]
  },
  {
   "cell_type": "code",
   "execution_count": 25,
   "id": "da81bf72",
   "metadata": {},
   "outputs": [
    {
     "name": "stdout",
     "output_type": "stream",
     "text": [
      "Model: \"sequential\"\n",
      "_________________________________________________________________\n",
      " Layer (type)                Output Shape              Param #   \n",
      "=================================================================\n",
      " base (Functional)           (None, 5408)              320       \n",
      "                                                                 \n",
      " dense_1 (Dense)             (None, 10)                54090     \n",
      "                                                                 \n",
      "=================================================================\n",
      "Total params: 54,410\n",
      "Trainable params: 54,410\n",
      "Non-trainable params: 0\n",
      "_________________________________________________________________\n"
     ]
    }
   ],
   "source": [
    "\"\"\"\n",
    "Sequential API를 사용하여 앞에서 정의하 base_model을 레이어로 추가하고, \n",
    "최종 분류기 역할을 하는 Dense 레이어를 새롭게 이어서 추가해 준다\n",
    "\"\"\"\n",
    "# Sequential API 적용\n",
    "digit_model = tf.keras.Sequential([\n",
    "    base_model,\n",
    "    tf.keras.layers.Dense(10, activation=\"softmax\"),\n",
    "])\n",
    "digit_model.summary()"
   ]
  },
  {
   "cell_type": "code",
   "execution_count": 27,
   "id": "92921ae5",
   "metadata": {},
   "outputs": [
    {
     "ename": "AssertionError",
     "evalue": "",
     "output_type": "error",
     "traceback": [
      "\u001b[1;31m---------------------------------------------------------------------------\u001b[0m",
      "\u001b[1;31mAssertionError\u001b[0m                            Traceback (most recent call last)",
      "\u001b[1;32m~\\AppData\\Local\\Temp/ipykernel_48208/2495281324.py\u001b[0m in \u001b[0;36m<module>\u001b[1;34m\u001b[0m\n\u001b[0;32m      3\u001b[0m \u001b[0m노드\u001b[0m \u001b[1;36m10\u001b[0m\u001b[0m개를\u001b[0m \u001b[0m가진\u001b[0m \u001b[0m분류기\u001b[0m \u001b[0m역할을\u001b[0m \u001b[0m하는\u001b[0m \u001b[0mDense\u001b[0m \u001b[0m레이어가\u001b[0m \u001b[0m추가됨\u001b[0m\u001b[1;33m\u001b[0m\u001b[1;33m\u001b[0m\u001b[0m\n\u001b[0;32m      4\u001b[0m \"\"\"\n\u001b[1;32m----> 5\u001b[1;33m \u001b[0mplot_model\u001b[0m\u001b[1;33m(\u001b[0m\u001b[0mdigit_model\u001b[0m\u001b[1;33m,\u001b[0m \u001b[0mshow_shapes\u001b[0m\u001b[1;33m=\u001b[0m\u001b[1;32mTrue\u001b[0m\u001b[1;33m,\u001b[0m \u001b[0mshow_layer_names\u001b[0m \u001b[1;33m=\u001b[0m \u001b[1;32mTrue\u001b[0m\u001b[1;33m,\u001b[0m \u001b[0mto_file\u001b[0m\u001b[1;33m=\u001b[0m\u001b[1;34m\"digit_model.png\"\u001b[0m\u001b[1;33m)\u001b[0m\u001b[1;33m\u001b[0m\u001b[1;33m\u001b[0m\u001b[0m\n\u001b[0m",
      "\u001b[1;32mc:\\programdata\\anaconda3\\envs\\tensor1\\lib\\site-packages\\tensorflow\\python\\keras\\utils\\vis_utils.py\u001b[0m in \u001b[0;36mplot_model\u001b[1;34m(model, to_file, show_shapes, show_dtype, show_layer_names, rankdir, expand_nested, dpi)\u001b[0m\n\u001b[0;32m    320\u001b[0m     \u001b[0mThis\u001b[0m \u001b[0menables\u001b[0m \u001b[1;32min\u001b[0m\u001b[1;33m-\u001b[0m\u001b[0mline\u001b[0m \u001b[0mdisplay\u001b[0m \u001b[0mof\u001b[0m \u001b[0mthe\u001b[0m \u001b[0mmodel\u001b[0m \u001b[0mplots\u001b[0m \u001b[1;32min\u001b[0m \u001b[0mnotebooks\u001b[0m\u001b[1;33m.\u001b[0m\u001b[1;33m\u001b[0m\u001b[1;33m\u001b[0m\u001b[0m\n\u001b[0;32m    321\u001b[0m   \"\"\"\n\u001b[1;32m--> 322\u001b[1;33m   dot = model_to_dot(\n\u001b[0m\u001b[0;32m    323\u001b[0m       \u001b[0mmodel\u001b[0m\u001b[1;33m,\u001b[0m\u001b[1;33m\u001b[0m\u001b[1;33m\u001b[0m\u001b[0m\n\u001b[0;32m    324\u001b[0m       \u001b[0mshow_shapes\u001b[0m\u001b[1;33m=\u001b[0m\u001b[0mshow_shapes\u001b[0m\u001b[1;33m,\u001b[0m\u001b[1;33m\u001b[0m\u001b[1;33m\u001b[0m\u001b[0m\n",
      "\u001b[1;32mc:\\programdata\\anaconda3\\envs\\tensor1\\lib\\site-packages\\tensorflow\\python\\keras\\utils\\vis_utils.py\u001b[0m in \u001b[0;36mmodel_to_dot\u001b[1;34m(model, show_shapes, show_dtype, show_layer_names, rankdir, expand_nested, dpi, subgraph)\u001b[0m\n\u001b[0;32m    236\u001b[0m           \u001b[0minbound_layer_id\u001b[0m \u001b[1;33m=\u001b[0m \u001b[0mstr\u001b[0m\u001b[1;33m(\u001b[0m\u001b[0mid\u001b[0m\u001b[1;33m(\u001b[0m\u001b[0minbound_layer\u001b[0m\u001b[1;33m)\u001b[0m\u001b[1;33m)\u001b[0m\u001b[1;33m\u001b[0m\u001b[1;33m\u001b[0m\u001b[0m\n\u001b[0;32m    237\u001b[0m           \u001b[1;32mif\u001b[0m \u001b[1;32mnot\u001b[0m \u001b[0mexpand_nested\u001b[0m\u001b[1;33m:\u001b[0m\u001b[1;33m\u001b[0m\u001b[1;33m\u001b[0m\u001b[0m\n\u001b[1;32m--> 238\u001b[1;33m             \u001b[1;32massert\u001b[0m \u001b[0mdot\u001b[0m\u001b[1;33m.\u001b[0m\u001b[0mget_node\u001b[0m\u001b[1;33m(\u001b[0m\u001b[0minbound_layer_id\u001b[0m\u001b[1;33m)\u001b[0m\u001b[1;33m\u001b[0m\u001b[1;33m\u001b[0m\u001b[0m\n\u001b[0m\u001b[0;32m    239\u001b[0m             \u001b[1;32massert\u001b[0m \u001b[0mdot\u001b[0m\u001b[1;33m.\u001b[0m\u001b[0mget_node\u001b[0m\u001b[1;33m(\u001b[0m\u001b[0mlayer_id\u001b[0m\u001b[1;33m)\u001b[0m\u001b[1;33m\u001b[0m\u001b[1;33m\u001b[0m\u001b[0m\n\u001b[0;32m    240\u001b[0m             \u001b[0madd_edge\u001b[0m\u001b[1;33m(\u001b[0m\u001b[0mdot\u001b[0m\u001b[1;33m,\u001b[0m \u001b[0minbound_layer_id\u001b[0m\u001b[1;33m,\u001b[0m \u001b[0mlayer_id\u001b[0m\u001b[1;33m)\u001b[0m\u001b[1;33m\u001b[0m\u001b[1;33m\u001b[0m\u001b[0m\n",
      "\u001b[1;31mAssertionError\u001b[0m: "
     ]
    }
   ],
   "source": [
    "\"\"\"\n",
    "모델 구조 확인\n",
    "노드 10개를 가진 분류기 역할을 하는 Dense 레이어가 추가됨\n",
    "\"\"\"\n",
    "plot_model(digit_model, show_shapes=True, show_layer_names = True, to_file=\"digit_model.png\")"
   ]
  },
  {
   "cell_type": "code",
   "execution_count": 28,
   "id": "b0b08489",
   "metadata": {},
   "outputs": [
    {
     "name": "stdout",
     "output_type": "stream",
     "text": [
      "Epoch 1/10\n",
      "1875/1875 [==============================] - 5s 3ms/step - loss: 0.1313 - accuracy: 0.9630 - val_loss: 0.0586 - val_accuracy: 0.9814\n",
      "Epoch 2/10\n",
      "1875/1875 [==============================] - 5s 3ms/step - loss: 0.0572 - accuracy: 0.9833 - val_loss: 0.0550 - val_accuracy: 0.9819\n",
      "Epoch 3/10\n",
      "1875/1875 [==============================] - 5s 3ms/step - loss: 0.0443 - accuracy: 0.9863 - val_loss: 0.0505 - val_accuracy: 0.9826\n",
      "Epoch 4/10\n",
      "1875/1875 [==============================] - 5s 3ms/step - loss: 0.0345 - accuracy: 0.9896 - val_loss: 0.0513 - val_accuracy: 0.9841\n",
      "Epoch 5/10\n",
      "1875/1875 [==============================] - 5s 3ms/step - loss: 0.0281 - accuracy: 0.9911 - val_loss: 0.0493 - val_accuracy: 0.9844\n",
      "Epoch 6/10\n",
      "1875/1875 [==============================] - 5s 3ms/step - loss: 0.0224 - accuracy: 0.9930 - val_loss: 0.0538 - val_accuracy: 0.9841\n",
      "Epoch 7/10\n",
      "1875/1875 [==============================] - 5s 3ms/step - loss: 0.0193 - accuracy: 0.9941 - val_loss: 0.0517 - val_accuracy: 0.9844\n",
      "Epoch 8/10\n",
      "1875/1875 [==============================] - 6s 3ms/step - loss: 0.0157 - accuracy: 0.9950 - val_loss: 0.0561 - val_accuracy: 0.9844\n",
      "Epoch 9/10\n",
      "1875/1875 [==============================] - 5s 3ms/step - loss: 0.0134 - accuracy: 0.9956 - val_loss: 0.0524 - val_accuracy: 0.9852\n",
      "Epoch 10/10\n",
      "1875/1875 [==============================] - 5s 3ms/step - loss: 0.0106 - accuracy: 0.9966 - val_loss: 0.0558 - val_accuracy: 0.9841\n"
     ]
    }
   ],
   "source": [
    "\"\"\"\n",
    "모델 컴파일\n",
    "\"\"\"\n",
    "# 모델 컴파일 \n",
    "digit_model.compile(optimizer=\"adam\", loss=\"sparse_categorical_crossentropy\",\n",
    "                   metrics=[\"accuracy\"])\n",
    "\n",
    "# 모델 훈련\n",
    "history = digit_model.fit(x_train_in, y_train,\n",
    "                         validation_data=(x_valid_in, y_valid), \n",
    "                         epochs = 10)"
   ]
  },
  {
   "cell_type": "code",
   "execution_count": 30,
   "id": "374abfb4",
   "metadata": {},
   "outputs": [
    {
     "name": "stdout",
     "output_type": "stream",
     "text": [
      "Model: \"base_frozen\"\n",
      "_________________________________________________________________\n",
      " Layer (type)                Output Shape              Param #   \n",
      "=================================================================\n",
      " inputs (InputLayer)         [(None, 28, 28, 1)]       0         \n",
      "                                                                 \n",
      " conv2d_layer (Conv2D)       (None, 26, 26, 32)        320       \n",
      "                                                                 \n",
      " maxpool_layer (MaxPooling2D  (None, 13, 13, 32)       0         \n",
      " )                                                               \n",
      "                                                                 \n",
      " flatten_layer (Flatten)     (None, 5408)              0         \n",
      "                                                                 \n",
      "=================================================================\n",
      "Total params: 320\n",
      "Trainable params: 0\n",
      "Non-trainable params: 320\n",
      "_________________________________________________________________\n"
     ]
    }
   ],
   "source": [
    "\"\"\"\n",
    "모델 인스턴스는 trainable 속성을 가지고 있다\n",
    "이 속성을 False로 지정하면 모델의 파라미터 값이 고정되어 \n",
    "훈련을 통해서 업데이트 되지 않는다 \n",
    "이런 방식으로 base_model_frozen을 구성한다\n",
    "훈련 가능한 파라미터 개수가 0으로 확인\n",
    "\"\"\"\n",
    "# 베이스 모델의 가중치 고정(Freeze Model)\n",
    "base_model_frozen = tf.keras.models.Model(inputs=model.input,\n",
    "                                        outputs= base_model_output,\n",
    "                                        name = \"base_frozen\")\n",
    "base_model_frozen.trainable = False\n",
    "base_model_frozen.summary()"
   ]
  },
  {
   "cell_type": "code",
   "execution_count": 31,
   "id": "bb361e67",
   "metadata": {},
   "outputs": [
    {
     "name": "stdout",
     "output_type": "stream",
     "text": [
      "Model: \"model_2\"\n",
      "_________________________________________________________________\n",
      " Layer (type)                Output Shape              Param #   \n",
      "=================================================================\n",
      " inputs (InputLayer)         [(None, 28, 28, 1)]       0         \n",
      "                                                                 \n",
      " conv2d_layer (Conv2D)       (None, 26, 26, 32)        320       \n",
      "                                                                 \n",
      " maxpool_layer (MaxPooling2D  (None, 13, 13, 32)       0         \n",
      " )                                                               \n",
      "                                                                 \n",
      " flatten_layer (Flatten)     (None, 5408)              0         \n",
      "                                                                 \n",
      " dense_2 (Dense)             (None, 10)                54090     \n",
      "                                                                 \n",
      "=================================================================\n",
      "Total params: 54,410\n",
      "Trainable params: 54,090\n",
      "Non-trainable params: 320\n",
      "_________________________________________________________________\n"
     ]
    }
   ],
   "source": [
    "\"\"\"\n",
    "이번에는 파라미터를 고정한 base_model_input 모델과 새로운 분류기 역할을 하는 Dense레이어를 \n",
    "Functional API를 적용하여 구성해 본다. Sequential API로 구성하는 방식과 차이점에 유의한다\n",
    "\n",
    "총 파라미터 개수는 54410개이고 앞서 고정한 320개의 파라미터는 훈련이 불가능하다는 것이 \n",
    "표시되어있다. 훈련이 가능한 파라미터는 Flatten 레이어의 출력 5408개와 Dense 레이어의 10개\n",
    "노드 사이의 가중치만 해당된다\n",
    "즉 Flatten 레이어 이전에 존재하는 Conv2D 레이어의 파라미터 320개는 \n",
    "포한되지 않게 된다는 뜻\n",
    "\"\"\"\n",
    "#Functional API 적용\n",
    "dense_output = tf.keras.layers.Dense(10, activation=\"softmax\")(base_model_frozen.output)\n",
    "digit_model_frozen =tf.keras.models.Model(inputs=base_model_frozen.input,\n",
    "                                         outputs = dense_output)\n",
    "digit_model_frozen.summary()"
   ]
  },
  {
   "cell_type": "code",
   "execution_count": 33,
   "id": "688e523c",
   "metadata": {},
   "outputs": [
    {
     "name": "stdout",
     "output_type": "stream",
     "text": [
      "Epoch 1/10\n",
      "1875/1875 [==============================] - 5s 3ms/step - loss: 0.1167 - accuracy: 0.9680 - val_loss: 0.0542 - val_accuracy: 0.9826\n",
      "Epoch 2/10\n",
      "1875/1875 [==============================] - 5s 3ms/step - loss: 0.0492 - accuracy: 0.9854 - val_loss: 0.0580 - val_accuracy: 0.9815\n",
      "Epoch 3/10\n",
      "1875/1875 [==============================] - 6s 3ms/step - loss: 0.0354 - accuracy: 0.9890 - val_loss: 0.0514 - val_accuracy: 0.9831\n",
      "Epoch 4/10\n",
      "1875/1875 [==============================] - 6s 3ms/step - loss: 0.0278 - accuracy: 0.9916 - val_loss: 0.0495 - val_accuracy: 0.9844\n",
      "Epoch 5/10\n",
      "1875/1875 [==============================] - 6s 3ms/step - loss: 0.0219 - accuracy: 0.9934 - val_loss: 0.0588 - val_accuracy: 0.9826\n",
      "Epoch 6/10\n",
      "1875/1875 [==============================] - 5s 3ms/step - loss: 0.0183 - accuracy: 0.9944 - val_loss: 0.0514 - val_accuracy: 0.9845\n",
      "Epoch 7/10\n",
      "1875/1875 [==============================] - 5s 3ms/step - loss: 0.0141 - accuracy: 0.9956 - val_loss: 0.0527 - val_accuracy: 0.9845\n",
      "Epoch 8/10\n",
      "1875/1875 [==============================] - 5s 3ms/step - loss: 0.0123 - accuracy: 0.9965 - val_loss: 0.0522 - val_accuracy: 0.9850\n",
      "Epoch 9/10\n",
      "1875/1875 [==============================] - 5s 3ms/step - loss: 0.0102 - accuracy: 0.9972 - val_loss: 0.0578 - val_accuracy: 0.9841\n",
      "Epoch 10/10\n",
      "1875/1875 [==============================] - 5s 3ms/step - loss: 0.0082 - accuracy: 0.9978 - val_loss: 0.0535 - val_accuracy: 0.9844\n"
     ]
    }
   ],
   "source": [
    "\"\"\"\n",
    "모델을 컴파일 하고 훈련\n",
    "\"\"\"\n",
    "#모델 컴파일\n",
    "digit_model_frozen.compile(optimizer=\"adam\", loss=\"sparse_categorical_crossentropy\",\n",
    "                          metrics=[\"accuracy\"])\n",
    "\n",
    "#모델 훈련\n",
    "history = digit_model_frozen.fit(x_train_in, y_train, \n",
    "                                validation_data=(x_valid_in, y_valid),\n",
    "                                epochs=10)"
   ]
  },
  {
   "cell_type": "code",
   "execution_count": 34,
   "id": "383ae8cb",
   "metadata": {},
   "outputs": [
    {
     "name": "stdout",
     "output_type": "stream",
     "text": [
      "Model: \"base_frozen2\"\n",
      "_________________________________________________________________\n",
      " Layer (type)                Output Shape              Param #   \n",
      "=================================================================\n",
      " inputs (InputLayer)         [(None, 28, 28, 1)]       0         \n",
      "                                                                 \n",
      " conv2d_layer (Conv2D)       (None, 26, 26, 32)        320       \n",
      "                                                                 \n",
      " maxpool_layer (MaxPooling2D  (None, 13, 13, 32)       0         \n",
      " )                                                               \n",
      "                                                                 \n",
      " flatten_layer (Flatten)     (None, 5408)              0         \n",
      "                                                                 \n",
      "=================================================================\n",
      "Total params: 320\n",
      "Trainable params: 0\n",
      "Non-trainable params: 320\n",
      "_________________________________________________________________\n"
     ]
    }
   ],
   "source": [
    "\"\"\"\n",
    "모델 전체가 아니라 특정 레이어를 지정하여 파라미터가 업데이트 되지 않도록 고정하는 방법도\n",
    "가능하다. 다음은 Conv2D 레이어를 취소하고 trainable 속성을 False로 지정하는 예제\n",
    "\"\"\"\n",
    "# 베이스 모델의 Conv2D 레이어의 가중치만 고정 (Freee Layer)\n",
    "base_model_frozen2 = tf.keras.models.Model(inputs=model.input,\n",
    "                                          outputs= base_model_output,\n",
    "                                          name=\"base_frozen2\")\n",
    "base_model_frozen2.get_layer(\"conv2d_layer\").trainable = False\n",
    "base_model_frozen2.summary()"
   ]
  },
  {
   "cell_type": "code",
   "execution_count": 35,
   "id": "15e01d99",
   "metadata": {},
   "outputs": [
    {
     "name": "stdout",
     "output_type": "stream",
     "text": [
      "Model: \"model_3\"\n",
      "_________________________________________________________________\n",
      " Layer (type)                Output Shape              Param #   \n",
      "=================================================================\n",
      " inputs (InputLayer)         [(None, 28, 28, 1)]       0         \n",
      "                                                                 \n",
      " conv2d_layer (Conv2D)       (None, 26, 26, 32)        320       \n",
      "                                                                 \n",
      " maxpool_layer (MaxPooling2D  (None, 13, 13, 32)       0         \n",
      " )                                                               \n",
      "                                                                 \n",
      " flatten_layer (Flatten)     (None, 5408)              0         \n",
      "                                                                 \n",
      " dense_3 (Dense)             (None, 10)                54090     \n",
      "                                                                 \n",
      "=================================================================\n",
      "Total params: 54,410\n",
      "Trainable params: 54,090\n",
      "Non-trainable params: 320\n",
      "_________________________________________________________________\n"
     ]
    }
   ],
   "source": [
    "\"\"\"\n",
    "앞에서 고정한 모델에 새로운 분류기 역할을 하는 Dense 레이어를 연결하여 모델을 구성한다\n",
    "\"\"\"\n",
    "# Functional API 적용\n",
    "dense_output2 = tf.keras.layers.Dense(10, activation=\"softmax\")(base_model_frozen2.output)\n",
    "\n",
    "digit_model_frozen2 = tf.keras.models.Model(inputs=base_model_frozen2.input,\n",
    "                                           outputs = dense_output2)\n",
    "digit_model_frozen2.summary()"
   ]
  },
  {
   "cell_type": "code",
   "execution_count": 36,
   "id": "be4e30da",
   "metadata": {},
   "outputs": [
    {
     "name": "stdout",
     "output_type": "stream",
     "text": [
      "Epoch 1/10\n",
      "1875/1875 [==============================] - 5s 3ms/step - loss: 0.1136 - accuracy: 0.9689 - val_loss: 0.0555 - val_accuracy: 0.9818\n",
      "Epoch 2/10\n",
      "1875/1875 [==============================] - 5s 3ms/step - loss: 0.0482 - accuracy: 0.9857 - val_loss: 0.0504 - val_accuracy: 0.9838\n",
      "Epoch 3/10\n",
      "1875/1875 [==============================] - 5s 3ms/step - loss: 0.0352 - accuracy: 0.9891 - val_loss: 0.0571 - val_accuracy: 0.9815\n",
      "Epoch 4/10\n",
      "1875/1875 [==============================] - 5s 3ms/step - loss: 0.0278 - accuracy: 0.9912 - val_loss: 0.0548 - val_accuracy: 0.9835\n",
      "Epoch 5/10\n",
      "1875/1875 [==============================] - 5s 3ms/step - loss: 0.0218 - accuracy: 0.9934 - val_loss: 0.0527 - val_accuracy: 0.9846\n",
      "Epoch 6/10\n",
      "1875/1875 [==============================] - 5s 3ms/step - loss: 0.0178 - accuracy: 0.9946 - val_loss: 0.0573 - val_accuracy: 0.9829\n",
      "Epoch 7/10\n",
      "1875/1875 [==============================] - 6s 3ms/step - loss: 0.0148 - accuracy: 0.9957 - val_loss: 0.0519 - val_accuracy: 0.9844\n",
      "Epoch 8/10\n",
      "1875/1875 [==============================] - 5s 3ms/step - loss: 0.0116 - accuracy: 0.9970 - val_loss: 0.0572 - val_accuracy: 0.9840\n",
      "Epoch 9/10\n",
      "1875/1875 [==============================] - 6s 3ms/step - loss: 0.0112 - accuracy: 0.9966 - val_loss: 0.0543 - val_accuracy: 0.9852\n",
      "Epoch 10/10\n",
      "1875/1875 [==============================] - 5s 3ms/step - loss: 0.0080 - accuracy: 0.9977 - val_loss: 0.0609 - val_accuracy: 0.9831\n"
     ]
    }
   ],
   "source": [
    "\"\"\"\n",
    "모델 컴파일\n",
    "\"\"\"\n",
    "# 모델 컴파일 \n",
    "digit_model_frozen2.compile(optimizer=\"adam\", loss=\"sparse_categorical_crossentropy\",\n",
    "                           metrics=[\"accuracy\"])\n",
    "\n",
    "# 모델 훈련\n",
    "history = digit_model_frozen2.fit(x_train_in, y_train,\n",
    "                                 validation_data=(x_valid_in, y_valid),\n",
    "                                 epochs =10)"
   ]
  },
  {
   "cell_type": "code",
   "execution_count": null,
   "id": "cbd6a7f1",
   "metadata": {},
   "outputs": [],
   "source": []
  }
 ],
 "metadata": {
  "kernelspec": {
   "display_name": "Python 3 (ipykernel)",
   "language": "python",
   "name": "python3"
  },
  "language_info": {
   "codemirror_mode": {
    "name": "ipython",
    "version": 3
   },
   "file_extension": ".py",
   "mimetype": "text/x-python",
   "name": "python",
   "nbconvert_exporter": "python",
   "pygments_lexer": "ipython3",
   "version": "3.8.12"
  }
 },
 "nbformat": 4,
 "nbformat_minor": 5
}
