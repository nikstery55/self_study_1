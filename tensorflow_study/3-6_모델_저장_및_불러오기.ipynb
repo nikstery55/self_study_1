{
 "cells": [
  {
   "cell_type": "code",
   "execution_count": 1,
   "id": "44e1b981",
   "metadata": {},
   "outputs": [],
   "source": [
    "import tensorflow as tf\n",
    "\n",
    "#ㅔ라스의 내장 데이터셋에서 mnist 데이터셋 로드\n",
    "mnist = tf.keras.datasets.mnist\n",
    "\n",
    "#load_data()로 데이터셋 로드\n",
    "(x_train, y_train), (x_test, y_test) = mnist.load_data()\n",
    "\n",
    "# 데이터 정규화\n",
    "x_train = x_train / x_train.max()\n",
    "x_test = x_test / x_test.max()\n"
   ]
  },
  {
   "cell_type": "code",
   "execution_count": 2,
   "id": "a362d355",
   "metadata": {},
   "outputs": [],
   "source": [
    "#책에 중략으로 코드가 빠진것을 확인 - 모델 아무거나 불러옴\n",
    "# 모델정의 \n",
    "model = tf.keras.Sequential([\n",
    "    tf.keras.layers.Flatten(input_shape=(28, 28)),\n",
    "    tf.keras.layers.Dense(256, activation=\"relu\"),\n",
    "    tf.keras.layers.Dense(64, activation=\"relu\"),\n",
    "    tf.keras.layers.Dense(32, activation=\"relu\"),\n",
    "    # 노드=10개가 되어야 한다\n",
    "    tf.keras.layers.Dense(10, activation=\"softmax\"),\n",
    "])\n",
    "\n",
    "#모델 컴파일\n",
    "model.compile(optimizer = \"adam\", loss=\"sparse_categorical_crossentropy\", metrics = [\"accuracy\"])"
   ]
  },
  {
   "cell_type": "code",
   "execution_count": 3,
   "id": "510f41d8",
   "metadata": {},
   "outputs": [],
   "source": [
    "# 체크포인트 설정\n",
    "checkpoint = tf.keras.callbacks.ModelCheckpoint(filepath = \"tmp_checkpoint.ckpt\",\n",
    "                                               save_weights_only = True,\n",
    "                                               save_best_only = True,\n",
    "                                               monitor = \"val_loss\",\n",
    "                                               verbose=1)"
   ]
  },
  {
   "cell_type": "code",
   "execution_count": 4,
   "id": "a2e52194",
   "metadata": {},
   "outputs": [
    {
     "name": "stdout",
     "output_type": "stream",
     "text": [
      "Epoch 1/10\n",
      "1865/1875 [============================>.] - ETA: 0s - loss: 0.2324 - accuracy: 0.9307\n",
      "Epoch 00001: val_loss improved from inf to 0.11862, saving model to tmp_checkpoint.ckpt\n",
      "1875/1875 [==============================] - 9s 4ms/step - loss: 0.2320 - accuracy: 0.9309 - val_loss: 0.1186 - val_accuracy: 0.9646\n",
      "Epoch 2/10\n",
      "1873/1875 [============================>.] - ETA: 0s - loss: 0.0962 - accuracy: 0.9697\n",
      "Epoch 00002: val_loss improved from 0.11862 to 0.08548, saving model to tmp_checkpoint.ckpt\n",
      "1875/1875 [==============================] - 7s 4ms/step - loss: 0.0962 - accuracy: 0.9697 - val_loss: 0.0855 - val_accuracy: 0.9732\n",
      "Epoch 3/10\n",
      "1867/1875 [============================>.] - ETA: 0s - loss: 0.0657 - accuracy: 0.9797\n",
      "Epoch 00003: val_loss improved from 0.08548 to 0.07941, saving model to tmp_checkpoint.ckpt\n",
      "1875/1875 [==============================] - 11s 6ms/step - loss: 0.0658 - accuracy: 0.9797 - val_loss: 0.0794 - val_accuracy: 0.9756\n",
      "Epoch 4/10\n",
      "1856/1875 [============================>.] - ETA: 0s - loss: 0.0520 - accuracy: 0.9833\n",
      "Epoch 00004: val_loss did not improve from 0.07941\n",
      "1875/1875 [==============================] - 8s 4ms/step - loss: 0.0519 - accuracy: 0.9833 - val_loss: 0.0900 - val_accuracy: 0.9751\n",
      "Epoch 5/10\n",
      "1869/1875 [============================>.] - ETA: 0s - loss: 0.0390 - accuracy: 0.9879\n",
      "Epoch 00005: val_loss improved from 0.07941 to 0.07525, saving model to tmp_checkpoint.ckpt\n",
      "1875/1875 [==============================] - 9s 5ms/step - loss: 0.0391 - accuracy: 0.9879 - val_loss: 0.0752 - val_accuracy: 0.9781\n",
      "Epoch 6/10\n",
      "1873/1875 [============================>.] - ETA: 0s - loss: 0.0343 - accuracy: 0.9893\n",
      "Epoch 00006: val_loss improved from 0.07525 to 0.07372, saving model to tmp_checkpoint.ckpt\n",
      "1875/1875 [==============================] - 11s 6ms/step - loss: 0.0344 - accuracy: 0.9893 - val_loss: 0.0737 - val_accuracy: 0.9796\n",
      "Epoch 7/10\n",
      "1864/1875 [============================>.] - ETA: 0s - loss: 0.0279 - accuracy: 0.9906\n",
      "Epoch 00007: val_loss did not improve from 0.07372\n",
      "1875/1875 [==============================] - 7s 4ms/step - loss: 0.0280 - accuracy: 0.9906 - val_loss: 0.0993 - val_accuracy: 0.9739\n",
      "Epoch 8/10\n",
      "1868/1875 [============================>.] - ETA: 0s - loss: 0.0237 - accuracy: 0.9926\n",
      "Epoch 00008: val_loss did not improve from 0.07372\n",
      "1875/1875 [==============================] - 10s 5ms/step - loss: 0.0236 - accuracy: 0.9926 - val_loss: 0.1031 - val_accuracy: 0.9746\n",
      "Epoch 9/10\n",
      "1875/1875 [==============================] - ETA: 0s - loss: 0.0254 - accuracy: 0.9921\n",
      "Epoch 00009: val_loss did not improve from 0.07372\n",
      "1875/1875 [==============================] - 11s 6ms/step - loss: 0.0254 - accuracy: 0.9921 - val_loss: 0.0918 - val_accuracy: 0.9774\n",
      "Epoch 10/10\n",
      "1874/1875 [============================>.] - ETA: 0s - loss: 0.0172 - accuracy: 0.9944\n",
      "Epoch 00010: val_loss did not improve from 0.07372\n",
      "1875/1875 [==============================] - 7s 3ms/step - loss: 0.0172 - accuracy: 0.9944 - val_loss: 0.0981 - val_accuracy: 0.9776\n"
     ]
    },
    {
     "data": {
      "text/plain": [
       "<keras.callbacks.History at 0x128919b0df0>"
      ]
     },
     "execution_count": 4,
     "metadata": {},
     "output_type": "execute_result"
    }
   ],
   "source": [
    "model.fit(x_train, y_train,\n",
    "         validation_data=(x_test,y_test),\n",
    "         epochs=10,\n",
    "         callbacks=[checkpoint]\n",
    "         )"
   ]
  },
  {
   "cell_type": "code",
   "execution_count": 5,
   "id": "2a1d0c67",
   "metadata": {},
   "outputs": [],
   "source": [
    "\"\"\"\n",
    "#모델을 파일로 저장\n",
    "훈련 종료하여 가중치가 업데이트된 모델 인스턴스를 저장할 수 있다.\n",
    "save() 메소드를 사용하는데, save()메소드를 호출할 때 저장할 파일의 디렉토리를 포함하는 파일명을 매개변수로 지정한다\n",
    "모델을 저장되는 형식은 HDF5 포맷과 SavedModel 포맷 두 가지가 있다\n",
    "\n",
    "모델을 저장할 파일명이 .h5 확장자를 포함하는 경우는 모델이 HDF%(Hierarchical Data Fromat)포맷으로 저장한다\n",
    "HDF5 파일 형식은 대용량의 데이터를 저장하기 위한 파일 형식\n",
    "\"\"\"\n",
    "# 모델을 h5 포맷으로 저장\n",
    "model.save(\"h5-model.h5\")"
   ]
  },
  {
   "cell_type": "code",
   "execution_count": 6,
   "id": "dbf620d0",
   "metadata": {},
   "outputs": [
    {
     "name": "stdout",
     "output_type": "stream",
     "text": [
      "Model: \"sequential\"\n",
      "_________________________________________________________________\n",
      " Layer (type)                Output Shape              Param #   \n",
      "=================================================================\n",
      " flatten (Flatten)           (None, 784)               0         \n",
      "                                                                 \n",
      " dense (Dense)               (None, 256)               200960    \n",
      "                                                                 \n",
      " dense_1 (Dense)             (None, 64)                16448     \n",
      "                                                                 \n",
      " dense_2 (Dense)             (None, 32)                2080      \n",
      "                                                                 \n",
      " dense_3 (Dense)             (None, 10)                330       \n",
      "                                                                 \n",
      "=================================================================\n",
      "Total params: 219,818\n",
      "Trainable params: 219,818\n",
      "Non-trainable params: 0\n",
      "_________________________________________________________________\n"
     ]
    }
   ],
   "source": [
    "\"\"\"\n",
    "# 저장된 모델 복원\n",
    "tensorflow.keras.models.load_model()메소드로 저장된 모델을 복원할 수 있다.\n",
    "저장된 HDF5 파일 형식의 모델을 복원하여 summary()를 확인하면 모델 구조가 그대로 복원되어 있다\n",
    "\"\"\"\n",
    "\n",
    "#모델 복원\n",
    "h5_model = tf.keras.models.load_model(\"h5-model.h5\")\n",
    "h5_model.summary()"
   ]
  },
  {
   "cell_type": "code",
   "execution_count": 7,
   "id": "42629791",
   "metadata": {},
   "outputs": [
    {
     "name": "stdout",
     "output_type": "stream",
     "text": [
      "h5 model] loss: 0.09809, acc:0.977600\n"
     ]
    }
   ],
   "source": [
    "\"\"\"\n",
    "복원한 모델을 검증하여 복원이 잘 되었는지 확인한다. 검증 셋을 evaluate 함수에 대입해, 손실함수와 평가지표를 계산한다\n",
    "\"\"\"\n",
    "# 모델 검증\n",
    "loss, acc = h5_model.evaluate(x_test, y_test, verbose=0)\n",
    "print(f\"h5 model] loss: {loss:.5f}, acc:{acc:5f}\")"
   ]
  },
  {
   "cell_type": "code",
   "execution_count": 8,
   "id": "90968380",
   "metadata": {},
   "outputs": [
    {
     "name": "stdout",
     "output_type": "stream",
     "text": [
      "INFO:tensorflow:Assets written to: saved-model\\assets\n"
     ]
    }
   ],
   "source": [
    "\"\"\"\n",
    "h5 확장자를 생략하면 SavedModel 포맷으로 저장되며 텐서플로우2에서 기본으로 지원하는 파일 포맷이다.\n",
    "SavedModel 포맷으로 저장된 모델을 복원할 때 HDF5와 같은 방식으로 복원하면 된다\n",
    "\"\"\"\n",
    "# 모델을 SavedModel 포맷으로 저장\n",
    "model.save(\"saved-model\")"
   ]
  },
  {
   "cell_type": "code",
   "execution_count": 9,
   "id": "d2b48af4",
   "metadata": {},
   "outputs": [
    {
     "name": "stdout",
     "output_type": "stream",
     "text": [
      "Model: \"sequential\"\n",
      "_________________________________________________________________\n",
      " Layer (type)                Output Shape              Param #   \n",
      "=================================================================\n",
      " flatten (Flatten)           (None, 784)               0         \n",
      "                                                                 \n",
      " dense (Dense)               (None, 256)               200960    \n",
      "                                                                 \n",
      " dense_1 (Dense)             (None, 64)                16448     \n",
      "                                                                 \n",
      " dense_2 (Dense)             (None, 32)                2080      \n",
      "                                                                 \n",
      " dense_3 (Dense)             (None, 10)                330       \n",
      "                                                                 \n",
      "=================================================================\n",
      "Total params: 219,818\n",
      "Trainable params: 219,818\n",
      "Non-trainable params: 0\n",
      "_________________________________________________________________\n"
     ]
    }
   ],
   "source": [
    "\"\"\"\n",
    "SavedModel 포맷으로 저장된 모델을 복원하여 summary()확인한다\n",
    "\"\"\"\n",
    "# 모델 복원\n",
    "saved_model = tf.keras.models.load_model(\"saved-model\")\n",
    "saved_model.summary()"
   ]
  },
  {
   "cell_type": "code",
   "execution_count": 10,
   "id": "3179dcb6",
   "metadata": {},
   "outputs": [
    {
     "name": "stdout",
     "output_type": "stream",
     "text": [
      "h5 model- loss:0.098094, acc:0.977600\n",
      "Saved model- loss:0.098094, acc:0.977600\n"
     ]
    }
   ],
   "source": [
    "\"\"\"\n",
    "SavedModel 형식으로 저장 및 복원된 모델의 성능을 확인하면, \n",
    "HDF5형식으로 저장 및 복원된 모델과 동일한 성능을 나타낸다\n",
    "\"\"\"\n",
    "# 모델 검증(HDF5 포맷)\n",
    "loss, acc = h5_model.evaluate(x_test, y_test, verbose=0)\n",
    "print(f\"h5 model- loss:{loss:5f}, acc:{acc:5f}\")\n",
    "\n",
    "# 모델 검증 (SavedModel 포맷)\n",
    "loss, acc = saved_model.evaluate(x_test, y_test, verbose=0)\n",
    "print(f\"Saved model- loss:{loss:5f}, acc:{acc:5f}\")\n"
   ]
  },
  {
   "cell_type": "code",
   "execution_count": null,
   "id": "bdf38f48",
   "metadata": {},
   "outputs": [],
   "source": []
  }
 ],
 "metadata": {
  "kernelspec": {
   "display_name": "Python 3 (ipykernel)",
   "language": "python",
   "name": "python3"
  },
  "language_info": {
   "codemirror_mode": {
    "name": "ipython",
    "version": 3
   },
   "file_extension": ".py",
   "mimetype": "text/x-python",
   "name": "python",
   "nbconvert_exporter": "python",
   "pygments_lexer": "ipython3",
   "version": "3.8.12"
  }
 },
 "nbformat": 4,
 "nbformat_minor": 5
}
