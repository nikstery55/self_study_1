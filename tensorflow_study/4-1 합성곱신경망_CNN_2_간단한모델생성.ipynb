{
 "cells": [
  {
   "cell_type": "code",
   "execution_count": 1,
   "id": "ae8938b1",
   "metadata": {},
   "outputs": [],
   "source": [
    "\"\"\"\n",
    "2 # 간단한 모델 생성\n",
    "\n",
    "데이터 로드 및 전처리\n",
    "\"\"\"\n",
    "\n",
    "#trensorflow 모듈 import\n",
    "import tensorflow as tf"
   ]
  },
  {
   "cell_type": "code",
   "execution_count": 2,
   "id": "f4ecfd0f",
   "metadata": {},
   "outputs": [
    {
     "name": "stdout",
     "output_type": "stream",
     "text": [
      "(60000, 28, 28) (60000,)\n",
      "(10000, 28, 28) (10000,)\n"
     ]
    }
   ],
   "source": [
    "#mnist 손글씨 이미지 데이터 로드\n",
    "mnist = tf.keras.datasets.mnist\n",
    "(x_train, y_train), (x_valid, y_valid) = mnist.load_data()\n",
    "\n",
    "print(x_train.shape, y_train.shape)\n",
    "print(x_valid.shape, y_valid.shape)"
   ]
  },
  {
   "cell_type": "code",
   "execution_count": 3,
   "id": "8594c2fd",
   "metadata": {},
   "outputs": [
    {
     "data": {
      "image/png": "[encoded data removed]",
      "text/plain": [
       "<Figure size 360x360 with 1 Axes>"
      ]
     },
     "metadata": {
      "needs_background": "light"
     },
     "output_type": "display_data"
    }
   ],
   "source": [
    "#샘플 이미지 출력\n",
    "import matplotlib.pylab as plt\n",
    "\n",
    "def plot_image(data, idx):\n",
    "    plt.figure(figsize = (5, 5))\n",
    "    plt.imshow(data[idx], cmap=\"gray\")\n",
    "    plt.axis(\"off\")\n",
    "    plt.show()\n",
    "    \n",
    "plot_image(x_train, 0)"
   ]
  },
  {
   "cell_type": "code",
   "execution_count": 4,
   "id": "574385d2",
   "metadata": {},
   "outputs": [
    {
     "name": "stdout",
     "output_type": "stream",
     "text": [
      "0 255\n",
      "0 255\n"
     ]
    }
   ],
   "source": [
    "\"\"\"\n",
    "훈련 셋과 검증 셋의 이미지 픽셀을 나타내는 값의 최소값, 최대값 확인\n",
    "\"\"\"\n",
    "print(x_train.min(), x_train.max())\n",
    "print(x_valid.min(), x_valid.max())"
   ]
  },
  {
   "cell_type": "code",
   "execution_count": 5,
   "id": "63f013dd",
   "metadata": {},
   "outputs": [
    {
     "name": "stdout",
     "output_type": "stream",
     "text": [
      "0.0 1.0\n",
      "0.0 1.0\n"
     ]
    }
   ],
   "source": [
    "\"\"\"\n",
    "딥러닝 모델의 안정적인 학습을 위해서 입력 이미지 픽셀 값을 정규화 변환한다\n",
    "이미지 픽셀 값을 최대값 255로 나누어 주면 0~1 범위로 스케일이 정규화\n",
    "\"\"\"\n",
    "# 정규화 (Normalization)\n",
    "x_train = x_train / 255.0\n",
    "x_valid = x_valid / 255.0\n",
    "\n",
    "print(x_train.min(), x_train.max())\n",
    "print(x_valid.min(), x_valid.max())"
   ]
  },
  {
   "cell_type": "code",
   "execution_count": 6,
   "id": "380fa3b1",
   "metadata": {},
   "outputs": [
    {
     "name": "stdout",
     "output_type": "stream",
     "text": [
      "(60000, 28, 28) (10000, 28, 28)\n",
      "(60000, 28, 28, 1) (10000, 28, 28, 1)\n"
     ]
    }
   ],
   "source": [
    "\"\"\"\n",
    "mnist 데이터셋은 색상을 나타내는 채널이 1개이다. CNN모델에 주입하기 위해서는 \n",
    "색상을 나타내는 채널을 추가해 준다\n",
    "다음 코드는 tf.newaxis 축을 텐서 배열에 직접 추가하는 방식\n",
    "따라서 (60000,28, 28) 형태의 텐서가 (60000,28, 28, 1) 형태로 변환\n",
    "\"\"\"\n",
    "#채널 추가 \n",
    "print(x_train.shape, x_valid.shape)\n",
    "\n",
    "x_train_in = x_train[..., tf.newaxis]\n",
    "x_valid_in = x_valid[..., tf.newaxis]\n",
    "\n",
    "print(x_train_in.shape, x_valid_in.shape)"
   ]
  },
  {
   "cell_type": "code",
   "execution_count": 7,
   "id": "d3fda18a",
   "metadata": {},
   "outputs": [],
   "source": [
    "\"\"\"\n",
    "### Sequential API로 모델 생성 및 학습\n",
    "\n",
    "Sequential API를 사용하여 합성곱 레이어 1개, 풀링 레이어 1개를 적용하는 간단한 모델 생성\n",
    "\n",
    "최종 분류기로 Dense 레이어를 적용하기 위해, Flatten 층을 추가하여 1차원 배열로 펼쳐준다\n",
    "합성곱은 Conv2D 레이어를 사용하고(3, 3) 크기의 서로 다른 32가지 종류의 커널을 적용한다\n",
    "ReLU 활성화 함수를 적용한다. name속성에 레이어의 이름은 'conv'라고 지정\n",
    "\n",
    "풀링 레이어는(2, 2) 크기로 최대 풀링(max pooling)을 적용하고, 레이어 이름 속성도 추가해준다\n",
    "최종 분류기는 정답 레이블이 0~9까지 10개의 값을 가지므로 노드 개수를 10으로 하고\n",
    "분류 클래스가 10개인 다중 분류 문제이므로 활성화 함수로 softmax 적용\n",
    "\"\"\"\n",
    "#Sequential API를 사용해 샘플 모델 생성\n",
    "model = tf.keras.Sequential([\n",
    "    #Convolution 적용(32 필터)\n",
    "    tf.keras.layers.Conv2D(32, (3, 3), activation=\"relu\", input_shape=(28, 28, 1) ,name =\"conv\"),\n",
    "    #Max Pooling 적용\n",
    "    tf.keras.layers.MaxPooling2D((2, 2), name=\"pool\"),\n",
    "    \n",
    "    #classifier 출력층\n",
    "    tf.keras.layers.Flatten(),\n",
    "    tf.keras.layers.Dense(10, activation=\"softmax\"),\n",
    "])\n",
    "\n"
   ]
  },
  {
   "cell_type": "code",
   "execution_count": 8,
   "id": "40917f92",
   "metadata": {},
   "outputs": [
    {
     "name": "stdout",
     "output_type": "stream",
     "text": [
      "Model: \"sequential\"\n",
      "_________________________________________________________________\n",
      " Layer (type)                Output Shape              Param #   \n",
      "=================================================================\n",
      " conv (Conv2D)               (None, 26, 26, 32)        320       \n",
      "                                                                 \n",
      " pool (MaxPooling2D)         (None, 13, 13, 32)        0         \n",
      "                                                                 \n",
      " flatten (Flatten)           (None, 5408)              0         \n",
      "                                                                 \n",
      " dense (Dense)               (None, 10)                54090     \n",
      "                                                                 \n",
      "=================================================================\n",
      "Total params: 54,410\n",
      "Trainable params: 54,410\n",
      "Non-trainable params: 0\n",
      "_________________________________________________________________\n"
     ]
    }
   ],
   "source": [
    " model.summary()"
   ]
  },
  {
   "cell_type": "code",
   "execution_count": 9,
   "id": "56a2a307",
   "metadata": {},
   "outputs": [],
   "source": [
    "\"\"\"\n",
    "정의한 모델 구조에 옵티마이저, 손실함수, 평가지표를 설정해 주고 컴파일하면 모델 인스턴스가 생성\n",
    "fit() 메소드에 훈련 셋과 검증 셋을 주입하고, epoch를 10으로 지정\n",
    "\"\"\"\n",
    "# 모델 컴파일\n",
    "model.compile(optimizer=\"adam\", loss=\"sparse_categorical_crossentropy\",\n",
    "             metrics=[\"accuracy\"])"
   ]
  },
  {
   "cell_type": "code",
   "execution_count": 10,
   "id": "e92051fb",
   "metadata": {},
   "outputs": [
    {
     "name": "stdout",
     "output_type": "stream",
     "text": [
      "Epoch 1/10\n",
      "1875/1875 [==============================] - 11s 3ms/step - loss: 0.2139 - accuracy: 0.9397 - val_loss: 0.0905 - val_accuracy: 0.9715\n",
      "Epoch 2/10\n",
      "1875/1875 [==============================] - 6s 3ms/step - loss: 0.0806 - accuracy: 0.9766 - val_loss: 0.0619 - val_accuracy: 0.9800\n",
      "Epoch 3/10\n",
      "1875/1875 [==============================] - 6s 3ms/step - loss: 0.0609 - accuracy: 0.9822 - val_loss: 0.0611 - val_accuracy: 0.9801\n",
      "Epoch 4/10\n",
      "1875/1875 [==============================] - 6s 3ms/step - loss: 0.0516 - accuracy: 0.9847 - val_loss: 0.0557 - val_accuracy: 0.9825\n",
      "Epoch 5/10\n",
      "1875/1875 [==============================] - 6s 3ms/step - loss: 0.0429 - accuracy: 0.9873 - val_loss: 0.0562 - val_accuracy: 0.9826\n",
      "Epoch 6/10\n",
      "1875/1875 [==============================] - 6s 3ms/step - loss: 0.0376 - accuracy: 0.9888 - val_loss: 0.0562 - val_accuracy: 0.9826\n",
      "Epoch 7/10\n",
      "1875/1875 [==============================] - 6s 3ms/step - loss: 0.0322 - accuracy: 0.9902 - val_loss: 0.0528 - val_accuracy: 0.9834\n",
      "Epoch 8/10\n",
      "1875/1875 [==============================] - 6s 3ms/step - loss: 0.0259 - accuracy: 0.9923 - val_loss: 0.0543 - val_accuracy: 0.9840\n",
      "Epoch 9/10\n",
      "1875/1875 [==============================] - 6s 3ms/step - loss: 0.0233 - accuracy: 0.9930 - val_loss: 0.0719 - val_accuracy: 0.9802\n",
      "Epoch 10/10\n",
      "1875/1875 [==============================] - 6s 3ms/step - loss: 0.0197 - accuracy: 0.9941 - val_loss: 0.0547 - val_accuracy: 0.9836\n"
     ]
    }
   ],
   "source": [
    "# 모델 훈련\n",
    "history = model.fit(x_train_in, y_train, validation_data=(x_valid_in, y_valid), epochs=10)"
   ]
  },
  {
   "cell_type": "code",
   "execution_count": 11,
   "id": "8c2e133f",
   "metadata": {},
   "outputs": [
    {
     "name": "stdout",
     "output_type": "stream",
     "text": [
      "313/313 [==============================] - 1s 2ms/step - loss: 0.0547 - accuracy: 0.9836\n"
     ]
    },
    {
     "data": {
      "text/plain": [
       "[0.054728101938962936, 0.9836000204086304]"
      ]
     },
     "execution_count": 11,
     "metadata": {},
     "output_type": "execute_result"
    }
   ],
   "source": [
    "\"\"\"\n",
    "evaluate()메소드를 모델 인스턴스에 적용하면 모델의 학습된 가중치를 사용하여\n",
    "손실과 평가지표를 계산\n",
    "\"\"\"\n",
    "model.evaluate(x_valid_in, y_valid)"
   ]
  },
  {
   "cell_type": "code",
   "execution_count": 12,
   "id": "f89c6f2b",
   "metadata": {
    "scrolled": true
   },
   "outputs": [
    {
     "data": {
      "image/png": "[encoded data removed]",
      "text/plain": [
       "<Figure size 864x288 with 2 Axes>"
      ]
     },
     "metadata": {
      "needs_background": "light"
     },
     "output_type": "display_data"
    }
   ],
   "source": [
    "\"\"\"\n",
    "모델 훈련 단계에서 훈련 결과를 history 객체에 저장해 두었다\n",
    "10 epoch 동안 모델의 예측 오차와 정확도를 그래프로 그리는 함수를 정의하고 실행\n",
    "그래프를 보면 훈련 셋에 대한 손실은 계속 줄어드는데 \n",
    "검증 셋의 손실은 어느 수준에서 더 이상 낮아지지 않는다.\n",
    "모델이 과적합으로 진행되었다는 것을 파악할 수 있다\n",
    "\"\"\"\n",
    "def plot_loss_acc(history, epoch):\n",
    "    \n",
    "    loss, val_loss = history.history[\"loss\"], history.history[\"val_loss\"]\n",
    "    acc, val_acc = history.history[\"accuracy\"], history.history[\"val_accuracy\"]\n",
    "    \n",
    "    fig, axes = plt.subplots(1, 2, figsize=(12, 4))\n",
    "    \n",
    "    axes[0].plot(range(1, epoch +1), loss, label=\"Training\")\n",
    "    axes[0].plot(range(1, epoch +1), val_loss, label=\"Validation\")\n",
    "    axes[0].legend(loc=\"best\")\n",
    "    axes[0].set_title(\"Loss\")\n",
    "    \n",
    "    axes[1].plot(range(1, epoch +1), loss, label=\"Training\")\n",
    "    axes[1].plot(range(1, epoch +1), val_loss, label=\"Validation\")\n",
    "    axes[1].legend(loc=\"best\")\n",
    "    axes[1].set_title(\"Accuracy\")\n",
    "    \n",
    "    plt.show()\n",
    "plot_loss_acc(history, 10)"
   ]
  },
  {
   "cell_type": "code",
   "execution_count": 13,
   "id": "d9ed09ba",
   "metadata": {},
   "outputs": [
    {
     "name": "stdout",
     "output_type": "stream",
     "text": [
      "Model: \"sequential\"\n",
      "_________________________________________________________________\n",
      " Layer (type)                Output Shape              Param #   \n",
      "=================================================================\n",
      " conv (Conv2D)               (None, 26, 26, 32)        320       \n",
      "                                                                 \n",
      " pool (MaxPooling2D)         (None, 13, 13, 32)        0         \n",
      "                                                                 \n",
      " flatten (Flatten)           (None, 5408)              0         \n",
      "                                                                 \n",
      " dense (Dense)               (None, 10)                54090     \n",
      "                                                                 \n",
      "=================================================================\n",
      "Total params: 54,410\n",
      "Trainable params: 54,410\n",
      "Non-trainable params: 0\n",
      "_________________________________________________________________\n"
     ]
    }
   ],
   "source": [
    "\"\"\"\n",
    "#모델 구조 파악\n",
    "즉, 이미지를 입력받아 특징을 추출하고 이미지가 나타내는 숫자를 예측할 수 있다\n",
    "\"\"\"\n",
    "model.summary()"
   ]
  },
  {
   "cell_type": "code",
   "execution_count": 14,
   "id": "dcc865f3",
   "metadata": {},
   "outputs": [
    {
     "data": {
      "text/plain": [
       "<KerasTensor: shape=(None, 28, 28, 1) dtype=float32 (created by layer 'conv_input')>"
      ]
     },
     "execution_count": 14,
     "metadata": {},
     "output_type": "execute_result"
    }
   ],
   "source": [
    "\"\"\"\n",
    "생성된 모델 인스턴스의 input 속성으로부터 입력 레이어의 텐서를 추출할 수 있다\n",
    "입력 텐서는 (None, 28, 28, 1)형태인데, 가장 앞에 있는 축(axis = 0)의 None 값은 \n",
    "배치 크기가 들어오는 위치로서 배치 크기로 어떤 값이든 가능하다는 의미\n",
    "\"\"\"\n",
    "#입력 텐서 형태\n",
    "model.input"
   ]
  },
  {
   "cell_type": "code",
   "execution_count": 15,
   "id": "c4cb53b1",
   "metadata": {},
   "outputs": [
    {
     "data": {
      "text/plain": [
       "<KerasTensor: shape=(None, 10) dtype=float32 (created by layer 'dense')>"
      ]
     },
     "execution_count": 15,
     "metadata": {},
     "output_type": "execute_result"
    }
   ],
   "source": [
    "#출력 텐서 형태\n",
    "model.output"
   ]
  },
  {
   "cell_type": "code",
   "execution_count": 16,
   "id": "448892b1",
   "metadata": {},
   "outputs": [
    {
     "data": {
      "text/plain": [
       "[<keras.layers.convolutional.Conv2D at 0x1d102eaf730>,\n",
       " <keras.layers.pooling.MaxPooling2D at 0x1d102eafac0>,\n",
       " <keras.layers.core.flatten.Flatten at 0x1d10001cbb0>,\n",
       " <keras.layers.core.dense.Dense at 0x1d1000a0310>]"
      ]
     },
     "execution_count": 16,
     "metadata": {},
     "output_type": "execute_result"
    }
   ],
   "source": [
    "#레이어\n",
    "model.layers"
   ]
  },
  {
   "cell_type": "code",
   "execution_count": 17,
   "id": "dfa7b40e",
   "metadata": {},
   "outputs": [
    {
     "data": {
      "text/plain": [
       "<keras.layers.convolutional.Conv2D at 0x1d102eaf730>"
      ]
     },
     "execution_count": 17,
     "metadata": {},
     "output_type": "execute_result"
    }
   ],
   "source": [
    "\"\"\"\n",
    "모델 레이어의 인덱싱\n",
    "\"\"\"\n",
    "# 첫 번째 레이어 선택\n",
    "model.layers[0]"
   ]
  },
  {
   "cell_type": "code",
   "execution_count": 18,
   "id": "14f78c2f",
   "metadata": {},
   "outputs": [
    {
     "data": {
      "text/plain": [
       "<KerasTensor: shape=(None, 28, 28, 1) dtype=float32 (created by layer 'conv_input')>"
      ]
     },
     "execution_count": 18,
     "metadata": {},
     "output_type": "execute_result"
    }
   ],
   "source": [
    "\"\"\"\n",
    "각 레이어에 입력되는 텐서를 따로 선택하는 것도 가능\n",
    "앞의 Conv2D 레이어에는 모델 입력 데이터가 그대로 들어가기 때문에 (None, 28, 28, 1)형태\n",
    "\"\"\"\n",
    "# 첫 번째 레이어 입력\n",
    "model.layers[0].input"
   ]
  },
  {
   "cell_type": "code",
   "execution_count": 19,
   "id": "11c6ea81",
   "metadata": {},
   "outputs": [
    {
     "data": {
      "text/plain": [
       "<KerasTensor: shape=(None, 26, 26, 32) dtype=float32 (created by layer 'conv')>"
      ]
     },
     "execution_count": 19,
     "metadata": {},
     "output_type": "execute_result"
    }
   ],
   "source": [
    "\"\"\"\n",
    "레이어 출력도 확인 가능\n",
    "\"\"\"\n",
    "# 첫 번째 레이어 출력\n",
    "model.layers[0].output"
   ]
  },
  {
   "cell_type": "code",
   "execution_count": 20,
   "id": "4139aef6",
   "metadata": {},
   "outputs": [
    {
     "data": {
      "text/plain": [
       "[<tf.Variable 'conv/kernel:0' shape=(3, 3, 1, 32) dtype=float32, numpy=\n",
       " array([[[[-1.00929475e+00, -8.03060353e-01,  1.83768764e-01,\n",
       "           -8.37378353e-02, -1.58654362e-01, -8.35157037e-01,\n",
       "            3.53081197e-01,  5.69516905e-02,  1.40678525e-01,\n",
       "           -3.86334002e-01,  4.80747633e-02, -1.18425168e-01,\n",
       "           -9.28918600e-01, -7.82569945e-01, -4.35625583e-01,\n",
       "            3.25846314e-01,  6.01838470e-01,  3.24839503e-01,\n",
       "            1.20918021e-01,  1.14796840e-01,  5.51862657e-01,\n",
       "           -8.70760009e-02,  2.56367087e-01, -2.22061947e-01,\n",
       "            2.27648348e-01, -3.22003454e-01,  1.82236061e-01,\n",
       "            2.48326555e-01, -3.55266035e-01,  2.92568445e-01,\n",
       "           -7.43591011e-01, -4.16104589e-03]],\n",
       " \n",
       "         [[-1.92516707e-02, -7.43229866e-01, -1.74576268e-02,\n",
       "            1.83062658e-01,  4.37800497e-01, -8.93882127e-04,\n",
       "            1.26738384e-01,  4.78476584e-01,  2.14606777e-01,\n",
       "           -3.90419930e-01, -2.19247609e-01,  1.19025856e-01,\n",
       "           -7.59764254e-01, -2.23376706e-01, -1.12520292e-01,\n",
       "            1.01470329e-01,  3.41333359e-01,  3.32413882e-01,\n",
       "            5.64458668e-01,  1.99726507e-01,  3.64081502e-01,\n",
       "           -1.33377194e-01, -3.37670475e-01,  1.78574294e-01,\n",
       "           -6.32530868e-01, -6.05424166e-01,  4.01606351e-01,\n",
       "            2.38072187e-01,  1.16481580e-01,  2.25296691e-01,\n",
       "           -7.40482286e-02,  2.33522624e-01]],\n",
       " \n",
       "         [[ 5.42446911e-01, -6.98962629e-01, -5.94318688e-01,\n",
       "            2.89520591e-01,  4.66432333e-01,  4.63300347e-01,\n",
       "           -7.96490908e-01,  1.14048071e-01,  1.13026276e-01,\n",
       "            7.72992224e-02, -9.76740420e-02,  4.63663191e-01,\n",
       "           -5.07285714e-01,  4.61786091e-01,  2.76498705e-01,\n",
       "           -5.82697630e-01, -7.27698624e-01, -3.76839101e-01,\n",
       "            8.05799961e-01, -5.00444293e-01, -4.37942088e-01,\n",
       "           -5.90479150e-02, -8.00336063e-01, -1.17394468e-02,\n",
       "           -1.69218313e-02,  1.72341287e-01,  3.72614920e-01,\n",
       "           -5.20380795e-01,  2.83023834e-01, -5.20633757e-01,\n",
       "            3.04723680e-01, -3.91793221e-01]]],\n",
       " \n",
       " \n",
       "        [[[-9.18181837e-01,  4.12292451e-01,  3.07185262e-01,\n",
       "            4.08004791e-01, -4.25899535e-01, -4.64224935e-01,\n",
       "            4.24640685e-01, -2.98553944e-01,  3.84215936e-02,\n",
       "            5.57815172e-02,  2.90365100e-01,  2.01451793e-01,\n",
       "           -2.39737242e-01, -2.62275517e-01,  3.36066872e-01,\n",
       "            1.28930986e-01,  8.11314046e-01, -2.26211563e-01,\n",
       "           -2.38719866e-01,  1.35924928e-02,  2.28393793e-01,\n",
       "           -8.02226961e-02,  6.14114702e-01,  1.18429020e-01,\n",
       "            5.78558564e-01, -6.90864921e-01, -1.38297364e-01,\n",
       "           -8.94579962e-02, -2.62162015e-02,  5.87600879e-02,\n",
       "            1.08497351e-01,  5.47075756e-02]],\n",
       " \n",
       "         [[ 1.50220960e-01,  4.68859851e-01,  2.33471707e-01,\n",
       "            5.98603308e-01,  4.81651813e-01,  4.53367561e-01,\n",
       "            2.35810168e-02, -6.06906377e-02, -9.97738093e-02,\n",
       "            3.74928981e-01,  6.21294044e-02,  9.77589712e-02,\n",
       "            2.74856180e-01, -4.99528736e-01,  2.84411162e-01,\n",
       "            3.20473135e-01, -1.18399393e-02, -4.69228849e-02,\n",
       "            2.97138393e-01,  3.78448099e-01,  4.73470613e-02,\n",
       "           -5.62557653e-02,  6.44391328e-02,  1.36286959e-01,\n",
       "           -4.26584393e-01, -3.72557491e-01,  2.87978619e-01,\n",
       "            3.97370011e-01,  2.46651351e-01,  4.42053564e-03,\n",
       "            5.02612412e-01,  1.97479025e-01]],\n",
       " \n",
       "         [[ 5.88919282e-01,  2.38140561e-02, -7.22630441e-01,\n",
       "           -1.29374534e-01,  7.43052065e-01,  2.42778182e-01,\n",
       "           -4.99345839e-01,  1.27477244e-01, -2.53487766e-01,\n",
       "            2.88599461e-01,  2.52798319e-01, -4.07033414e-01,\n",
       "            3.07274252e-01,  3.60954791e-01, -1.24124959e-02,\n",
       "           -3.54734629e-01, -9.54197586e-01,  4.99075428e-02,\n",
       "            5.39707281e-02,  2.47313470e-01, -1.07034194e+00,\n",
       "           -6.08102232e-02, -2.89565414e-01,  3.24738473e-02,\n",
       "            2.36162275e-01,  4.86367196e-01,  2.82554328e-01,\n",
       "            1.09569237e-01, -1.22420192e-01, -1.91340391e-02,\n",
       "            7.84191489e-02, -4.66616869e-01]]],\n",
       " \n",
       " \n",
       "        [[[-6.52986109e-01,  3.90211403e-01,  4.04897630e-01,\n",
       "           -1.52351588e-01, -1.21304154e+00,  1.10211223e-02,\n",
       "            2.99341202e-01, -7.60276437e-01, -1.04376763e-01,\n",
       "           -1.44764138e-02, -8.93783271e-02,  2.36601532e-01,\n",
       "            6.19394958e-01, -3.04856241e-01,  4.33385074e-02,\n",
       "           -5.03465891e-01,  2.51138229e-02, -1.76026583e-01,\n",
       "           -1.32410681e+00, -2.40049005e-01, -1.17171073e+00,\n",
       "           -1.20135397e-02,  2.02534169e-01,  1.16013259e-01,\n",
       "            6.67386800e-02, -4.31041420e-01, -6.41661346e-01,\n",
       "           -5.28475761e-01,  2.24029094e-01, -3.17109615e-01,\n",
       "            2.85887063e-01, -8.01422540e-03]],\n",
       " \n",
       "         [[-1.41213581e-01,  2.27834001e-01,  2.31321558e-01,\n",
       "           -6.08093739e-01, -8.30852032e-01,  4.28886205e-01,\n",
       "            1.92178115e-01, -4.33283657e-01,  1.14063174e-01,\n",
       "            1.43903196e-01, -4.62292768e-02, -1.93265393e-01,\n",
       "            4.57996756e-01, -1.91920176e-01, -1.22768164e-01,\n",
       "            3.80186737e-01, -9.16943371e-01,  1.76617607e-01,\n",
       "           -8.53506923e-01, -3.67626131e-01, -1.01404548e+00,\n",
       "           -5.05596399e-05,  2.62527943e-01, -3.67613584e-01,\n",
       "           -3.26376975e-01,  2.47176141e-01, -8.88482511e-01,\n",
       "            3.72723155e-02,  2.65432477e-01,  2.78251678e-01,\n",
       "           -7.47298300e-02,  5.32107770e-01]],\n",
       " \n",
       "         [[ 4.52403724e-01,  1.28269002e-01, -7.79016137e-01,\n",
       "           -5.58766961e-01, -3.08450758e-01, -2.63863832e-01,\n",
       "           -2.01695651e-01,  1.22419499e-01,  3.41858536e-01,\n",
       "           -6.13473058e-01, -2.36869436e-02, -1.98791116e-01,\n",
       "            2.00834915e-01,  3.87123168e-01, -2.24164054e-01,\n",
       "            4.04862911e-01, -8.11704278e-01,  2.88338065e-01,\n",
       "           -1.29749072e+00,  2.03930527e-01, -4.82475579e-01,\n",
       "           -2.79242545e-02,  2.61005819e-01,  1.78729564e-01,\n",
       "            3.06920528e-01,  4.67753202e-01, -4.79118556e-01,\n",
       "            2.41061717e-01, -2.97174722e-01,  2.94603914e-01,\n",
       "           -5.63745677e-01, -3.52541581e-02]]]], dtype=float32)>,\n",
       " <tf.Variable 'conv/bias:0' shape=(32,) dtype=float32, numpy=\n",
       " array([-0.11752956, -0.0174316 , -0.06516407, -0.11506494,  0.00527779,\n",
       "        -0.17218116, -0.2174509 , -0.10934965, -0.3132674 , -0.02959723,\n",
       "        -0.18431796, -0.30477065, -0.01654174, -0.26121813, -0.23380339,\n",
       "        -0.32690307, -0.0330766 , -0.2255296 , -0.01071703, -0.19820794,\n",
       "         0.23594151,  0.        , -0.32493743, -0.17496644, -0.11713144,\n",
       "        -0.06834374, -0.06922571, -0.26382425, -0.33509701, -0.3121563 ,\n",
       "        -0.15310852, -0.23093288], dtype=float32)>]"
      ]
     },
     "execution_count": 20,
     "metadata": {},
     "output_type": "execute_result"
    }
   ],
   "source": [
    "\"\"\"\n",
    "각 레이어의 가중치 행렬을 추출할 수 있다\n",
    "weights 속성을 각 레이어 인스턴스에 적용하면 된다\n",
    "\n",
    "\"\"\"\n",
    "# 첫 번째 레이어 가중치\n",
    "model.layers[0].weights"
   ]
  },
  {
   "cell_type": "code",
   "execution_count": 21,
   "id": "fef869b1",
   "metadata": {},
   "outputs": [
    {
     "data": {
      "text/plain": [
       "<tf.Variable 'conv/kernel:0' shape=(3, 3, 1, 32) dtype=float32, numpy=\n",
       "array([[[[-1.00929475e+00, -8.03060353e-01,  1.83768764e-01,\n",
       "          -8.37378353e-02, -1.58654362e-01, -8.35157037e-01,\n",
       "           3.53081197e-01,  5.69516905e-02,  1.40678525e-01,\n",
       "          -3.86334002e-01,  4.80747633e-02, -1.18425168e-01,\n",
       "          -9.28918600e-01, -7.82569945e-01, -4.35625583e-01,\n",
       "           3.25846314e-01,  6.01838470e-01,  3.24839503e-01,\n",
       "           1.20918021e-01,  1.14796840e-01,  5.51862657e-01,\n",
       "          -8.70760009e-02,  2.56367087e-01, -2.22061947e-01,\n",
       "           2.27648348e-01, -3.22003454e-01,  1.82236061e-01,\n",
       "           2.48326555e-01, -3.55266035e-01,  2.92568445e-01,\n",
       "          -7.43591011e-01, -4.16104589e-03]],\n",
       "\n",
       "        [[-1.92516707e-02, -7.43229866e-01, -1.74576268e-02,\n",
       "           1.83062658e-01,  4.37800497e-01, -8.93882127e-04,\n",
       "           1.26738384e-01,  4.78476584e-01,  2.14606777e-01,\n",
       "          -3.90419930e-01, -2.19247609e-01,  1.19025856e-01,\n",
       "          -7.59764254e-01, -2.23376706e-01, -1.12520292e-01,\n",
       "           1.01470329e-01,  3.41333359e-01,  3.32413882e-01,\n",
       "           5.64458668e-01,  1.99726507e-01,  3.64081502e-01,\n",
       "          -1.33377194e-01, -3.37670475e-01,  1.78574294e-01,\n",
       "          -6.32530868e-01, -6.05424166e-01,  4.01606351e-01,\n",
       "           2.38072187e-01,  1.16481580e-01,  2.25296691e-01,\n",
       "          -7.40482286e-02,  2.33522624e-01]],\n",
       "\n",
       "        [[ 5.42446911e-01, -6.98962629e-01, -5.94318688e-01,\n",
       "           2.89520591e-01,  4.66432333e-01,  4.63300347e-01,\n",
       "          -7.96490908e-01,  1.14048071e-01,  1.13026276e-01,\n",
       "           7.72992224e-02, -9.76740420e-02,  4.63663191e-01,\n",
       "          -5.07285714e-01,  4.61786091e-01,  2.76498705e-01,\n",
       "          -5.82697630e-01, -7.27698624e-01, -3.76839101e-01,\n",
       "           8.05799961e-01, -5.00444293e-01, -4.37942088e-01,\n",
       "          -5.90479150e-02, -8.00336063e-01, -1.17394468e-02,\n",
       "          -1.69218313e-02,  1.72341287e-01,  3.72614920e-01,\n",
       "          -5.20380795e-01,  2.83023834e-01, -5.20633757e-01,\n",
       "           3.04723680e-01, -3.91793221e-01]]],\n",
       "\n",
       "\n",
       "       [[[-9.18181837e-01,  4.12292451e-01,  3.07185262e-01,\n",
       "           4.08004791e-01, -4.25899535e-01, -4.64224935e-01,\n",
       "           4.24640685e-01, -2.98553944e-01,  3.84215936e-02,\n",
       "           5.57815172e-02,  2.90365100e-01,  2.01451793e-01,\n",
       "          -2.39737242e-01, -2.62275517e-01,  3.36066872e-01,\n",
       "           1.28930986e-01,  8.11314046e-01, -2.26211563e-01,\n",
       "          -2.38719866e-01,  1.35924928e-02,  2.28393793e-01,\n",
       "          -8.02226961e-02,  6.14114702e-01,  1.18429020e-01,\n",
       "           5.78558564e-01, -6.90864921e-01, -1.38297364e-01,\n",
       "          -8.94579962e-02, -2.62162015e-02,  5.87600879e-02,\n",
       "           1.08497351e-01,  5.47075756e-02]],\n",
       "\n",
       "        [[ 1.50220960e-01,  4.68859851e-01,  2.33471707e-01,\n",
       "           5.98603308e-01,  4.81651813e-01,  4.53367561e-01,\n",
       "           2.35810168e-02, -6.06906377e-02, -9.97738093e-02,\n",
       "           3.74928981e-01,  6.21294044e-02,  9.77589712e-02,\n",
       "           2.74856180e-01, -4.99528736e-01,  2.84411162e-01,\n",
       "           3.20473135e-01, -1.18399393e-02, -4.69228849e-02,\n",
       "           2.97138393e-01,  3.78448099e-01,  4.73470613e-02,\n",
       "          -5.62557653e-02,  6.44391328e-02,  1.36286959e-01,\n",
       "          -4.26584393e-01, -3.72557491e-01,  2.87978619e-01,\n",
       "           3.97370011e-01,  2.46651351e-01,  4.42053564e-03,\n",
       "           5.02612412e-01,  1.97479025e-01]],\n",
       "\n",
       "        [[ 5.88919282e-01,  2.38140561e-02, -7.22630441e-01,\n",
       "          -1.29374534e-01,  7.43052065e-01,  2.42778182e-01,\n",
       "          -4.99345839e-01,  1.27477244e-01, -2.53487766e-01,\n",
       "           2.88599461e-01,  2.52798319e-01, -4.07033414e-01,\n",
       "           3.07274252e-01,  3.60954791e-01, -1.24124959e-02,\n",
       "          -3.54734629e-01, -9.54197586e-01,  4.99075428e-02,\n",
       "           5.39707281e-02,  2.47313470e-01, -1.07034194e+00,\n",
       "          -6.08102232e-02, -2.89565414e-01,  3.24738473e-02,\n",
       "           2.36162275e-01,  4.86367196e-01,  2.82554328e-01,\n",
       "           1.09569237e-01, -1.22420192e-01, -1.91340391e-02,\n",
       "           7.84191489e-02, -4.66616869e-01]]],\n",
       "\n",
       "\n",
       "       [[[-6.52986109e-01,  3.90211403e-01,  4.04897630e-01,\n",
       "          -1.52351588e-01, -1.21304154e+00,  1.10211223e-02,\n",
       "           2.99341202e-01, -7.60276437e-01, -1.04376763e-01,\n",
       "          -1.44764138e-02, -8.93783271e-02,  2.36601532e-01,\n",
       "           6.19394958e-01, -3.04856241e-01,  4.33385074e-02,\n",
       "          -5.03465891e-01,  2.51138229e-02, -1.76026583e-01,\n",
       "          -1.32410681e+00, -2.40049005e-01, -1.17171073e+00,\n",
       "          -1.20135397e-02,  2.02534169e-01,  1.16013259e-01,\n",
       "           6.67386800e-02, -4.31041420e-01, -6.41661346e-01,\n",
       "          -5.28475761e-01,  2.24029094e-01, -3.17109615e-01,\n",
       "           2.85887063e-01, -8.01422540e-03]],\n",
       "\n",
       "        [[-1.41213581e-01,  2.27834001e-01,  2.31321558e-01,\n",
       "          -6.08093739e-01, -8.30852032e-01,  4.28886205e-01,\n",
       "           1.92178115e-01, -4.33283657e-01,  1.14063174e-01,\n",
       "           1.43903196e-01, -4.62292768e-02, -1.93265393e-01,\n",
       "           4.57996756e-01, -1.91920176e-01, -1.22768164e-01,\n",
       "           3.80186737e-01, -9.16943371e-01,  1.76617607e-01,\n",
       "          -8.53506923e-01, -3.67626131e-01, -1.01404548e+00,\n",
       "          -5.05596399e-05,  2.62527943e-01, -3.67613584e-01,\n",
       "          -3.26376975e-01,  2.47176141e-01, -8.88482511e-01,\n",
       "           3.72723155e-02,  2.65432477e-01,  2.78251678e-01,\n",
       "          -7.47298300e-02,  5.32107770e-01]],\n",
       "\n",
       "        [[ 4.52403724e-01,  1.28269002e-01, -7.79016137e-01,\n",
       "          -5.58766961e-01, -3.08450758e-01, -2.63863832e-01,\n",
       "          -2.01695651e-01,  1.22419499e-01,  3.41858536e-01,\n",
       "          -6.13473058e-01, -2.36869436e-02, -1.98791116e-01,\n",
       "           2.00834915e-01,  3.87123168e-01, -2.24164054e-01,\n",
       "           4.04862911e-01, -8.11704278e-01,  2.88338065e-01,\n",
       "          -1.29749072e+00,  2.03930527e-01, -4.82475579e-01,\n",
       "          -2.79242545e-02,  2.61005819e-01,  1.78729564e-01,\n",
       "           3.06920528e-01,  4.67753202e-01, -4.79118556e-01,\n",
       "           2.41061717e-01, -2.97174722e-01,  2.94603914e-01,\n",
       "          -5.63745677e-01, -3.52541581e-02]]]], dtype=float32)>"
      ]
     },
     "execution_count": 21,
     "metadata": {},
     "output_type": "execute_result"
    }
   ],
   "source": [
    "# 첫번째 레이어 커널 가중치\n",
    "model.layers[0].kernel"
   ]
  },
  {
   "cell_type": "code",
   "execution_count": 22,
   "id": "fb017824",
   "metadata": {},
   "outputs": [
    {
     "data": {
      "text/plain": [
       "<tf.Variable 'conv/bias:0' shape=(32,) dtype=float32, numpy=\n",
       "array([-0.11752956, -0.0174316 , -0.06516407, -0.11506494,  0.00527779,\n",
       "       -0.17218116, -0.2174509 , -0.10934965, -0.3132674 , -0.02959723,\n",
       "       -0.18431796, -0.30477065, -0.01654174, -0.26121813, -0.23380339,\n",
       "       -0.32690307, -0.0330766 , -0.2255296 , -0.01071703, -0.19820794,\n",
       "        0.23594151,  0.        , -0.32493743, -0.17496644, -0.11713144,\n",
       "       -0.06834374, -0.06922571, -0.26382425, -0.33509701, -0.3121563 ,\n",
       "       -0.15310852, -0.23093288], dtype=float32)>"
      ]
     },
     "execution_count": 22,
     "metadata": {},
     "output_type": "execute_result"
    }
   ],
   "source": [
    "# 첫 번째 레이어 bias 가중치\n",
    "model.layers[0].bias"
   ]
  },
  {
   "cell_type": "code",
   "execution_count": 23,
   "id": "8b7aa52b",
   "metadata": {},
   "outputs": [
    {
     "data": {
      "text/plain": [
       "<keras.layers.convolutional.Conv2D at 0x1d102eaf730>"
      ]
     },
     "execution_count": 23,
     "metadata": {},
     "output_type": "execute_result"
    }
   ],
   "source": [
    "\"\"\"\n",
    "레이어의 이름(name 속성)을 사용하여 해당 레이어를 선택할 수 있다\n",
    "모델을 정의할 때 Conv2D 합성곱 레이어의 이름을 \"conv\" 라고 지정해 두었기 때문에 \n",
    "다음과 같이 추출 가능하다\n",
    "\"\"\"\n",
    "# 레이어 이름 사용하여 레이어 선택\n",
    "model.get_layer(\"conv\")"
   ]
  },
  {
   "cell_type": "code",
   "execution_count": 26,
   "id": "9d4142ac",
   "metadata": {},
   "outputs": [
    {
     "data": {
      "text/plain": [
       "2"
      ]
     },
     "execution_count": 26,
     "metadata": {},
     "output_type": "execute_result"
    }
   ],
   "source": [
    "\"\"\"\n",
    "모델에 입력 데이터를 넣어주고, 모델의 첫 번째와 두 번째 레이어의 출력을 최종 출력으로 \n",
    "갖는 activator 모델을 정의한다. 첫 번쨰 샘플에 대하여 각 레이어의 출력을 예측\n",
    "\"\"\"\n",
    "# 샘플 이미지의 레이어별 출력을 리스트에 추가(첫 번째 두 번째 레이어)\n",
    "activator = tf.keras.Model(inputs=model.input,\n",
    "                          outputs=[layer.output for layer in model.layers[:2]])\n",
    "activations = activator.predict(x_train_in[0][tf.newaxis,...] )\n",
    "len(activations)"
   ]
  },
  {
   "cell_type": "code",
   "execution_count": 28,
   "id": "326651f6",
   "metadata": {},
   "outputs": [
    {
     "data": {
      "text/plain": [
       "(1, 26, 26, 32)"
      ]
     },
     "execution_count": 28,
     "metadata": {},
     "output_type": "execute_result"
    }
   ],
   "source": [
    "\"\"\"\n",
    "2개의 출력 텐서 중에서 첫 번째 텐서는 Conv2D 레이어의 출력이다 \n",
    "텐서의 형태는 (1, 26, 26, 32)인데 \n",
    "여기서 1은 입력 이미지의 개수를 나타낸다\n",
    "샘플이 1개라는 뜻\n",
    "\"\"\"\n",
    "# 첫 번째 레이어(conv) 출력층\n",
    "conv_activation = activations[0]\n",
    "conv_activation.shape"
   ]
  },
  {
   "cell_type": "code",
   "execution_count": 30,
   "id": "9baa4ff0",
   "metadata": {},
   "outputs": [
    {
     "data": {
      "image/png": "[encoded data removed]",
      "text/plain": [
       "<Figure size 720x360 with 32 Axes>"
      ]
     },
     "metadata": {},
     "output_type": "display_data"
    }
   ],
   "source": [
    "\"\"\"\n",
    "첫 번쨰 레이어에서 출력되는 특성맵 이미지를 32개 커널별로 구분하여 시각화하면\n",
    "다음과 같다\n",
    "\n",
    "출력 이미지의 특징이 조금씩 차이가 있는 것을 볼 수 있다 \n",
    "이처럼 각 커널은 입력 이미지로 부터 서로 다른 피처(특징)을 추출하는 역할\n",
    "\"\"\"\n",
    "# Contolution 시각화\n",
    "fig, axes = plt.subplots(4, 8)\n",
    "fig.set_size_inches(10, 5)\n",
    "\n",
    "for i in range(32):\n",
    "    axes[i // 8, i %8].matshow(conv_activation[0, :, :, i], cmap=\"viridis\")\n",
    "    axes[i //8, i % 8].set_title(\"kernel %s\" %str(i), fontsize=10)\n",
    "    plt.setp(axes[i //8, i %8].get_xticklabels(), visible=False)\n",
    "    plt.setp(axes[i //8, i %8].get_yticklabels(), visible=False)\n",
    "    \n",
    "plt.tight_layout()\n",
    "plt.show()"
   ]
  },
  {
   "cell_type": "code",
   "execution_count": 31,
   "id": "b2b7c735",
   "metadata": {},
   "outputs": [
    {
     "name": "stdout",
     "output_type": "stream",
     "text": [
      "(1, 13, 13, 32)\n"
     ]
    }
   ],
   "source": [
    "\"\"\"\n",
    "두 번째 레이어는 최대 풀링 레이어이다 \n",
    "여기서 출력하는 텐서는 (1, 13, 13, 32)형태를 갖는다\n",
    "\"\"\"\n",
    "# 두번째 레이어(pool) 출력층\n",
    "pooling_activation = activations[1]\n",
    "print(pooling_activation.shape)"
   ]
  },
  {
   "cell_type": "code",
   "execution_count": 32,
   "id": "722173d7",
   "metadata": {},
   "outputs": [
    {
     "data": {
      "image/png": "[encoded data removed]",
      "text/plain": [
       "<Figure size 720x360 with 32 Axes>"
      ]
     },
     "metadata": {},
     "output_type": "display_data"
    }
   ],
   "source": [
    "\"\"\"\n",
    "각 커널별로 출력되는 특성맵 이미지를 시각화하면, 앞서 Conv2D 출력 이미지에 비하여 \n",
    "화소 크기가 굵어진 것을 볼 수 있다. \n",
    "최대 풀링은 인근 픽셀들을 모아서 최대값으로 고정하기 때문에 픽셀 수는 줄이면서\n",
    "특징을 더욱 강하게 드러낼 수 있다.\n",
    "\"\"\"\n",
    "# 시각화\n",
    "fig, axes = plt.subplots(4, 8)\n",
    "fig.set_size_inches(10, 5)\n",
    "\n",
    "for i in range(32):\n",
    "    axes[i // 8, i %8].matshow(pooling_activation[0, :, :, i], cmap=\"viridis\")\n",
    "    axes[i //8, i % 8].set_title(\"kernel %s\" %str(i), fontsize=10)\n",
    "    plt.setp(axes[i //8, i %8].get_xticklabels(), visible=False)\n",
    "    plt.setp(axes[i //8, i %8].get_yticklabels(), visible=False)\n",
    "    \n",
    "plt.tight_layout()\n",
    "plt.show()"
   ]
  },
  {
   "cell_type": "code",
   "execution_count": null,
   "id": "c4f2eb11",
   "metadata": {},
   "outputs": [],
   "source": []
  },
  {
   "cell_type": "code",
   "execution_count": null,
   "id": "a1fbc869",
   "metadata": {},
   "outputs": [],
   "source": []
  }
 ],
 "metadata": {
  "kernelspec": {
   "display_name": "Python 3 (ipykernel)",
   "language": "python",
   "name": "python3"
  },
  "language_info": {
   "codemirror_mode": {
    "name": "ipython",
    "version": 3
   },
   "file_extension": ".py",
   "mimetype": "text/x-python",
   "name": "python",
   "nbconvert_exporter": "python",
   "pygments_lexer": "ipython3",
   "version": "3.8.12"
  }
 },
 "nbformat": 4,
 "nbformat_minor": 5
}
