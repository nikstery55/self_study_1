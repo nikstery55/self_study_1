{
 "cells": [
  {
   "cell_type": "code",
   "execution_count": 1,
   "id": "2117d846",
   "metadata": {},
   "outputs": [
    {
     "data": {
      "text/plain": [
       "'\\n심층 신경망으로 이미지 분류 모델을 생성\\n이미지 분류를 위해 단층이 아닌 더 깊은 층을 쌓아 깊이가 있는 딥러닝 모델을 생성\\n훈련에 필요한 데이터셋은 케라스 내장 데이터셋(Mnist) 가져와서 사용한다 , \\n\\n케라스의 datasets 패키지에 있는 데이터를 불러오기 위해 load_data()메소드를 사용\\n'"
      ]
     },
     "execution_count": 1,
     "metadata": {},
     "output_type": "execute_result"
    }
   ],
   "source": [
    "\"\"\"\n",
    "심층 신경망으로 이미지 분류 모델을 생성\n",
    "이미지 분류를 위해 단층이 아닌 더 깊은 층을 쌓아 깊이가 있는 딥러닝 모델을 생성\n",
    "훈련에 필요한 데이터셋은 케라스 내장 데이터셋(Mnist) 가져와서 사용한다 , \n",
    "\n",
    "케라스의 datasets 패키지에 있는 데이터를 불러오기 위해 load_data()메소드를 사용\n",
    "\"\"\""
   ]
  },
  {
   "cell_type": "code",
   "execution_count": 2,
   "id": "954eca4b",
   "metadata": {},
   "outputs": [],
   "source": [
    "import tensorflow as tf\n",
    "\n",
    "#케라스의 내장 데이터셋에서 mnist 데이터셋 로드\n",
    "mnist = tf.keras.datasets.mnist"
   ]
  },
  {
   "cell_type": "code",
   "execution_count": 3,
   "id": "2395252a",
   "metadata": {},
   "outputs": [],
   "source": [
    "\"\"\"\n",
    "X_train과 y_train은 각각 훈련 셋의 입력(x), 데이터와 출력(y) 데이터를 나타낸다\n",
    "마찬가지로\n",
    "x_test와 y_test는 검증 셋의 입력과 출력 데이터를 저장한다\n",
    "\"\"\"\n",
    "#load_data()로 데이터셋 로드\n",
    "(x_train, y_train),(x_test, y_test) = mnist.load_data()"
   ]
  },
  {
   "cell_type": "code",
   "execution_count": 4,
   "id": "c3177b12",
   "metadata": {},
   "outputs": [
    {
     "name": "stdout",
     "output_type": "stream",
     "text": [
      "train set: (60000, 28, 28) (60000,)\n",
      "test set: (10000, 28, 28) (10000,)\n"
     ]
    }
   ],
   "source": [
    "\"\"\"\n",
    "훈련 셋에는 60000개의 데이터가, 검증 셋에는 10000개의 데이터가 저장되어 있다는 것을 확인할 수 있다. \n",
    "입력 데이터에 해당하는 x_train, x_test에는 mnist 손글씨 이미지 데이터가 저장되고, 배열의 shape은(데이터셋 크기, 28, 28)라는 것을 알 수 있다\n",
    "여기서 shape의 첫번째는 데이터셋의 크기를 나타내며 28,28은 순서대로 이미지의 세로, 가로의 픽셀 크기를 나타낸다\n",
    "\n",
    "즉 x_train에는 28 X 28 픽셀 크기의 정사각형 이미지 60000장이 저장되어 있고, x_test에는 10000장의 이미지가 저장되어 있는 것이다\n",
    "각 입력 데이터에 대응되는 출력 데이터(정답) 또한 각각 60000개와 10000개가 1차원 벡터 형태로 정리되어 있는 것을 알 수 있다\n",
    "\"\"\"\n",
    "# 로드된 데이터셋 확인\n",
    "print(\"train set:\", x_train.shape, y_train.shape)\n",
    "print(\"test set:\", x_test.shape, y_test.shape)"
   ]
  },
  {
   "cell_type": "code",
   "execution_count": 5,
   "id": "4cd0cba3",
   "metadata": {
    "scrolled": true
   },
   "outputs": [
    {
     "data": {
      "text/plain": [
       "array([[[0, 0, 0, ..., 0, 0, 0],\n",
       "        [0, 0, 0, ..., 0, 0, 0],\n",
       "        [0, 0, 0, ..., 0, 0, 0],\n",
       "        ...,\n",
       "        [0, 0, 0, ..., 0, 0, 0],\n",
       "        [0, 0, 0, ..., 0, 0, 0],\n",
       "        [0, 0, 0, ..., 0, 0, 0]],\n",
       "\n",
       "       [[0, 0, 0, ..., 0, 0, 0],\n",
       "        [0, 0, 0, ..., 0, 0, 0],\n",
       "        [0, 0, 0, ..., 0, 0, 0],\n",
       "        ...,\n",
       "        [0, 0, 0, ..., 0, 0, 0],\n",
       "        [0, 0, 0, ..., 0, 0, 0],\n",
       "        [0, 0, 0, ..., 0, 0, 0]],\n",
       "\n",
       "       [[0, 0, 0, ..., 0, 0, 0],\n",
       "        [0, 0, 0, ..., 0, 0, 0],\n",
       "        [0, 0, 0, ..., 0, 0, 0],\n",
       "        ...,\n",
       "        [0, 0, 0, ..., 0, 0, 0],\n",
       "        [0, 0, 0, ..., 0, 0, 0],\n",
       "        [0, 0, 0, ..., 0, 0, 0]],\n",
       "\n",
       "       ...,\n",
       "\n",
       "       [[0, 0, 0, ..., 0, 0, 0],\n",
       "        [0, 0, 0, ..., 0, 0, 0],\n",
       "        [0, 0, 0, ..., 0, 0, 0],\n",
       "        ...,\n",
       "        [0, 0, 0, ..., 0, 0, 0],\n",
       "        [0, 0, 0, ..., 0, 0, 0],\n",
       "        [0, 0, 0, ..., 0, 0, 0]],\n",
       "\n",
       "       [[0, 0, 0, ..., 0, 0, 0],\n",
       "        [0, 0, 0, ..., 0, 0, 0],\n",
       "        [0, 0, 0, ..., 0, 0, 0],\n",
       "        ...,\n",
       "        [0, 0, 0, ..., 0, 0, 0],\n",
       "        [0, 0, 0, ..., 0, 0, 0],\n",
       "        [0, 0, 0, ..., 0, 0, 0]],\n",
       "\n",
       "       [[0, 0, 0, ..., 0, 0, 0],\n",
       "        [0, 0, 0, ..., 0, 0, 0],\n",
       "        [0, 0, 0, ..., 0, 0, 0],\n",
       "        ...,\n",
       "        [0, 0, 0, ..., 0, 0, 0],\n",
       "        [0, 0, 0, ..., 0, 0, 0],\n",
       "        [0, 0, 0, ..., 0, 0, 0]]], dtype=uint8)"
      ]
     },
     "execution_count": 5,
     "metadata": {},
     "output_type": "execute_result"
    }
   ],
   "source": [
    "x_train"
   ]
  },
  {
   "cell_type": "code",
   "execution_count": 6,
   "id": "cabc0792",
   "metadata": {},
   "outputs": [
    {
     "data": {
      "text/plain": [
       "array([5, 0, 4, ..., 5, 6, 8], dtype=uint8)"
      ]
     },
     "execution_count": 6,
     "metadata": {},
     "output_type": "execute_result"
    }
   ],
   "source": [
    "y_train"
   ]
  },
  {
   "cell_type": "code",
   "execution_count": 7,
   "id": "df3d3749",
   "metadata": {},
   "outputs": [
    {
     "data": {
      "text/plain": [
       "array([7, 2, 1, ..., 4, 5, 6], dtype=uint8)"
      ]
     },
     "execution_count": 7,
     "metadata": {},
     "output_type": "execute_result"
    }
   ],
   "source": [
    "y_test"
   ]
  },
  {
   "cell_type": "code",
   "execution_count": 8,
   "id": "48c3bb13",
   "metadata": {
    "scrolled": true
   },
   "outputs": [
    {
     "data": {
      "text/plain": [
       "array([[[0, 0, 0, ..., 0, 0, 0],\n",
       "        [0, 0, 0, ..., 0, 0, 0],\n",
       "        [0, 0, 0, ..., 0, 0, 0],\n",
       "        ...,\n",
       "        [0, 0, 0, ..., 0, 0, 0],\n",
       "        [0, 0, 0, ..., 0, 0, 0],\n",
       "        [0, 0, 0, ..., 0, 0, 0]],\n",
       "\n",
       "       [[0, 0, 0, ..., 0, 0, 0],\n",
       "        [0, 0, 0, ..., 0, 0, 0],\n",
       "        [0, 0, 0, ..., 0, 0, 0],\n",
       "        ...,\n",
       "        [0, 0, 0, ..., 0, 0, 0],\n",
       "        [0, 0, 0, ..., 0, 0, 0],\n",
       "        [0, 0, 0, ..., 0, 0, 0]],\n",
       "\n",
       "       [[0, 0, 0, ..., 0, 0, 0],\n",
       "        [0, 0, 0, ..., 0, 0, 0],\n",
       "        [0, 0, 0, ..., 0, 0, 0],\n",
       "        ...,\n",
       "        [0, 0, 0, ..., 0, 0, 0],\n",
       "        [0, 0, 0, ..., 0, 0, 0],\n",
       "        [0, 0, 0, ..., 0, 0, 0]],\n",
       "\n",
       "       ...,\n",
       "\n",
       "       [[0, 0, 0, ..., 0, 0, 0],\n",
       "        [0, 0, 0, ..., 0, 0, 0],\n",
       "        [0, 0, 0, ..., 0, 0, 0],\n",
       "        ...,\n",
       "        [0, 0, 0, ..., 0, 0, 0],\n",
       "        [0, 0, 0, ..., 0, 0, 0],\n",
       "        [0, 0, 0, ..., 0, 0, 0]],\n",
       "\n",
       "       [[0, 0, 0, ..., 0, 0, 0],\n",
       "        [0, 0, 0, ..., 0, 0, 0],\n",
       "        [0, 0, 0, ..., 0, 0, 0],\n",
       "        ...,\n",
       "        [0, 0, 0, ..., 0, 0, 0],\n",
       "        [0, 0, 0, ..., 0, 0, 0],\n",
       "        [0, 0, 0, ..., 0, 0, 0]],\n",
       "\n",
       "       [[0, 0, 0, ..., 0, 0, 0],\n",
       "        [0, 0, 0, ..., 0, 0, 0],\n",
       "        [0, 0, 0, ..., 0, 0, 0],\n",
       "        ...,\n",
       "        [0, 0, 0, ..., 0, 0, 0],\n",
       "        [0, 0, 0, ..., 0, 0, 0],\n",
       "        [0, 0, 0, ..., 0, 0, 0]]], dtype=uint8)"
      ]
     },
     "execution_count": 8,
     "metadata": {},
     "output_type": "execute_result"
    }
   ],
   "source": [
    "x_test"
   ]
  },
  {
   "cell_type": "code",
   "execution_count": 9,
   "id": "2aa275d5",
   "metadata": {},
   "outputs": [
    {
     "data": {
      "image/png": "[encoded data removed]",
      "text/plain": [
       "<Figure size 576x360 with 15 Axes>"
      ]
     },
     "metadata": {
      "needs_background": "light"
     },
     "output_type": "display_data"
    }
   ],
   "source": [
    "# 데이터 시각화\n",
    "import matplotlib.pyplot as plt\n",
    "\n",
    "# canvas 생성\n",
    "fig, axes = plt.subplots(3, 5)\n",
    "fig.set_size_inches(8, 5)\n",
    "\n",
    "for i in range(15):\n",
    "    ax = axes[i // 5, i % 5]\n",
    "    #imshow로 이미지 시각화\n",
    "    ax.imshow(x_train[i], cmap=\"gray\")\n",
    "    ax.axis(\"off\")\n",
    "    ax.set_title(str(y_train[i]))\n",
    "    \n",
    "plt.tight_layout()\n",
    "plt.show()"
   ]
  },
  {
   "cell_type": "code",
   "execution_count": 10,
   "id": "cebf82a7",
   "metadata": {},
   "outputs": [
    {
     "data": {
      "text/plain": [
       "array([[  1, 154, 253,  90,   0],\n",
       "       [  0, 139, 253, 190,   2],\n",
       "       [  0,  11, 190, 253,  70],\n",
       "       [  0,   0,  35, 241, 225],\n",
       "       [  0,   0,   0,  81, 240]], dtype=uint8)"
      ]
     },
     "execution_count": 10,
     "metadata": {},
     "output_type": "execute_result"
    }
   ],
   "source": [
    "\"\"\"\n",
    "데이터 전처리 \n",
    "\n",
    "\"\"\"\n",
    "#x_train 배열의 데이터 확인\n",
    "x_train[0, 10:15, 10:15]"
   ]
  },
  {
   "cell_type": "code",
   "execution_count": 11,
   "id": "10eec3cc",
   "metadata": {},
   "outputs": [
    {
     "name": "stdout",
     "output_type": "stream",
     "text": [
      "정규화전 최소값: 0, 최대값:255\n",
      "정규화후 최솟값: 0.0, 최대값:1.0 \n"
     ]
    }
   ],
   "source": [
    "\"\"\"\n",
    "데이터를 확인해 보면 0~255 범위의 값으로 이루어진 것을 확인할 수 있다.\n",
    "데이터의 범위를 0~1 사이의 값을 가지도록 정규화하기 위해서 데이터의 최대값인 255로 나눈다\n",
    "\"\"\"\n",
    "#픽셀 값의 최소/최대값 확인\n",
    "print(f'정규화전 최소값: {x_train.min()}, 최대값:{x_train.max()}')\n",
    "\n",
    "# 데이터 정규화\n",
    "x_train = x_train / x_train.max()\n",
    "\n",
    "# 정규화 후 최소/최대값 확인\n",
    "print(f\"정규화후 최솟값: {x_train.min()}, 최대값:{x_train.max()} \")"
   ]
  },
  {
   "cell_type": "code",
   "execution_count": 12,
   "id": "1379af0d",
   "metadata": {},
   "outputs": [],
   "source": [
    "\"\"\"\n",
    "검증 셋에도 동일한 방식으로 정규화 \n",
    "\"\"\"\n",
    "# test 셋에도 정규화 동일 적용\n",
    "x_test = x_test / x_test.max()"
   ]
  },
  {
   "cell_type": "code",
   "execution_count": 13,
   "id": "6f4a00c4",
   "metadata": {},
   "outputs": [
    {
     "data": {
      "text/plain": [
       "array([[0.00392157, 0.60392157, 0.99215686, 0.35294118, 0.        ],\n",
       "       [0.        , 0.54509804, 0.99215686, 0.74509804, 0.00784314],\n",
       "       [0.        , 0.04313725, 0.74509804, 0.99215686, 0.2745098 ],\n",
       "       [0.        , 0.        , 0.1372549 , 0.94509804, 0.88235294],\n",
       "       [0.        , 0.        , 0.        , 0.31764706, 0.94117647]])"
      ]
     },
     "execution_count": 13,
     "metadata": {},
     "output_type": "execute_result"
    }
   ],
   "source": [
    "# 변환 후 x_train 배열의 데이터 확인\n",
    "x_train[0, 10:15, 10:15]"
   ]
  },
  {
   "cell_type": "code",
   "execution_count": 14,
   "id": "ca32eba0",
   "metadata": {},
   "outputs": [
    {
     "name": "stdout",
     "output_type": "stream",
     "text": [
      "변경 전 shape:(60000, 28, 28) \n",
      "1D(1차원)으로 shape변경 후:(60000, 784)\n"
     ]
    }
   ],
   "source": [
    "\"\"\"\n",
    "Flatten 레이어\n",
    "\n",
    "정규화가 끝난 x_train의 shape(60000, 28, 28)이다 \n",
    "즉 정규화를 하더라도 개별 데이터 값의 범위는 축소되지만, 원본 배열의 형태는 그대로 유지함\n",
    "\n",
    "샘플 이미지의 형태는 (28, 28)로 이루어져 있고 2차원 입력으로 볼 수 있다.\n",
    "2차원 입력은 Dense 레이어에 입력값으로 넣을 수 없다. Dense 레이어에는 입력값으로 반드시 1차원 배열이 들어가야 한다.\n",
    "따라서 다음 코드와 같이 이미지 데이터를 1차원으로 전처리하여 주입해야한다\n",
    "\"\"\"\n",
    "print(f\"변경 전 shape:{x_train.shape} \")\n",
    "print(f\"1D(1차원)으로 shape변경 후:{x_train.reshape(60000, -1).shape}\")"
   ]
  },
  {
   "cell_type": "code",
   "execution_count": 15,
   "id": "3d2a832e",
   "metadata": {},
   "outputs": [
    {
     "name": "stdout",
     "output_type": "stream",
     "text": [
      "변경 전 shape: (60000, 28, 28)\n",
      "Flatten 적용 후:(60000, 784)\n"
     ]
    }
   ],
   "source": [
    "\"\"\"\n",
    "Flatten 레이어를 사용하면 다차원 데이터를 1차원으로 펼쳐주는 방법도 가능하다\n",
    "Flatten 층을 적용한 결과 shape이 (60000, 784)로 출력되는것을 확인할 수 있다 - 784는 가로 세로 픽셀 수를 곱한 값(28 * 28 = 784)\n",
    "\"\"\"\n",
    "print(f\"변경 전 shape: {x_train.shape}\")\n",
    "\n",
    "#Flatten 레이어 적용 후 shape 확인\n",
    "print(f\"Flatten 적용 후:{tf.keras.layers.Flatten()(x_train).shape}\")"
   ]
  },
  {
   "cell_type": "code",
   "execution_count": 16,
   "id": "67078f9f",
   "metadata": {},
   "outputs": [
    {
     "data": {
      "text/plain": [
       "<keras.layers.core.dense.Dense at 0x207d1f66280>"
      ]
     },
     "execution_count": 16,
     "metadata": {},
     "output_type": "execute_result"
    }
   ],
   "source": [
    "\"\"\"\n",
    "활성화 함수\n",
    "활성화 함수는 입력을 비선형 출력으로 변환해주는 함수이다. 일반적으로 선형관계를 나타내는 함수에 비선형성을 추가하는 방법으로 표현되기도 함\n",
    "한편, 비선형성을 추가하지 않고 선형 함수로만 층을 구성한다면 모델을 깊게 구성하더라도 결국은 선형함수로 표현\n",
    "\n",
    "자주 사용되는 활성화 함수로는 시그모디으(Sigmoid), 하이퍼볼릭 탄젠트(Hyperbolic Tangent 혹은 tanh), ReLU(Rectified Unit), Leaky ReLU 등이 있다\n",
    "\n",
    "-이거는 함 검색해서 봐라\n",
    "\n",
    "텐서플로 케라스 레이어에 활성화 함수를 적용하고 싶다면 다음과 같이 설정\n",
    "Dense 레이어에 ReLU 활성화 함수를 적용하기 위해서는 activation 매개변수에 'relu' 문자열을 대입\n",
    "\"\"\"\n",
    "#Dense 레이어에 relu 활성화 함수를 적용한 경우\n",
    "tf.keras.layers.Dense(128, activation= \"relu\")"
   ]
  },
  {
   "cell_type": "code",
   "execution_count": 17,
   "id": "5985b0c4",
   "metadata": {},
   "outputs": [],
   "source": [
    "\"\"\"\n",
    "별도의 층처럼 적용할 수도 있다\n",
    "이렇게 별도의 층으로 적용하는 경우는 Dense 레이어 다음에 배치 정규화(Batch Normalization)를 적용한 후 활성화 함수를 적용하고자 할때 \n",
    "많이 사용된다\n",
    "즉 , 레이어 구성을 조금 더 관리하고 싶을때 구분하여 처리한다\n",
    "\"\"\"\n",
    "# Dense 레이어와 relu 활성화 함수 레이어를 별도 적용한 경우\n",
    "model = tf.keras.Sequential([\n",
    "    tf.keras.layers.Dense(128),\n",
    "    tf.keras.layers.Activation(\"relu\")\n",
    "])"
   ]
  },
  {
   "cell_type": "code",
   "execution_count": 18,
   "id": "a846431e",
   "metadata": {},
   "outputs": [],
   "source": [
    "\"\"\"\n",
    "입력과 출력\n",
    "\n",
    "딥러닝 모델을 만들 때는 첫 번째 레이어에 입력 데이터의 형태를 나타내는 input_shape 매개변수를 지정하는 것이 일반적이다.\n",
    "앞에서 x_train의 shape(60000, 28, 28) 배열이라는 것을 확인한 바 있다\n",
    "\n",
    "여기서 데이터셋의 크기를 나타내는 60000이라는 숫자를 제외하고 이미지의 세로, 가로 형태를 나타내는 input_shape = (28, 28) 를 input_shape로 지정한다\n",
    "\n",
    "\n",
    "분류 모델의 가장 마지막 레이어는 출력층이다. 출력층의 노드 개수는 반드시 분류해야 할 클래스의 개수와 동일해야한다 \n",
    "mnist 는 0~9 까지 총 10개의 클래스로 이루어져 있기 때문에 마지막 출력층의 노드 개수는 10개가 되어야 한다\n",
    "\"\"\"\n",
    "\n",
    "model = tf.keras.Sequential([\n",
    "    tf.keras.layers.Flatten(input_shape = (28, 28)),\n",
    "    tf.keras.layers.Dense(256, activation=\"relu\"),\n",
    "    tf.keras.layers.Dense(64, activation=\"relu\"),\n",
    "    tf.keras.layers.Dense(32, activation=\"relu\"),\n",
    "    #노드 = 10개 (클래스 개수와 동일)\n",
    "    tf.keras.layers.Dense(10, activation=\"softmax\"),\n",
    "])"
   ]
  },
  {
   "cell_type": "code",
   "execution_count": 19,
   "id": "cd1bce1b",
   "metadata": {},
   "outputs": [
    {
     "data": {
      "text/plain": [
       "<keras.layers.core.dense.Dense at 0x207f26a7880>"
      ]
     },
     "execution_count": 19,
     "metadata": {},
     "output_type": "execute_result"
    }
   ],
   "source": [
    "\"\"\"\n",
    "출력층의 노드 개수가 2개 이상인 경우는 softmax 활성화 함수를 적용한다. 즉 다중 분류 문제에서는 softmax 활성화 함수를 사용해야한다\n",
    "반면 이진 분류 모델의 출력층 노드 개수를 1개로 설정한 경우에는 sigmoid 활성화 함수를 적용해야한다 - (단, 이진 분류 모델이더라도 출력 레이어의\n",
    "클래스를 원핫 인코딩으로 변환하여 노드 개수가 2개인 경우에는 softmax 함수를 사용한다)\n",
    "\"\"\"\n",
    "# 출력층 노드 = 1인 경우 sigmoid\n",
    "tf.keras.layers.Dense(1, activation=\"sigmoid\")\n",
    "\n",
    "# 출력층 노드 = 2개 이상인 경우. softmax\n",
    "tf.keras.layers.Dense(10, activation=\"softmax\")"
   ]
  },
  {
   "cell_type": "code",
   "execution_count": 20,
   "id": "fd5ad612",
   "metadata": {},
   "outputs": [],
   "source": [
    "\"\"\"\n",
    "###손실 함수\n",
    "\n",
    "분류 모델의 손실함수는 모델의 출력층에 따라 올바른 손실함수를 설정해야만 모델이 정상적으로 훈련할 수 있다\n",
    "\n",
    "이진 분류기(binary classifier) 생성 시 출력층의 노드 개수가 1이면 activation = \"sigmoid\"를 지정하며 손실함수는 \"binary_crossentropy\"를 지정하면 된다\n",
    "\n",
    "\n",
    "\"\"\"\n",
    "# 이진 분류(출력 노드 개수 =1, sigmoid 인 경우)\n",
    "model.compile(loss=\"binary_crossentropy\")"
   ]
  },
  {
   "cell_type": "code",
   "execution_count": 21,
   "id": "578afe2b",
   "metadata": {},
   "outputs": [],
   "source": [
    "\"\"\"\n",
    "출력층의 노드 개수가 2개 이상일 경우\n",
    "\"\"\"\n",
    "# y 가 원핫 벡터의 경우\n",
    "# [ 0.. 0.. 0.. 1.. 0.. 1.. 0..]\n",
    "model.compile(loss = \"categorical_crossentropy\")\n",
    "# y 가 원핫 벡터가 아닌 경우\n",
    "# [5]\n",
    "model.compile(loss = \"sparse_categorical_crossentropy\")"
   ]
  },
  {
   "cell_type": "code",
   "execution_count": 22,
   "id": "2b4f5685",
   "metadata": {},
   "outputs": [
    {
     "data": {
      "text/plain": [
       "'\\nmnist 손글씨 데이터셋의 손실 함수 loss 는 sparse_categorical_crossentropy 로 함\\n'"
      ]
     },
     "execution_count": 22,
     "metadata": {},
     "output_type": "execute_result"
    }
   ],
   "source": [
    "\"\"\"\n",
    "mnist 손글씨 데이터셋의 손실 함수 loss 는 sparse_categorical_crossentropy 로 함\n",
    "\"\"\""
   ]
  },
  {
   "cell_type": "code",
   "execution_count": 23,
   "id": "67aacae1",
   "metadata": {},
   "outputs": [
    {
     "name": "stderr",
     "output_type": "stream",
     "text": [
      "c:\\programdata\\anaconda3\\envs\\tensor1\\lib\\site-packages\\keras\\optimizer_v2\\adam.py:105: UserWarning: The `lr` argument is deprecated, use `learning_rate` instead.\n",
      "  super(Adam, self).__init__(name, **kwargs)\n"
     ]
    }
   ],
   "source": [
    "\"\"\"\n",
    "옵티마이저\n",
    "\n",
    "옵티마이저는 손실을 낮추기 위해서, 신경망의 가중치와 학습률과 같은 신경망의 속성을 변경하는데 사용되는 최적화 방법\n",
    "일반적으로 많이 사용되는 알고리즘은 Adam이며 대체적으로 좋은 성능을 발휘하는 것으로 알려져 있다\n",
    "\"\"\"\n",
    "#클래스 인스턴스로 지정\n",
    "adam = tf.keras.optimizers.Adam(lr=0.001)\n",
    "model.compile(optimizer = adam)\n",
    "\n",
    "# 문자열로 지정\n",
    "model.compile(optimizer=\"adam\")"
   ]
  },
  {
   "cell_type": "code",
   "execution_count": 24,
   "id": "f2351ad5",
   "metadata": {},
   "outputs": [],
   "source": [
    "\"\"\"\n",
    "평가 지표\n",
    "분류 모델에 대한 평가지표는 정확도를 나타내는 accuracy(또는 acc)가 가장 많이 사용되며 \"auc\", \"precision\", \"recall\"등의 지표도 많이 사용됨\n",
    "모델 컴파일 단계에서 metrics 매개 변수에 파이썬 리스트 형태로 하나 이상의 평가지표를 지정하여 여러 지표들을 동시에 참고할 수 있다.\n",
    "\n",
    "평가지표도 옵티마이저와 마찬가지로 클래스 인스턴스로 지정하거나 문자열로 지정할 수 있다\n",
    "다음 코드 예제를 보면, compile() 메소드의 metrics 속성에 평가지표를 설정하고 있다\n",
    "\"\"\"\n",
    "# 클래스 인스턴스로 지정\n",
    "acc = tf.keras.metrics.SparseCategoricalAccuracy()\n",
    "\n",
    "model.compile(optimizer=\"adam\",\n",
    "             loss = \"sparse_categorical_crossentropy\",\n",
    "             metrics = [acc])\n",
    "\n"
   ]
  },
  {
   "cell_type": "code",
   "execution_count": 25,
   "id": "0374564a",
   "metadata": {},
   "outputs": [],
   "source": [
    "# 문자열로 지정\n",
    "model.compile(optimizer=\"adam\",\n",
    "             loss=\"sparse_categorical_crossentropy\",\n",
    "             metrics=[\"accuracy\"])"
   ]
  },
  {
   "cell_type": "code",
   "execution_count": 26,
   "id": "1ba1f8c6",
   "metadata": {},
   "outputs": [
    {
     "name": "stdout",
     "output_type": "stream",
     "text": [
      "Model: \"sequential_1\"\n",
      "_________________________________________________________________\n",
      " Layer (type)                Output Shape              Param #   \n",
      "=================================================================\n",
      " flatten_1 (Flatten)         (None, 784)               0         \n",
      "                                                                 \n",
      " dense_2 (Dense)             (None, 256)               200960    \n",
      "                                                                 \n",
      " dense_3 (Dense)             (None, 64)                16448     \n",
      "                                                                 \n",
      " dense_4 (Dense)             (None, 32)                2080      \n",
      "                                                                 \n",
      " dense_5 (Dense)             (None, 10)                330       \n",
      "                                                                 \n",
      "=================================================================\n",
      "Total params: 219,818\n",
      "Trainable params: 219,818\n",
      "Non-trainable params: 0\n",
      "_________________________________________________________________\n"
     ]
    }
   ],
   "source": [
    "model.summary()"
   ]
  },
  {
   "cell_type": "code",
   "execution_count": 27,
   "id": "8541973d",
   "metadata": {},
   "outputs": [
    {
     "name": "stdout",
     "output_type": "stream",
     "text": [
      "Epoch 1/10\n",
      "1875/1875 [==============================] - 8s 4ms/step - loss: 0.2363 - accuracy: 0.9280 - val_loss: 0.1573 - val_accuracy: 0.9491\n",
      "Epoch 2/10\n",
      "1875/1875 [==============================] - 7s 4ms/step - loss: 0.0917 - accuracy: 0.9724 - val_loss: 0.0831 - val_accuracy: 0.9753\n",
      "Epoch 3/10\n",
      "1875/1875 [==============================] - 8s 4ms/step - loss: 0.0657 - accuracy: 0.9797 - val_loss: 0.0863 - val_accuracy: 0.9736\n",
      "Epoch 4/10\n",
      "1875/1875 [==============================] - 7s 4ms/step - loss: 0.0496 - accuracy: 0.9843 - val_loss: 0.0727 - val_accuracy: 0.9775\n",
      "Epoch 5/10\n",
      "1875/1875 [==============================] - 8s 4ms/step - loss: 0.0397 - accuracy: 0.9872 - val_loss: 0.0837 - val_accuracy: 0.9755\n",
      "Epoch 6/10\n",
      "1875/1875 [==============================] - 7s 4ms/step - loss: 0.0337 - accuracy: 0.9890 - val_loss: 0.0804 - val_accuracy: 0.9795\n",
      "Epoch 7/10\n",
      "1875/1875 [==============================] - 7s 4ms/step - loss: 0.0279 - accuracy: 0.9911 - val_loss: 0.0842 - val_accuracy: 0.9780\n",
      "Epoch 8/10\n",
      "1875/1875 [==============================] - 7s 4ms/step - loss: 0.0243 - accuracy: 0.9921 - val_loss: 0.0834 - val_accuracy: 0.9787\n",
      "Epoch 9/10\n",
      "1875/1875 [==============================] - 7s 4ms/step - loss: 0.0212 - accuracy: 0.9930 - val_loss: 0.0825 - val_accuracy: 0.9785\n",
      "Epoch 10/10\n",
      "1875/1875 [==============================] - 7s 4ms/step - loss: 0.0185 - accuracy: 0.9943 - val_loss: 0.0968 - val_accuracy: 0.9770\n"
     ]
    },
    {
     "data": {
      "text/plain": [
       "<keras.callbacks.History at 0x207f28e26a0>"
      ]
     },
     "execution_count": 27,
     "metadata": {},
     "output_type": "execute_result"
    }
   ],
   "source": [
    "\"\"\"\n",
    "훈련\n",
    "mnist 손글씨 데이터셋은 10000개로 구성된 별도의 검증 셋이 존재한다. 우리는 검증 셋을 (x_test, y_test)에 저장했다.\n",
    "모델을 훈련할 때 검증 셋을 추가 지정하면, 매 epoch마다 훈련 손실과 검증 손실, 그리고 각 셋에 대한 평가지표를 나란히 출력한다.\n",
    "검증 셋을 지정하는 방법은 validation_data 매개변수에 투플 형식의 검증 셋을 지정해주면 된다.\n",
    "\"\"\"\n",
    "#훈련\n",
    "model.fit(x_train, y_train,\n",
    "         #검증 셋 지정\n",
    "         validation_data=(x_test, y_test),\n",
    "         epochs=10)"
   ]
  },
  {
   "cell_type": "code",
   "execution_count": 28,
   "id": "6e38c1b0",
   "metadata": {},
   "outputs": [
    {
     "name": "stdout",
     "output_type": "stream",
     "text": [
      "313/313 [==============================] - 1s 2ms/step - loss: 0.0968 - accuracy: 0.9770\n",
      "검증 셋 정확도: 0.9769999980926514\n"
     ]
    }
   ],
   "source": [
    "\"\"\"\n",
    "평가 \n",
    "10회의 epoch가 끝나고 훈련이 종료된 뒤 evaluate() 메소드로 모델 성능을 검증하고 평가 결과를 확인할 수 있다.\n",
    "이때 검증 셋인 x_test, y_test를 함수에 전달한다\n",
    "\"\"\"\n",
    "# 검증\n",
    "test_loss, test_acc = model.evaluate(x_test, y_test)\n",
    "\n",
    "print(\"검증 셋 정확도:\", test_acc)"
   ]
  },
  {
   "cell_type": "code",
   "execution_count": 29,
   "id": "b539dacc",
   "metadata": {},
   "outputs": [],
   "source": [
    "\"\"\"\n",
    "예측\n",
    "\n",
    "훈련된 모델로 새로운 이미지에 대한 분류 값을 예측하는 작업을 수행할 수 있다. predict() 메소드에 이미지 데이터를 넣어주면 모델의 예측 결과를 반환한다.\n",
    "여기서는 예측에 필요한 새로운 데이터셋이 준비되어 있지 않기 때문에, 검증 데이터셋의 입력 데이터인 x_test를 사용한다\n",
    "\"\"\"\n",
    "# 예측\n",
    "predictions = model.predict(x_test)"
   ]
  },
  {
   "cell_type": "code",
   "execution_count": 30,
   "id": "22981dbc",
   "metadata": {},
   "outputs": [
    {
     "data": {
      "text/plain": [
       "array([3.9478264e-11, 7.8939184e-09, 2.1468270e-10, 1.2853353e-09,\n",
       "       1.4456354e-08, 6.3119452e-14, 1.8433604e-17, 9.9999988e-01,\n",
       "       1.0884019e-12, 9.0931813e-08], dtype=float32)"
      ]
     },
     "execution_count": 30,
     "metadata": {},
     "output_type": "execute_result"
    }
   ],
   "source": [
    "\"\"\"\n",
    "predictions 변수에 모델이 예측한 분류 결과를 넘파이 배열 형태로 저장한다.  첫 번째 입력 이미지에 대한 분류 결과를 출력해보면 다음과 같이 10개의\n",
    "확률값들이 출력되는 것을 확인할 수 있다.\n",
    "\"\"\"\n",
    "# 예측 결과 출력 7에 높은 확률값이 뜬다\n",
    "predictions[0]"
   ]
  },
  {
   "cell_type": "code",
   "execution_count": 31,
   "id": "08146edd",
   "metadata": {},
   "outputs": [
    {
     "name": "stdout",
     "output_type": "stream",
     "text": [
      "7\n",
      "[7 2 1 0 4 1 4 9 5 9]\n"
     ]
    }
   ],
   "source": [
    "\"\"\"\n",
    "넘파이 배열의 argmax를 활용하여 가장 높은 확률값을 가지는 클래스 결과를 확인할 수 있다\n",
    "\"\"\"\n",
    "import numpy as np\n",
    "\n",
    "#0번 index에 대한 예측 클래스 출력\n",
    "print(np.argmax(predictions[0]))\n",
    "\n",
    "#첫 10개 index에 대한 예측 클래스 출력\n",
    "print(np.argmax(predictions[:10], axis=1))"
   ]
  },
  {
   "cell_type": "code",
   "execution_count": 38,
   "id": "ae396a31",
   "metadata": {},
   "outputs": [
    {
     "data": {
      "image/png": "[encoded data removed]",
      "text/plain": [
       "<Figure size 864x720 with 15 Axes>"
      ]
     },
     "metadata": {},
     "output_type": "display_data"
    }
   ],
   "source": [
    "\"\"\"\n",
    "matplotlib 시각화\n",
    "\"\"\"\n",
    "# 데이터 시각화\n",
    "import matplotlib.pyplot as plt\n",
    "def get_one_result(idx):\n",
    "    img, y_true, y_pred, confidence = x_test[idx], y_test[idx], np.argmax(predictions[idx]), 100*np.max(predictions[idx])\n",
    "    return img, y_true, y_pred, confidence\n",
    "\n",
    "#canvas 생성\n",
    "fig, axes = plt.subplots(3, 5)\n",
    "fig.set_size_inches(12, 10)\n",
    "for i in range(15):\n",
    "    ax = axes[i//5, i%5]\n",
    "    img, y_true, y_pred, confidence = get_one_result(i)\n",
    "    #imshow로 이미지 시각화\n",
    "    ax.imshow(img, cmap=\"gray\")\n",
    "    ax.set_xticks([])\n",
    "    ax.set_yticks([])\n",
    "    ax.set_title(f\"True: {y_true}\")\n",
    "    ax.set_xlabel(f\"Prediction: {y_pred}\\n confidence:({confidence: 2f} % )\")\n",
    "\n",
    "plt.tight_layout()\n",
    "plt.show()"
   ]
  },
  {
   "cell_type": "code",
   "execution_count": null,
   "id": "87345b0b",
   "metadata": {},
   "outputs": [],
   "source": []
  }
 ],
 "metadata": {
  "kernelspec": {
   "display_name": "Python 3 (ipykernel)",
   "language": "python",
   "name": "python3"
  },
  "language_info": {
   "codemirror_mode": {
    "name": "ipython",
    "version": 3
   },
   "file_extension": ".py",
   "mimetype": "text/x-python",
   "name": "python",
   "nbconvert_exporter": "python",
   "pygments_lexer": "ipython3",
   "version": "3.8.12"
  }
 },
 "nbformat": 4,
 "nbformat_minor": 5
}
