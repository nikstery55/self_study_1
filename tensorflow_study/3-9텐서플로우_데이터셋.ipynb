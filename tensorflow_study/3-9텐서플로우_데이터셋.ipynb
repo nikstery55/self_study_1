{
 "cells": [
  {
   "cell_type": "code",
   "execution_count": null,
   "id": "c127463e",
   "metadata": {},
   "outputs": [],
   "source": [
    "\"\"\"\n",
    "가볍게 하자\n",
    "\n",
    "다양한 데이터셋은 세상에 넘쳐있다\n",
    "\n",
    "설치는 해두자\n",
    "\"\"\""
   ]
  }
 ],
 "metadata": {
  "kernelspec": {
   "display_name": "Python 3 (ipykernel)",
   "language": "python",
   "name": "python3"
  },
  "language_info": {
   "codemirror_mode": {
    "name": "ipython",
    "version": 3
   },
   "file_extension": ".py",
   "mimetype": "text/x-python",
   "name": "python",
   "nbconvert_exporter": "python",
   "pygments_lexer": "ipython3",
   "version": "3.8.12"
  }
 },
 "nbformat": 4,
 "nbformat_minor": 5
}
