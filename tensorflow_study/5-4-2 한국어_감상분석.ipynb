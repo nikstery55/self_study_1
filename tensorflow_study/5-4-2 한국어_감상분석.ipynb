{
 "cells": [
  {
   "cell_type": "code",
   "execution_count": 1,
   "id": "285cfea1",
   "metadata": {},
   "outputs": [],
   "source": [
    "\"\"\"\n",
    "한국어 감성 분석\n",
    "RNN과 자연어 처리 방법을 활용해 텍스트 데이터에서 긍정 또는 부정 감정을 \n",
    "분류하는 예제를 살펴본다\n",
    "\n",
    "\"\"\"\n",
    "# 필요한 라이브러리 불러오기\n",
    "import pandas as pd\n",
    "import numpy as np\n",
    "import seaborn as sns\n",
    "import matplotlib.pyplot as plt\n",
    "import tensorflow as tf\n",
    "import warnings\n",
    "warnings.filterwarnings(action=\"ignore\")"
   ]
  },
  {
   "cell_type": "code",
   "execution_count": 2,
   "id": "3c98a01b",
   "metadata": {},
   "outputs": [],
   "source": [
    "\"\"\"\n",
    "텍스트 분류에서 사용할 데이터 셋은 네이버 영화 리뷰 데이터이다\n",
    "총 200,000개의 데이터가 있으며 훈련(train)데이터로 150,000개 \n",
    "테스트(test)데이터가 50,000개로 구성되어 있다\n",
    "모든 리뷰의 길이는 140자 이내이며, 실제 영화 리뷰 점수는 1점에서 10점으로 이루어져 있다\n",
    "9~10점을 긍정적 리뷰, 1~4점을 부정적 리뷰로 분류한 데이터이다 (5~8점은 포함하지 않음)\n",
    "\n",
    "먼저 train 데이터를 다운로드한 후 데이터프레임으로 저장한다 \n",
    "이때 데이터셋은 txt 파일이며 탭(Tap)으로 컬럼(열)이 구분되어 있어 구분자를 sep =\"\\t\"으로\n",
    "설정한다\n",
    "텐서플로에서 제공하고 있는 get_file()함수를 사용하면 URL로부터 다운로드가 가능하다\n",
    "\"\"\"\n",
    "# Naver sentiment movie corpus v1.0 데이터셋 불러오기\n",
    "train_file = tf.keras.utils.get_file(\n",
    "    'ratings_train.txt', \n",
    "    origin='https://raw.githubusercontent.com/e9t/nsmc/master/ratings_train.txt', \n",
    "    extract=True)\n",
    "\n",
    "train = pd.read_csv(train_file, sep=\"\\t\")"
   ]
  },
  {
   "cell_type": "code",
   "execution_count": 3,
   "id": "3b9e3fd2",
   "metadata": {
    "scrolled": true
   },
   "outputs": [
    {
     "name": "stdout",
     "output_type": "stream",
     "text": [
      "train shape: (150000, 3)\n"
     ]
    },
    {
     "data": {
      "text/html": [
       "<div>\n",
       "<style scoped>\n",
       "    .dataframe tbody tr th:only-of-type {\n",
       "        vertical-align: middle;\n",
       "    }\n",
       "\n",
       "    .dataframe tbody tr th {\n",
       "        vertical-align: top;\n",
       "    }\n",
       "\n",
       "    .dataframe thead th {\n",
       "        text-align: right;\n",
       "    }\n",
       "</style>\n",
       "<table border=\"1\" class=\"dataframe\">\n",
       "  <thead>\n",
       "    <tr style=\"text-align: right;\">\n",
       "      <th></th>\n",
       "      <th>id</th>\n",
       "      <th>document</th>\n",
       "      <th>label</th>\n",
       "    </tr>\n",
       "  </thead>\n",
       "  <tbody>\n",
       "    <tr>\n",
       "      <th>0</th>\n",
       "      <td>9976970</td>\n",
       "      <td>아 더빙.. 진짜 짜증나네요 목소리</td>\n",
       "      <td>0</td>\n",
       "    </tr>\n",
       "    <tr>\n",
       "      <th>1</th>\n",
       "      <td>3819312</td>\n",
       "      <td>흠...포스터보고 초딩영화줄....오버연기조차 가볍지 않구나</td>\n",
       "      <td>1</td>\n",
       "    </tr>\n",
       "    <tr>\n",
       "      <th>2</th>\n",
       "      <td>10265843</td>\n",
       "      <td>너무재밓었다그래서보는것을추천한다</td>\n",
       "      <td>0</td>\n",
       "    </tr>\n",
       "    <tr>\n",
       "      <th>3</th>\n",
       "      <td>9045019</td>\n",
       "      <td>교도소 이야기구먼 ..솔직히 재미는 없다..평점 조정</td>\n",
       "      <td>0</td>\n",
       "    </tr>\n",
       "    <tr>\n",
       "      <th>4</th>\n",
       "      <td>6483659</td>\n",
       "      <td>사이몬페그의 익살스런 연기가 돋보였던 영화!스파이더맨에서 늙어보이기만 했던 커스틴 ...</td>\n",
       "      <td>1</td>\n",
       "    </tr>\n",
       "  </tbody>\n",
       "</table>\n",
       "</div>"
      ],
      "text/plain": [
       "         id                                           document  label\n",
       "0   9976970                                아 더빙.. 진짜 짜증나네요 목소리      0\n",
       "1   3819312                  흠...포스터보고 초딩영화줄....오버연기조차 가볍지 않구나      1\n",
       "2  10265843                                  너무재밓었다그래서보는것을추천한다      0\n",
       "3   9045019                      교도소 이야기구먼 ..솔직히 재미는 없다..평점 조정      0\n",
       "4   6483659  사이몬페그의 익살스런 연기가 돋보였던 영화!스파이더맨에서 늙어보이기만 했던 커스틴 ...      1"
      ]
     },
     "execution_count": 3,
     "metadata": {},
     "output_type": "execute_result"
    }
   ],
   "source": [
    "\"\"\"\n",
    "EDA (탐색적 데이터 분석)\n",
    "간단한 탐색적 데이터 분석(EDA)를 통해 데이터 파악 및 전처리가 필요한 부분을 찾아본다\n",
    "데이터 크기 및 샘플 확인, 레이블 비율, 결측치, 각 레이블별 텍스트 길이 등을 확인한다\n",
    "train 데이터 크기(150000, 3 )이다\n",
    "데이터 샘플을 살펴보면 id, documment, label로 구성되어 있음을 확인할 수 있다\n",
    "감성분석을 위한 텍스트 분류 모델에서 필요한 값은 document 와 label이다\n",
    "\"\"\"\n",
    "# 데이터 크기 및 샘플 확인\n",
    "print(\"train shape:\", train.shape)\n",
    "train.head()"
   ]
  },
  {
   "cell_type": "code",
   "execution_count": 4,
   "id": "21fd7b40",
   "metadata": {},
   "outputs": [
    {
     "name": "stdout",
     "output_type": "stream",
     "text": [
      "0    75173\n",
      "1    74827\n",
      "Name: label, dtype: int64\n"
     ]
    }
   ],
   "source": [
    "\"\"\"\n",
    "label 열에 들어 있는 긍정 또는 부정의 비율을 비교한다\n",
    "0(부정) : 75,173개와 1(긍정) : 74,827개로 비슷한 비율로 구성되었음을 확인할 수 있다\n",
    "\"\"\"\n",
    "#레이블별 개수\n",
    "cnt = train[\"label\"].value_counts()\n",
    "print(cnt)"
   ]
  },
  {
   "cell_type": "code",
   "execution_count": 6,
   "id": "c239d95b",
   "metadata": {},
   "outputs": [
    {
     "data": {
      "text/plain": [
       "<AxesSubplot:xlabel='label', ylabel='count'>"
      ]
     },
     "execution_count": 6,
     "metadata": {},
     "output_type": "execute_result"
    },
    {
     "data": {
      "image/png": "[encoded data removed]",
      "text/plain": [
       "<Figure size 432x288 with 1 Axes>"
      ]
     },
     "metadata": {
      "needs_background": "light"
     },
     "output_type": "display_data"
    }
   ],
   "source": [
    "\"\"\"\n",
    "seaborn 라이브러리의 countplot()함수로 시각화\n",
    "\"\"\"\n",
    "# 레이블별 비율\n",
    "sns.countplot(x = \"label\", data=train)"
   ]
  },
  {
   "cell_type": "code",
   "execution_count": 7,
   "id": "44d7275e",
   "metadata": {},
   "outputs": [
    {
     "data": {
      "text/plain": [
       "id          0\n",
       "document    5\n",
       "label       0\n",
       "dtype: int64"
      ]
     },
     "execution_count": 7,
     "metadata": {},
     "output_type": "execute_result"
    }
   ],
   "source": [
    "\"\"\"\n",
    "데이터셋의 결측치를 확인해 보자\n",
    "document에 5개의 빈 값이 보인다 \n",
    "빈 값은 부정일 수도 있고 긍정일 수도 있어\n",
    "label 값과 비교해볼 필요가 있다\n",
    "\"\"\"\n",
    "#결측치 확인\n",
    "train.isnull().sum()"
   ]
  },
  {
   "cell_type": "code",
   "execution_count": 9,
   "id": "d763aaf1",
   "metadata": {},
   "outputs": [
    {
     "data": {
      "text/html": [
       "<div>\n",
       "<style scoped>\n",
       "    .dataframe tbody tr th:only-of-type {\n",
       "        vertical-align: middle;\n",
       "    }\n",
       "\n",
       "    .dataframe tbody tr th {\n",
       "        vertical-align: top;\n",
       "    }\n",
       "\n",
       "    .dataframe thead th {\n",
       "        text-align: right;\n",
       "    }\n",
       "</style>\n",
       "<table border=\"1\" class=\"dataframe\">\n",
       "  <thead>\n",
       "    <tr style=\"text-align: right;\">\n",
       "      <th></th>\n",
       "      <th>id</th>\n",
       "      <th>document</th>\n",
       "      <th>label</th>\n",
       "    </tr>\n",
       "  </thead>\n",
       "  <tbody>\n",
       "    <tr>\n",
       "      <th>25857</th>\n",
       "      <td>2172111</td>\n",
       "      <td>NaN</td>\n",
       "      <td>1</td>\n",
       "    </tr>\n",
       "    <tr>\n",
       "      <th>55737</th>\n",
       "      <td>6369843</td>\n",
       "      <td>NaN</td>\n",
       "      <td>1</td>\n",
       "    </tr>\n",
       "    <tr>\n",
       "      <th>110014</th>\n",
       "      <td>1034280</td>\n",
       "      <td>NaN</td>\n",
       "      <td>0</td>\n",
       "    </tr>\n",
       "    <tr>\n",
       "      <th>126782</th>\n",
       "      <td>5942978</td>\n",
       "      <td>NaN</td>\n",
       "      <td>0</td>\n",
       "    </tr>\n",
       "    <tr>\n",
       "      <th>140721</th>\n",
       "      <td>1034283</td>\n",
       "      <td>NaN</td>\n",
       "      <td>0</td>\n",
       "    </tr>\n",
       "  </tbody>\n",
       "</table>\n",
       "</div>"
      ],
      "text/plain": [
       "             id document  label\n",
       "25857   2172111      NaN      1\n",
       "55737   6369843      NaN      1\n",
       "110014  1034280      NaN      0\n",
       "126782  5942978      NaN      0\n",
       "140721  1034283      NaN      0"
      ]
     },
     "execution_count": 9,
     "metadata": {},
     "output_type": "execute_result"
    }
   ],
   "source": [
    "\"\"\"\n",
    "리뷰 글이 없는(빈 글) 데이터는 특정 label 값만 있는 것이 아니라 긍정과 부정이\n",
    "섞여 있음을 확인할 수 있다\n",
    "의미가 없는 데이터이므로 결측치가 있는 행은 추후 삭제하기로 한다\n",
    "\"\"\"\n",
    "# 결측치(의견 없음)가 특정 label 값만 있는지 확인\n",
    "train[train[\"document\"].isnull()]"
   ]
  },
  {
   "cell_type": "code",
   "execution_count": 12,
   "id": "ef510e5d",
   "metadata": {},
   "outputs": [
    {
     "data": {
      "image/png": "[encoded data removed]",
      "text/plain": [
       "<Figure size 720x360 with 2 Axes>"
      ]
     },
     "metadata": {
      "needs_background": "light"
     },
     "output_type": "display_data"
    }
   ],
   "source": [
    "\"\"\"\n",
    "긍정과 부정에 따른 데이터의 길이 차이가 있는지 확인해보자. \n",
    "예를 들어 긍정적인 감정을 가지고 있다면 감탄사만 나열해 짧게 작성하거나\n",
    "구체적인 감정을 길게 작성하는 특징이 있을 수도 있다는 가설을 세우고,\n",
    "이를 확인하기 위해 시각화해서 체크해볼 수 있다\n",
    "\"\"\"\n",
    "# 레이블별 텍스트 길이\n",
    "fig,(ax1,ax2)=plt.subplots(1,2,figsize=(10,5))\n",
    "data_len = train[train[\"label\"]==1][\"document\"].str.len()\n",
    "ax1.hist(data_len)\n",
    "ax1.set_title(\"positive\")\n",
    "\n",
    "data_len = train[train[\"label\"]==0][\"document\"].str.len()\n",
    "ax2.hist(data_len)\n",
    "ax2.set_title(\"negative\")\n",
    "fig.suptitle(\"Number of characters\")\n",
    "plt.show()"
   ]
  },
  {
   "cell_type": "code",
   "execution_count": null,
   "id": "efd17c25",
   "metadata": {},
   "outputs": [],
   "source": [
    "\"\"\"\n",
    "긍정과 부정의 차이가 거의 없음을 확인함\n",
    "\"\"\""
   ]
  },
  {
   "cell_type": "code",
   "execution_count": 13,
   "id": "4265e72e",
   "metadata": {},
   "outputs": [
    {
     "name": "stderr",
     "output_type": "stream",
     "text": [
      "Cloning into 'Mecab-ko-for-Google-Colab'...\n"
     ]
    }
   ],
   "source": [
    "\"\"\"\n",
    "4-2-3 형태소 분석기 불러오기\n",
    "여러 가지 한국어 형태소 분석기가 개발되어 있다 Kkma, Komoran, Okt, Mecab 등을 예로 들 수 있따\n",
    "영어는 띄어쓰기가 잘 되어 있는 편이지만 한글은 띄어쓰기, 맞춤법 등이 잘못된 경우 \n",
    "분리에 어려움이 있따 \n",
    "한편, 정확한 형태소 분석을 위해서는 데이터에 따라 전처리 과정 등이 필요할 수도 있다\n",
    "\"\"\"\n",
    "! git clone https://github.com/SOMJANG/Mecab-ko-for-Google-Colab.git"
   ]
  },
  {
   "cell_type": "code",
   "execution_count": 14,
   "id": "1db26c60",
   "metadata": {},
   "outputs": [
    {
     "name": "stdout",
     "output_type": "stream",
     "text": [
      "C:\\jupyter_project\\playdata_2021_06\\tensorflow_자격증\\Mecab-ko-for-Google-Colab\n"
     ]
    }
   ],
   "source": [
    "cd Mecab-ko-for-Google-Colab/"
   ]
  },
  {
   "cell_type": "code",
   "execution_count": 15,
   "id": "cea59f9a",
   "metadata": {},
   "outputs": [],
   "source": [
    "! bash install_mecab-ko_on_colab190912.sh"
   ]
  },
  {
   "cell_type": "code",
   "execution_count": 16,
   "id": "9ae34a55",
   "metadata": {},
   "outputs": [
    {
     "ename": "ModuleNotFoundError",
     "evalue": "No module named 'konlpy'",
     "output_type": "error",
     "traceback": [
      "\u001b[1;31m---------------------------------------------------------------------------\u001b[0m",
      "\u001b[1;31mModuleNotFoundError\u001b[0m                       Traceback (most recent call last)",
      "\u001b[1;32m~\\AppData\\Local\\Temp/ipykernel_50244/1056165812.py\u001b[0m in \u001b[0;36m<module>\u001b[1;34m\u001b[0m\n\u001b[0;32m      1\u001b[0m \u001b[1;31m# Kkma, Komoran, Okt, Mecab 형태소\u001b[0m\u001b[1;33m\u001b[0m\u001b[1;33m\u001b[0m\u001b[1;33m\u001b[0m\u001b[0m\n\u001b[1;32m----> 2\u001b[1;33m \u001b[1;32mimport\u001b[0m \u001b[0mkonlpy\u001b[0m\u001b[1;33m\u001b[0m\u001b[1;33m\u001b[0m\u001b[0m\n\u001b[0m\u001b[0;32m      3\u001b[0m \u001b[1;32mfrom\u001b[0m \u001b[0mkonlpy\u001b[0m\u001b[1;33m.\u001b[0m\u001b[0mtag\u001b[0m \u001b[1;32mimport\u001b[0m \u001b[0mKkma\u001b[0m\u001b[1;33m,\u001b[0m \u001b[0mKomoran\u001b[0m\u001b[1;33m,\u001b[0m \u001b[0mOkt\u001b[0m\u001b[1;33m,\u001b[0m \u001b[0mMecab\u001b[0m\u001b[1;33m\u001b[0m\u001b[1;33m\u001b[0m\u001b[0m\n\u001b[0;32m      4\u001b[0m \u001b[1;33m\u001b[0m\u001b[0m\n\u001b[0;32m      5\u001b[0m \u001b[0mkkma\u001b[0m \u001b[1;33m=\u001b[0m \u001b[0mKkma\u001b[0m\u001b[1;33m(\u001b[0m\u001b[1;33m)\u001b[0m\u001b[1;33m\u001b[0m\u001b[1;33m\u001b[0m\u001b[0m\n",
      "\u001b[1;31mModuleNotFoundError\u001b[0m: No module named 'konlpy'"
     ]
    }
   ],
   "source": [
    "# Kkma, Komoran, Okt, Mecab 형태소\n",
    "import konlpy\n",
    "from konlpy.tag import Kkma, Komoran, Okt, Mecab\n",
    "\n",
    "kkma = Kkma()\n",
    "komoran = Komoran()\n",
    "okt = Okt()\n",
    "mecab = Mecab()\n"
   ]
  },
  {
   "cell_type": "code",
   "execution_count": null,
   "id": "10afc8e8",
   "metadata": {},
   "outputs": [],
   "source": [
    "\"\"\"\n",
    "모듈때문에 코랩으로 넘어감\n",
    "\"\"\""
   ]
  }
 ],
 "metadata": {
  "kernelspec": {
   "display_name": "Python 3 (ipykernel)",
   "language": "python",
   "name": "python3"
  },
  "language_info": {
   "codemirror_mode": {
    "name": "ipython",
    "version": 3
   },
   "file_extension": ".py",
   "mimetype": "text/x-python",
   "name": "python",
   "nbconvert_exporter": "python",
   "pygments_lexer": "ipython3",
   "version": "3.8.12"
  }
 },
 "nbformat": 4,
 "nbformat_minor": 5
}
