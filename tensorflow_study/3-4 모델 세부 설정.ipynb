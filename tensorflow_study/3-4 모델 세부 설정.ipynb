{
 "cells": [
  {
   "cell_type": "code",
   "execution_count": 1,
   "id": "8a58140b",
   "metadata": {},
   "outputs": [
    {
     "name": "stdout",
     "output_type": "stream",
     "text": [
      "train set: (60000, 28, 28) (60000,)\n",
      "test set: (10000, 28, 28) (10000,)\n"
     ]
    }
   ],
   "source": [
    "import tensorflow as tf\n",
    "\n",
    "# 케라스의 내장 데이터셋에서 mnist 데이터셋 로드\n",
    "mnist = tf.keras.datasets.mnist\n",
    "\n",
    "# load_data()로 데이터셋 로드\n",
    "(x_train, y_train),(x_test, y_test) = mnist.load_data()\n",
    "\n",
    "#로드된 데이터셋 확인\n",
    "print(\"train set:\", x_train.shape, y_train.shape)\n",
    "print(\"test set:\", x_test.shape, y_test.shape)\n",
    "\n",
    "#데이터 정규화  max는 255\n",
    "x_train = x_train / x_train.max()\n",
    "x_test = x_test / x_test.max()"
   ]
  },
  {
   "cell_type": "code",
   "execution_count": 2,
   "id": "fd2d25f1",
   "metadata": {},
   "outputs": [
    {
     "data": {
      "text/plain": [
       "{'class_name': 'GlorotUniform', 'config': {'seed': None}}"
      ]
     },
     "execution_count": 2,
     "metadata": {},
     "output_type": "execute_result"
    }
   ],
   "source": [
    "\"\"\"\n",
    "초기값 설정\n",
    "레이어의 초기화 방법을 다르게 설정할 수 있다. Dense 레이어는 기본 초기화 방법으로 Glorot\n",
    "Uniform 초기화 방법이 설정되어 있다\n",
    "\"\"\"\n",
    "dense = tf.keras.layers.Dense(256, activation=\"relu\")\n",
    "dense.get_config()[\"kernel_initializer\"]"
   ]
  },
  {
   "cell_type": "code",
   "execution_count": 3,
   "id": "126c4643",
   "metadata": {},
   "outputs": [
    {
     "name": "stdout",
     "output_type": "stream",
     "text": [
      "{'class_name': 'HeNormal', 'config': {'seed': None}}\n",
      "{'class_name': 'HeNormal', 'config': {'seed': None}}\n"
     ]
    }
   ],
   "source": [
    "\"\"\"\n",
    "기본값으로 설정된 GlorotUniform 초기화 방법을 HeNormal로 변경하기 위해서는 kernel_initializer 매개변수에 설정하면 된다\n",
    "옵티마이저, 손실함수와 마찬가지로 문자열로 지정하는 방법과 클래스 인스턴스로 지정하는 방법이 있다\n",
    "\"\"\"\n",
    "#문자열 초기화 \n",
    "dense = tf.keras.layers.Dense(256, kernel_initializer=\"he_normal\", activation=\"relu\")\n",
    "print(dense.get_config()[\"kernel_initializer\"])\n",
    "\n",
    "#클래스 인스턴스 초기화\n",
    "he_normal = tf.keras.initializers.HeNormal()\n",
    "dense = tf.keras.layers.Dense(256, kernel_initializer=he_normal, activation=\"relu\")\n",
    "print(dense.get_config()[\"kernel_initializer\"])"
   ]
  },
  {
   "cell_type": "code",
   "execution_count": 4,
   "id": "f40eeb69",
   "metadata": {},
   "outputs": [
    {
     "data": {
      "text/plain": [
       "{'name': 'dense_3',\n",
       " 'trainable': True,\n",
       " 'dtype': 'float32',\n",
       " 'units': 256,\n",
       " 'activation': 'relu',\n",
       " 'use_bias': True,\n",
       " 'kernel_initializer': {'class_name': 'GlorotUniform',\n",
       "  'config': {'seed': None}},\n",
       " 'bias_initializer': {'class_name': 'Zeros', 'config': {}},\n",
       " 'kernel_regularizer': None,\n",
       " 'bias_regularizer': None,\n",
       " 'activity_regularizer': None,\n",
       " 'kernel_constraint': None,\n",
       " 'bias_constraint': None}"
      ]
     },
     "execution_count": 4,
     "metadata": {},
     "output_type": "execute_result"
    }
   ],
   "source": [
    "\"\"\"\n",
    "###규제\n",
    "모델의 과대적합을 해소하기 위해 L1, L2 규제를 적용하기도 한다. 텐서플로 케라스 레이어는 기본값으로 규제를 적용하지 않고 있다.\n",
    "다음 코드에서 kernel_regularizer 설정이 Npne으로 설정되어 있는것을 확인할 수 있다\n",
    "따라서 레이어에 규제를 적용하기 위해서는 별도로 설정해 주어야 한다\n",
    "\"\"\"\n",
    "\n",
    "# 기본값\n",
    "dense = tf.keras.layers.Dense(256, activation=\"relu\")\n",
    "dense.get_config()"
   ]
  },
  {
   "cell_type": "code",
   "execution_count": 5,
   "id": "5b6eb7b7",
   "metadata": {},
   "outputs": [
    {
     "name": "stdout",
     "output_type": "stream",
     "text": [
      "{'class_name': 'L1', 'config': {'l1': 0.009999999776482582}}\n",
      "{'class_name': 'L1', 'config': {'l1': 0.10000000149011612}}\n"
     ]
    }
   ],
   "source": [
    "\"\"\"\n",
    "모델이 과대적합하는 것을 방지해 주기 위해 모델을 구성하는 레이어마다 규제를 적용할 수 있다.\n",
    "케라스에서 지원하는 규제는 L1, L2 규제가 있다. 규제를 적용하기 위해서는 kernel_regularizer에 규제를 지정하면 된다\n",
    "\"\"\"\n",
    "#L! 규제 적용\n",
    "dense = tf.keras.layers.Dense(256, kernel_regularizer=\"l1\", activation=\"relu\")\n",
    "print(dense.get_config()[\"kernel_regularizer\"])\n",
    "\n",
    "# 클래스 인스턴스 적용, alpha=0.1 변경\n",
    "regularizer = tf.keras.regularizers.l1(l1=0.1)\n",
    "dense = tf.keras.layers.Dense(256, kernel_regularizer=regularizer, activation=\"relu\")\n",
    "print(dense.get_config()[\"kernel_regularizer\"])"
   ]
  },
  {
   "cell_type": "code",
   "execution_count": 6,
   "id": "dd46c688",
   "metadata": {},
   "outputs": [
    {
     "data": {
      "text/plain": [
       "<keras.layers.core.dropout.Dropout at 0x23c77212250>"
      ]
     },
     "execution_count": 6,
     "metadata": {},
     "output_type": "execute_result"
    }
   ],
   "source": [
    "\"\"\"\n",
    "###드롭아웃\n",
    "드롭아웃은 2014년에 발표된 Dropout : 논문에서 제안된 아이디어이며 무려 26000번 이상 넘게 인용된 논문이다\n",
    "딥러닝 모델의 가장 큰 난제가 바로 과대적합 문제다\n",
    "딥러닝 모델의 층이 넓고 깊어질 때 (wide-and-deep)모델은 훈련에 주어진 샘플에 과하게 \n",
    "적합하도록 학습하는 경향이 있다\n",
    "따라서 훈련할때 만나지 못한 새로운 데이터에 대해서는 좋지 않는 예측력을 보일 때가 많다\n",
    "즉, 훈련 데이터셋에 너무 적응하여 검증 데이터셋이나 테스트 데이터셋에 대해 일반화된 성능을 \n",
    "갖지 못하는 문제가 자주 발생하는 편이다\n",
    "드롭아웃은 모델의 과대적합 문제를 해결하기 위해 제안된 아이디어이며, 실무적으로 상당히 좋은 \n",
    "효과를 보이는 것으로 알려져 있다\n",
    "\n",
    "- 중요한 점은 모델이 훈련할 때는 드롭아웃이 적용되어 노드 중 일부만 훈련하게 되지만, \n",
    "예측 시점에는 모든 노드들이 활용한다\n",
    "\"\"\"\n",
    "\n",
    "# Dropout 25% 비율 적용(25%의 노드가 삭제)\n",
    "tf.keras.layers.Dropout(0.25)"
   ]
  },
  {
   "cell_type": "code",
   "execution_count": 7,
   "id": "d64c5744",
   "metadata": {},
   "outputs": [
    {
     "name": "stdout",
     "output_type": "stream",
     "text": [
      "Model: \"sequential\"\n",
      "_________________________________________________________________\n",
      " Layer (type)                Output Shape              Param #   \n",
      "=================================================================\n",
      " flatten (Flatten)           (None, 784)               0         \n",
      "                                                                 \n",
      " dense_6 (Dense)             (None, 64)                50240     \n",
      "                                                                 \n",
      " dense_7 (Dense)             (None, 32)                2080      \n",
      "                                                                 \n",
      " dense_8 (Dense)             (None, 10)                330       \n",
      "                                                                 \n",
      "=================================================================\n",
      "Total params: 52,650\n",
      "Trainable params: 52,650\n",
      "Non-trainable params: 0\n",
      "_________________________________________________________________\n"
     ]
    }
   ],
   "source": [
    "\"\"\"\n",
    "# 배치 정규화\n",
    "\n",
    "배치 정규화는 각 층에서 활성화 함수를 통과하기 전 미니 배치의 스케일을 정규화 한다\n",
    "다음 층으로 데이터가 전달되기 전에 스케일을 조정하기 때문에 보다 안정적인 훈련이 가능하고\n",
    "성능을 크게 향상 시킬수 있다\n",
    "\n",
    "배치 정규화 층은 케라스에서 클래스 함수로 지원하기 때문에 별도로 코드를 구현할 필요가 없고,\n",
    "클래스 인스턴스를 생성하여 추가해주면 된다\n",
    "\n",
    "다음 코드에서는 Dense 레이어에 ReLU 활성화 함수를 추가한 모델을 model_a 로 지정하여 생성하고,\n",
    "배치 정규화를 적용 후 ReLU 활성화 함수를 추가한 모델을 model_b에 지정하여 성능 비교를 해본다\n",
    "\"\"\"\n",
    "#Model A: Dense + ReLU\n",
    "model_a = tf.keras.Sequential([\n",
    "    tf.keras.layers.Flatten(input_shape=(28, 28)),\n",
    "    tf.keras.layers.Dense(64, activation=\"relu\"),\n",
    "    tf.keras.layers.Dense(32, activation=\"relu\"),\n",
    "    tf.keras.layers.Dense(10, activation=\"softmax\"),\n",
    "])\n",
    "model_a.summary()"
   ]
  },
  {
   "cell_type": "code",
   "execution_count": 8,
   "id": "5949b32e",
   "metadata": {},
   "outputs": [
    {
     "name": "stdout",
     "output_type": "stream",
     "text": [
      "Model: \"sequential_1\"\n",
      "_________________________________________________________________\n",
      " Layer (type)                Output Shape              Param #   \n",
      "=================================================================\n",
      " flatten_1 (Flatten)         (None, 784)               0         \n",
      "                                                                 \n",
      " dense_9 (Dense)             (None, 64)                50240     \n",
      "                                                                 \n",
      " batch_normalization (BatchN  (None, 64)               256       \n",
      " ormalization)                                                   \n",
      "                                                                 \n",
      " activation (Activation)     (None, 64)                0         \n",
      "                                                                 \n",
      " dense_10 (Dense)            (None, 32)                2080      \n",
      "                                                                 \n",
      " batch_normalization_1 (Batc  (None, 32)               128       \n",
      " hNormalization)                                                 \n",
      "                                                                 \n",
      " activation_1 (Activation)   (None, 32)                0         \n",
      "                                                                 \n",
      " dense_11 (Dense)            (None, 10)                330       \n",
      "                                                                 \n",
      "=================================================================\n",
      "Total params: 53,034\n",
      "Trainable params: 52,842\n",
      "Non-trainable params: 192\n",
      "_________________________________________________________________\n"
     ]
    }
   ],
   "source": [
    "#model B: Dense + BatchNorm + ReLU\n",
    "model_b = tf.keras.Sequential([\n",
    "    tf.keras.layers.Flatten(input_shape = (28, 28)),\n",
    "    \n",
    "    tf.keras.layers.Dense(64),\n",
    "    #배치 정규화 적용\n",
    "    tf.keras.layers.BatchNormalization(),\n",
    "    #배치 정규화 후 활성화 함수 적용\n",
    "    tf.keras.layers.Activation(\"relu\"),\n",
    "    \n",
    "    tf.keras.layers.Dense(32),\n",
    "    #배치 정규화 적용\n",
    "    tf.keras.layers.BatchNormalization(),\n",
    "    #베치 정규화 후 활성화 함수 적용\n",
    "    tf.keras.layers.Activation(\"relu\"),\n",
    "    \n",
    "    tf.keras.layers.Dense(10, activation=\"softmax\"),\n",
    "])\n",
    "model_b.summary()"
   ]
  },
  {
   "cell_type": "code",
   "execution_count": 9,
   "id": "90cab358",
   "metadata": {},
   "outputs": [
    {
     "data": {
      "text/plain": [
       "<keras.layers.advanced_activations.LeakyReLU at 0x23c280c64c0>"
      ]
     },
     "execution_count": 9,
     "metadata": {},
     "output_type": "execute_result"
    }
   ],
   "source": [
    "\"\"\"\n",
    "#활성화 함수\n",
    "\n",
    "Dense 레이어에 ReLU활성화 함수를 지정했다\n",
    "케라스가 지원하는 다른 활성화 함수를 적용해 볼 수 있다\n",
    "활성화 함수를 적용할 때, 다음과 같이 클래스 인스턴스로 선언하여 하이퍼파라미터 값을 변경하여 적용할 수 있다\n",
    "\n",
    "\"\"\"\n",
    "# LeakyReLU 기본 설정\n",
    "tf.keras.layers.LeakyReLU()\n",
    "\n",
    "# LeakyReLU, alpha=0.2.로 변경\n",
    "tf.keras.layers.LeakyReLU(alpha=0.2)"
   ]
  },
  {
   "cell_type": "code",
   "execution_count": 10,
   "id": "0e01f827",
   "metadata": {},
   "outputs": [
    {
     "name": "stdout",
     "output_type": "stream",
     "text": [
      "Model: \"sequential_2\"\n",
      "_________________________________________________________________\n",
      " Layer (type)                Output Shape              Param #   \n",
      "=================================================================\n",
      " flatten_2 (Flatten)         (None, 784)               0         \n",
      "                                                                 \n",
      " dense_12 (Dense)            (None, 64)                50240     \n",
      "                                                                 \n",
      " batch_normalization_2 (Batc  (None, 64)               256       \n",
      " hNormalization)                                                 \n",
      "                                                                 \n",
      " leaky_re_lu_2 (LeakyReLU)   (None, 64)                0         \n",
      "                                                                 \n",
      " dense_13 (Dense)            (None, 32)                2080      \n",
      "                                                                 \n",
      " batch_normalization_3 (Batc  (None, 32)               128       \n",
      " hNormalization)                                                 \n",
      "                                                                 \n",
      " leaky_re_lu_3 (LeakyReLU)   (None, 32)                0         \n",
      "                                                                 \n",
      " dense_14 (Dense)            (None, 10)                330       \n",
      "                                                                 \n",
      "=================================================================\n",
      "Total params: 53,034\n",
      "Trainable params: 52,842\n",
      "Non-trainable params: 192\n",
      "_________________________________________________________________\n"
     ]
    }
   ],
   "source": [
    "#LeakyReLU를 모델에 적용할 때는 다음과 같이 적용할 수 있다\n",
    "# Model C: Dense + BatchNorm + LeakyReLU(0.2)\n",
    "model_c = tf.keras.Sequential([\n",
    "    tf.keras.layers.Flatten(input_shape=(28, 28)),\n",
    "    \n",
    "    tf.keras.layers.Dense(64),\n",
    "    #배치 정규화 적용\n",
    "    tf.keras.layers.BatchNormalization(),\n",
    "    #LeakyReLU , alpha =0.2 적용\n",
    "    tf.keras.layers.LeakyReLU(alpha =0.2),\n",
    "    \n",
    "    tf.keras.layers.Dense(32),\n",
    "    #배치 정규화 적용\n",
    "    tf.keras.layers.BatchNormalization(),\n",
    "    #LeakyReLU, alpha=0.2 적용\n",
    "    tf.keras.layers.LeakyReLU(alpha=0.2),\n",
    "    \n",
    "    tf.keras.layers.Dense(10, activation=\"softmax\"),\n",
    "    \n",
    "])\n",
    "\n",
    "model_c.summary()"
   ]
  },
  {
   "cell_type": "code",
   "execution_count": 11,
   "id": "ae09d00f",
   "metadata": {},
   "outputs": [
    {
     "name": "stdout",
     "output_type": "stream",
     "text": [
      "Epoch 1/10\n",
      "1875/1875 [==============================] - 8s 4ms/step - loss: 0.2849 - accuracy: 0.9182 - val_loss: 0.1482 - val_accuracy: 0.9571\n",
      "Epoch 2/10\n",
      "1875/1875 [==============================] - 7s 4ms/step - loss: 0.1252 - accuracy: 0.9631 - val_loss: 0.1119 - val_accuracy: 0.9653\n",
      "Epoch 3/10\n",
      "1875/1875 [==============================] - 7s 4ms/step - loss: 0.0914 - accuracy: 0.9730 - val_loss: 0.1040 - val_accuracy: 0.9678\n",
      "Epoch 4/10\n",
      "1875/1875 [==============================] - 7s 4ms/step - loss: 0.0732 - accuracy: 0.9773 - val_loss: 0.0906 - val_accuracy: 0.9731\n",
      "Epoch 5/10\n",
      "1875/1875 [==============================] - 7s 4ms/step - loss: 0.0615 - accuracy: 0.9814 - val_loss: 0.0888 - val_accuracy: 0.9725\n",
      "Epoch 6/10\n",
      "1875/1875 [==============================] - 7s 4ms/step - loss: 0.0498 - accuracy: 0.9841 - val_loss: 0.0985 - val_accuracy: 0.9705\n",
      "Epoch 7/10\n",
      "1875/1875 [==============================] - 7s 4ms/step - loss: 0.0455 - accuracy: 0.9858 - val_loss: 0.0904 - val_accuracy: 0.9737\n",
      "Epoch 8/10\n",
      "1875/1875 [==============================] - 7s 4ms/step - loss: 0.0395 - accuracy: 0.9875 - val_loss: 0.0890 - val_accuracy: 0.9759\n",
      "Epoch 9/10\n",
      "1875/1875 [==============================] - 7s 4ms/step - loss: 0.0342 - accuracy: 0.9889 - val_loss: 0.0943 - val_accuracy: 0.9724\n",
      "Epoch 10/10\n",
      "1875/1875 [==============================] - 7s 4ms/step - loss: 0.0290 - accuracy: 0.9904 - val_loss: 0.0873 - val_accuracy: 0.9771\n",
      "Epoch 1/10\n",
      "1875/1875 [==============================] - 15s 8ms/step - loss: 0.3308 - accuracy: 0.9102 - val_loss: 0.1363 - val_accuracy: 0.9577\n",
      "Epoch 2/10\n",
      "1875/1875 [==============================] - 14s 7ms/step - loss: 0.1449 - accuracy: 0.9562 - val_loss: 0.1064 - val_accuracy: 0.9668\n",
      "Epoch 3/10\n",
      "1875/1875 [==============================] - 13s 7ms/step - loss: 0.1090 - accuracy: 0.9666 - val_loss: 0.0923 - val_accuracy: 0.9714\n",
      "Epoch 4/10\n",
      "1875/1875 [==============================] - 14s 8ms/step - loss: 0.0954 - accuracy: 0.9702 - val_loss: 0.0942 - val_accuracy: 0.9704\n",
      "Epoch 5/10\n",
      "1875/1875 [==============================] - 14s 7ms/step - loss: 0.0814 - accuracy: 0.9736 - val_loss: 0.0814 - val_accuracy: 0.9756\n",
      "Epoch 6/10\n",
      "1875/1875 [==============================] - 13s 7ms/step - loss: 0.0724 - accuracy: 0.9763 - val_loss: 0.0890 - val_accuracy: 0.9725\n",
      "Epoch 7/10\n",
      "1875/1875 [==============================] - 14s 7ms/step - loss: 0.0668 - accuracy: 0.9781 - val_loss: 0.0799 - val_accuracy: 0.9758\n",
      "Epoch 8/10\n",
      "1875/1875 [==============================] - 15s 8ms/step - loss: 0.0630 - accuracy: 0.9798 - val_loss: 0.0786 - val_accuracy: 0.9752\n",
      "Epoch 9/10\n",
      "1875/1875 [==============================] - 15s 8ms/step - loss: 0.0566 - accuracy: 0.9812 - val_loss: 0.0840 - val_accuracy: 0.9752\n",
      "Epoch 10/10\n",
      "1875/1875 [==============================] - 15s 8ms/step - loss: 0.0533 - accuracy: 0.9821 - val_loss: 0.0798 - val_accuracy: 0.9758\n",
      "Epoch 1/10\n",
      "1875/1875 [==============================] - 16s 8ms/step - loss: 0.3187 - accuracy: 0.9110 - val_loss: 0.1460 - val_accuracy: 0.9559\n",
      "Epoch 2/10\n",
      "1875/1875 [==============================] - 15s 8ms/step - loss: 0.1574 - accuracy: 0.9517 - val_loss: 0.1110 - val_accuracy: 0.9675\n",
      "Epoch 3/10\n",
      "1875/1875 [==============================] - 15s 8ms/step - loss: 0.1235 - accuracy: 0.9618 - val_loss: 0.0958 - val_accuracy: 0.9698\n",
      "Epoch 4/10\n",
      "1875/1875 [==============================] - 14s 7ms/step - loss: 0.1075 - accuracy: 0.9661 - val_loss: 0.0984 - val_accuracy: 0.9694\n",
      "Epoch 5/10\n",
      "1875/1875 [==============================] - 14s 8ms/step - loss: 0.0928 - accuracy: 0.9711 - val_loss: 0.0859 - val_accuracy: 0.9736\n",
      "Epoch 6/10\n",
      "1875/1875 [==============================] - 14s 8ms/step - loss: 0.0849 - accuracy: 0.9726 - val_loss: 0.0844 - val_accuracy: 0.9754\n",
      "Epoch 7/10\n",
      "1875/1875 [==============================] - 14s 8ms/step - loss: 0.0803 - accuracy: 0.9737 - val_loss: 0.0860 - val_accuracy: 0.9731\n",
      "Epoch 8/10\n",
      "1875/1875 [==============================] - 15s 8ms/step - loss: 0.0724 - accuracy: 0.9764 - val_loss: 0.0866 - val_accuracy: 0.9749\n",
      "Epoch 9/10\n",
      "1875/1875 [==============================] - 15s 8ms/step - loss: 0.0672 - accuracy: 0.9786 - val_loss: 0.0802 - val_accuracy: 0.9770\n",
      "Epoch 10/10\n",
      "1875/1875 [==============================] - 14s 8ms/step - loss: 0.0635 - accuracy: 0.9787 - val_loss: 0.0914 - val_accuracy: 0.9739\n"
     ]
    }
   ],
   "source": [
    "\"\"\"\n",
    "model_a : Dense 레이어 + ReLU 활성화 함수\n",
    "model_b : Dense 레이어 + 배치 정규화\n",
    "model_c : Dense 레이어 + 배치 정규화 + LeakyReLU(0.2) 활성화 함수\n",
    "\n",
    "아 놀라운건 loss 함수에 오타가 생겼는데 , 막상 실행하니 평소알던 다른 에러가 뜸\n",
    "이걸 그래픽카드 램 부족이라 생각했는데 - 알고보니 loss 함수에 오타가 났던거임\n",
    "의외다\n",
    "\"\"\"\n",
    "\n",
    "model_a.compile(optimizer=\"adam\", loss=\"sparse_categorical_crossentropy\", metrics=[\"accuracy\"])\n",
    "model_b.compile(optimizer=\"adam\", loss=\"sparse_categorical_crossentropy\", metrics=[\"accuracy\"])\n",
    "model_c.compile(optimizer=\"adam\", loss=\"sparse_categorical_crossentropy\", metrics=[\"accuracy\"])\n",
    "\n",
    "#Model A: Dense+ReLU\n",
    "history_a =model_a.fit(x_train, y_train,\n",
    "                      validation_data = (x_test, y_test),\n",
    "                      epochs=10)\n",
    "\n",
    "#Model B: Dense+ReLU\n",
    "history_b =model_b.fit(x_train, y_train,\n",
    "                      validation_data = (x_test, y_test),\n",
    "                      epochs=10)\n",
    "\n",
    "#Model C: Dense+ReLU\n",
    "history_c =model_c.fit(x_train, y_train,\n",
    "                      validation_data = (x_test, y_test),\n",
    "                      epochs=10)"
   ]
  },
  {
   "cell_type": "code",
   "execution_count": 13,
   "id": "5b537ca9",
   "metadata": {},
   "outputs": [
    {
     "data": {
      "image/png": "[encoded data removed]",
      "text/plain": [
       "<Figure size 864x648 with 1 Axes>"
      ]
     },
     "metadata": {
      "needs_background": "light"
     },
     "output_type": "display_data"
    }
   ],
   "source": [
    "import matplotlib.pyplot as plt \n",
    "import numpy as np\n",
    "plt.figure(figsize=(12, 9))\n",
    "plt.plot(np.arange(1, 11), history_a.history[\"val_loss\"], color =\"navy\", linestyle=\":\")\n",
    "plt.plot(np.arange(1, 11), history_b.history[\"val_loss\"], color =\"tomato\", linestyle=\"-.\")\n",
    "plt.plot(np.arange(1, 11), history_c.history[\"val_loss\"], color =\"green\", linestyle=\"-\")\n",
    "\n",
    "plt.title(\"Losses\", fontsize=20)\n",
    "plt.xlabel(\"epochs\")\n",
    "plt.ylabel(\"Losses\")\n",
    "plt.legend([\"ReLU\", \"BatchNorm + ReLU\", \"BatchNorm + LeakyReLU\"], fontsize =12)\n",
    "plt.show()"
   ]
  },
  {
   "cell_type": "code",
   "execution_count": null,
   "id": "b640d911",
   "metadata": {},
   "outputs": [],
   "source": []
  }
 ],
 "metadata": {
  "kernelspec": {
   "display_name": "Python 3 (ipykernel)",
   "language": "python",
   "name": "python3"
  },
  "language_info": {
   "codemirror_mode": {
    "name": "ipython",
    "version": 3
   },
   "file_extension": ".py",
   "mimetype": "text/x-python",
   "name": "python",
   "nbconvert_exporter": "python",
   "pygments_lexer": "ipython3",
   "version": "3.8.12"
  }
 },
 "nbformat": 4,
 "nbformat_minor": 5
}
