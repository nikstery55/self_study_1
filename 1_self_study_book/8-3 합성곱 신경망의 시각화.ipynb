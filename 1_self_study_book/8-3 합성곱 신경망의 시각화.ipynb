{
 "cells": [
  {
   "cell_type": "code",
   "execution_count": 1,
   "id": "6dd5f873",
   "metadata": {},
   "outputs": [],
   "source": [
    "\"\"\"\n",
    "합성곱 층이 이미지에서 어떤 것을 학습했는지 알아보기 위해 \n",
    "합성곱 층의 가중치와 특성 맵을 그림으로 시각화\n",
    "\n",
    "함수형 API가 무엇인지 살펴보고 합성곱 층의 특성 맵을 시각화 하는데 사용\n",
    "\n",
    "- 가중치 시각화\n",
    "\n",
    "합성곱 츠은 여러 개의 필터를 사용해 이미지에서 특징을 학습함 \n",
    "각 필터는 커널이라 부르는 가중치와 절편을 가지고 있다\n",
    "일반적으로 절편은 시각적으로 의미가 있지 않습니다\n",
    "가중치는 입력 이미지의 2차원 영역에 적용되어 어떤 특징을 크게 두드러지게 표현하는 역할\n",
    "\n",
    "2절에서 만든 모델이 어떤 가중치를 학습했는지 확인하기 위해 체크포인트 파일을 읽어 드림\n",
    "\"\"\"\n",
    "from tensorflow import keras\n",
    "model = keras.models.load_model(\"best-cnn-model.h5\")"
   ]
  },
  {
   "cell_type": "code",
   "execution_count": 2,
   "id": "1ae5da49",
   "metadata": {},
   "outputs": [
    {
     "data": {
      "text/plain": [
       "[<keras.layers.convolutional.Conv2D at 0x10f85634250>,\n",
       " <keras.layers.pooling.MaxPooling2D at 0x10f85634940>,\n",
       " <keras.layers.convolutional.Conv2D at 0x10f8b8a67f0>,\n",
       " <keras.layers.pooling.MaxPooling2D at 0x10f8bc307c0>,\n",
       " <keras.layers.core.flatten.Flatten at 0x10f8bc38700>,\n",
       " <keras.layers.core.dense.Dense at 0x10f8bc38d60>,\n",
       " <keras.layers.core.dropout.Dropout at 0x10f8bc40cd0>,\n",
       " <keras.layers.core.dense.Dense at 0x10f8bc384c0>]"
      ]
     },
     "execution_count": 2,
     "metadata": {},
     "output_type": "execute_result"
    }
   ],
   "source": [
    "\"\"\"\n",
    "model.layers를 출력\n",
    "\"\"\"\n",
    "model.layers"
   ]
  },
  {
   "cell_type": "code",
   "execution_count": 3,
   "id": "9e9522e4",
   "metadata": {},
   "outputs": [
    {
     "name": "stdout",
     "output_type": "stream",
     "text": [
      "(3, 3, 1, 32) (32,)\n"
     ]
    }
   ],
   "source": [
    "\"\"\"\n",
    "첫 번째 합성곱 층의 가중치를 조사해 보자 \n",
    "층의 가중치와 절편은 층의 weights 속성에 저장되어 있다\n",
    "weights도 파이썬 리스트 \n",
    "layers 속성의 첫 번째 원소를 선택해 weights의 첫 번째 원소(절편)와 두번째 원소(절편)의 크기를 출력\n",
    "\n",
    "커널 크기를(3,3)으로 지정해둠\n",
    "\n",
    "합성곱 층에 전달되는 입력의 깊이가 1이므로 실제 커널 크기는 (3, 3, 1)임\n",
    "또 필터 개수가 32개이므로 weights의 첫 번째 원소인 가중치의 크기는 (3, 3, 1, 32)가 됨\n",
    "weights의 두 번째 원소는 절편의 개수를 나타냄\n",
    "필터마다 1개의 절편이 있으므로(32,) 크기가 됨\n",
    "\"\"\"\n",
    "conv = model.layers[0]\n",
    "print(conv.weights[0].shape, conv.weights[1].shape)"
   ]
  },
  {
   "cell_type": "code",
   "execution_count": 4,
   "id": "089c6cc8",
   "metadata": {},
   "outputs": [
    {
     "name": "stdout",
     "output_type": "stream",
     "text": [
      "-0.02554771 0.24385099\n"
     ]
    }
   ],
   "source": [
    "\"\"\"\n",
    "weights 속성은 텐서플로의 다차원 배열인 Tensor 클래스의 객체\n",
    "여기서는 다루기 쉽도롭 numpy()메서드를 사용해 넘파이 배열로 변환\n",
    "그다음 가중치 배열의 평균과 표준편차를 넘파이 mean()메서드와 std()메서드로 계산\n",
    "\"\"\"\n",
    "conv_weights = conv.weights[0].numpy()\n",
    "print(conv_weights.mean(), conv_weights.std())"
   ]
  },
  {
   "cell_type": "code",
   "execution_count": 5,
   "id": "67c6358a",
   "metadata": {},
   "outputs": [
    {
     "data": {
      "image/png": "[encoded data removed]",
      "text/plain": [
       "<Figure size 432x288 with 1 Axes>"
      ]
     },
     "metadata": {
      "needs_background": "light"
     },
     "output_type": "display_data"
    }
   ],
   "source": [
    "\"\"\"\n",
    "이 가중치의 평균값은 0에 가깝고 표준편차는 0.27 정도 입니다\n",
    "나중에 이 값을 훈련하기 전의 가중치와 비교해 봄\n",
    "이 가중치가 어떤 분포를 가졌는지 직관적으로 이해하기 쉽도록 히스토그램을 그려봄\n",
    "\n",
    "matplotlib의 hist()함수에는 히스토그램을 그리기 위해 1차원 배열로 전달해야함\n",
    "이를 위해 넘파이 reshape 메서드로 conv_weights 배열을 1개의 열이 있는 배열로 변환\n",
    "\"\"\"\n",
    "import matplotlib.pyplot as plt\n",
    "plt.hist(conv_weights.reshape(-1, 1))\n",
    "plt.xlabel(\"weight\")\n",
    "plt.ylabel(\"count\")\n",
    "plt.show()"
   ]
  },
  {
   "cell_type": "code",
   "execution_count": 6,
   "id": "76e9b36c",
   "metadata": {},
   "outputs": [
    {
     "data": {
      "image/png": "[encoded data removed]",
      "text/plain": [
       "<Figure size 1080x144 with 32 Axes>"
      ]
     },
     "metadata": {
      "needs_background": "light"
     },
     "output_type": "display_data"
    }
   ],
   "source": [
    "\"\"\"\n",
    "히스토그램을 보면 0을 중심으로 모여있다 \n",
    "이 가중치가 무엇을 의미를 학습한것인지는 나중에 나옴\n",
    "\n",
    "이번에는 32개의 커널을 16개씩 두 줄에 출력해 봄 \n",
    "이전 장에서 사용했던 맷플롯립의 subplots() 함수를 사용해 32개의 그래프 영역을 만들고 \n",
    "순서대로 커널을 출력\n",
    "\n",
    "책이랑 다른 모습인 32개의 가중치 모습\n",
    "그래도 의미가 있다 모습만 다를뿐\n",
    "\"\"\"\n",
    "fig, axs = plt.subplots(2, 16, figsize=(15, 2))\n",
    "for i in range(2):\n",
    "    for j in range(16):\n",
    "        axs[i, j].imshow(conv_weights[:, :, 0,i*16 + j], vmin=-0.5, vmax=0.5)\n",
    "        axs[i, j].axis(\"off\")\n",
    "\n",
    "plt.show()"
   ]
  },
  {
   "cell_type": "code",
   "execution_count": 8,
   "id": "f4a200f1",
   "metadata": {},
   "outputs": [],
   "source": [
    "\"\"\"\n",
    "이번에는 훈련하지 않은 빈 합성곱 신경망을 만들어 봄\n",
    "이 합성곱 층의 가중치가 위에서 본 훈련한 가중치와 \n",
    "어떻게 다른지 그림으로 비교\n",
    "먼저 Sequential 클래스로 모델을 만들고 Conv2D층을 하나 추가\n",
    "\"\"\"\n",
    "no_training_model = keras.Sequential()\n",
    "no_training_model.add(keras.layers.Conv2D(32, kernel_size=3, activation=\"relu\", padding=\"same\", input_shape=(28, 28, 1)))"
   ]
  },
  {
   "cell_type": "code",
   "execution_count": 9,
   "id": "df81869c",
   "metadata": {},
   "outputs": [
    {
     "name": "stdout",
     "output_type": "stream",
     "text": [
      "(3, 3, 1, 32)\n"
     ]
    }
   ],
   "source": [
    "\"\"\"\n",
    "그다음 이 모델의 첫 번째 층(즉 Conv2D층)의 가중치를 no_training_conv 변수에 저장\n",
    "\"\"\"\n",
    "no_training_conv = no_training_model.layers[0]\n",
    "print(no_training_conv.weights[0].shape)"
   ]
  },
  {
   "cell_type": "code",
   "execution_count": 10,
   "id": "559e787b",
   "metadata": {},
   "outputs": [
    {
     "name": "stdout",
     "output_type": "stream",
     "text": [
      "0.0064348076 0.08063365\n"
     ]
    }
   ],
   "source": [
    "\"\"\"\n",
    "이 가중차의 크기도 앞서 그래프로 출력한 가중치와 같습니다\n",
    "동일하게 (3, 3)커널을 가진 필터를 32개 사용했기 때문\n",
    "이 가중치의 평균과 표준편차를 확인해 보겠습니다\n",
    "이전처럼 먼저 넘파이 배열로 만든 다음 mean(), std()메서드로 호출함\n",
    "\"\"\"\n",
    "no_training_weights = no_training_conv.weights[0].numpy()\n",
    "print(no_training_weights.mean(), no_training_weights.std())"
   ]
  },
  {
   "cell_type": "code",
   "execution_count": 11,
   "id": "58ef9061",
   "metadata": {},
   "outputs": [
    {
     "data": {
      "image/png": "[encoded data removed]",
      "text/plain": [
       "<Figure size 432x288 with 1 Axes>"
      ]
     },
     "metadata": {
      "needs_background": "light"
     },
     "output_type": "display_data"
    }
   ],
   "source": [
    "\"\"\"\n",
    "이 가중치 배열을 히스토그램으로 표현\n",
    "\n",
    "대부분의 가중치가 전체적으로 고르게 분포한 모습\n",
    "텐서플로가 신경망의 가중치를 처음 초기화 할때 균등 분포에서 랜덤하게 값을 선택함\n",
    "\"\"\"\n",
    "plt.hist(no_training_weights.reshape(-1, 1))\n",
    "plt.xlabel(\"weight\")\n",
    "plt.ylabel(\"count\")\n",
    "plt.show()"
   ]
  },
  {
   "cell_type": "code",
   "execution_count": 12,
   "id": "23328cec",
   "metadata": {},
   "outputs": [
    {
     "data": {
      "image/png": "[encoded data removed]",
      "text/plain": [
       "<Figure size 1080x144 with 32 Axes>"
      ]
     },
     "metadata": {
      "needs_background": "light"
     },
     "output_type": "display_data"
    }
   ],
   "source": [
    "\"\"\"\n",
    "이 가중치 값을 맷플롯립의 imshow()함수를 사용해 이전처럼 그림으로 출력해 봄\n",
    "학습된 가중치와 비교하기 위해 동일하게 vmin과 vmax를 -0.5와 0.5로 설정\n",
    "\n",
    "확실히 가중치의 모습이 전체적으로 특징이 없이 밋밋하게 균등하게 초기화 된 모습\n",
    "\n",
    "훈련이 끝난 이전 가중치와 비교해보면 \n",
    "합성곱 신경망이 패션 MNIST 데이터셋의 분류 정확도를 높이기 위해 \n",
    "유용한 패턴을 학습했다는 사실을 알수 있다\n",
    "\"\"\"\n",
    "fig, axs = plt.subplots(2, 16, figsize=(15, 2))\n",
    "for i in range(2):\n",
    "    for j in range(16):\n",
    "        axs[i, j].imshow(no_training_weights[:, :, 0, i*16 + j], vmin=-0.5, vmax=0.5)\n",
    "        axs[i, j].axis(\"off\")\n",
    "        \n",
    "plt.show()"
   ]
  },
  {
   "cell_type": "code",
   "execution_count": 14,
   "id": "6cf83fad",
   "metadata": {},
   "outputs": [],
   "source": [
    "\"\"\"\n",
    "- 함수형 API\n",
    "\n",
    "함수형 API는 케라스의 Model 클래스를 사용하여 모델을 만듭니다 \n",
    "간단한 예를 보면 7 장에서 만든 Dense층 2개로 이루어진 완전 연결 신경망을 함수형 API로 구현\n",
    "\"\"\"\n",
    "dense1 = keras.layers.Dense(100, activation=\"sigmoid\")\n",
    "dense2 = keras.layers.Dense(10, activation=\"softmax\")"
   ]
  },
  {
   "cell_type": "code",
   "execution_count": 16,
   "id": "2662b112",
   "metadata": {},
   "outputs": [
    {
     "name": "stdout",
     "output_type": "stream",
     "text": [
      "KerasTensor(type_spec=TensorSpec(shape=(None, 28, 28, 1), dtype=tf.float32, name='conv2d_input'), name='conv2d_input', description=\"created by layer 'conv2d_input'\")\n"
     ]
    }
   ],
   "source": [
    "\"\"\"\n",
    "이 객체를 Sequential 클래스 객체의 add()메서드에 전달할 수 있다\n",
    "하지만 다음과 같이 함수처럼 호출할 수도 있다\n",
    "\n",
    "hidden = dense1(inputs)\n",
    "\n",
    "파이썬의 모든 객체는 호출 가능함\n",
    "케라스의 층은 객체를 함수처럼 호출했을 때 \n",
    "적절히 동작할 수 있도록 미리 준비해 놓았습니다\n",
    "앞의 코드를 실행하면 영리하게도 입력값 inputs를 Dense층에 통과시킨 후 출력값 hidden을 만들어 줌\n",
    "\n",
    "이제 왜 함수형 API라고 부르는지 이해했을 것 같네요 \n",
    "그다음 두 번째 층을 호출함\n",
    "이때는 첫 번째 층의 출력을 입력으로 사용\n",
    "\n",
    "outputs = dense2(hidden)\n",
    "그다음 inputs와 outputs을 Model 클래스로 연결해 주면 됨\n",
    "\n",
    "model = keras.Model(inputs, outputs)\n",
    "\n",
    "model 클래스에서는 우리가 수동으로 만들어서 호출해야함 \n",
    "바로 inputs가 InputLayer 클래스의 출력값이 되어야 함\n",
    "\n",
    "다행히 케라스는 InputLayer 클래스 객체를 쉽게 다룰 수 있도록 Input()함수를 별도로 제공함\n",
    "입력의 크기를 지정하는 shape 매개변수와 함께 이 함수를 호출하면 InputLayer 클래스 객체를 만들어\n",
    "출력을 반환해 줌\n",
    "\n",
    "inputs= keras.Input(shape=(784,))\n",
    "\n",
    "마치 체인처럼 입력에서 출력까지 연결하고 마지막 model 클래스에 입력과 출력을 지정하여 \n",
    "모델을 만듭니다 이렇게 모델을 만들게 되면 중간에 다양한 형태로 층을 연결할 수 있따\n",
    "\n",
    "그런데 특성 맵 시각화를 만드는 데 함수형 API가 왜 필요한 것일까? 2절에서 정의한 model 객체의 층을\n",
    "순서대로 나열하면 다음과 같다\n",
    "\n",
    "model 객체의 predict()메서드를 호출하면 입력부터 마지막 층까지 모든 계산을 수행한 후 최종 출력을 반환\n",
    "하지만 우리가 필요한 것은 첫 번째 Conv2D 층이 출력한 특성 맵입니다\n",
    "첫번쨰 층의 출력은 Conv2D 객체의 output속성에서 얻을 수 있습니다\n",
    "model.layers[0].output처럼 참조할 수 있다\n",
    "model 객체의 입력은 어떻게 얻을 수 있을까? 다행히 케라스 모델은 input 속성으로 입력을 참조 할 수 있다\n",
    "즉 model.input으로 이 모델의 입력을 간단히 얻을 수 있습니다\n",
    "\"\"\"\n",
    "print(model.input)"
   ]
  },
  {
   "cell_type": "code",
   "execution_count": 17,
   "id": "abead50d",
   "metadata": {},
   "outputs": [],
   "source": [
    "\"\"\"\n",
    "이제 model.input과 model.layers[0].output을 연결하는 새로운 conv_acti 모델을 만들 수 있다\n",
    "\n",
    "model 객체의 predict()메서드를 호출하면 최종 출력층의 확률을 반환함\n",
    "하지만 conv_acti의 predict 메서드를 호출하면 첫 번째 Conv2D의 출력을 반환함\n",
    "이렇게 함수형 API를 설명함\n",
    "\n",
    "특성 맵을 시각화를해보자\n",
    "\"\"\"\n",
    "conv_acti = keras.Model(model.input, model.layers[0].output)"
   ]
  },
  {
   "cell_type": "code",
   "execution_count": 18,
   "id": "6bd2ec35",
   "metadata": {},
   "outputs": [
    {
     "data": {
      "image/png": "[encoded data removed]",
      "text/plain": [
       "<Figure size 432x288 with 1 Axes>"
      ]
     },
     "metadata": {
      "needs_background": "light"
     },
     "output_type": "display_data"
    }
   ],
   "source": [
    "\"\"\"\n",
    "- 특성 맵 시각화\n",
    "케라스로 패션 MNIST 데이터셋을 읽은 후 훈련 세트에 있는 첫 번째 샘플을 그려봄\n",
    "\"\"\"\n",
    "(train_input, train_target),(test_input, test_target) = keras.datasets.fashion_mnist.load_data()\n",
    "plt.imshow(train_input[0], cmap=\"gray_r\")\n",
    "plt.show()"
   ]
  },
  {
   "cell_type": "code",
   "execution_count": 19,
   "id": "2565e379",
   "metadata": {},
   "outputs": [],
   "source": [
    "\"\"\"\n",
    "그다음에 (784,) 크기를 (28, 28, 1)크기로 변경하고 255로 나눔\n",
    "\"\"\"\n",
    "inputs = train_input[0:1].reshape(-1, 28, 28, 1) / 255.0\n",
    "feature_maps = conv_acti.predict(inputs)"
   ]
  },
  {
   "cell_type": "code",
   "execution_count": 20,
   "id": "98e63591",
   "metadata": {},
   "outputs": [
    {
     "name": "stdout",
     "output_type": "stream",
     "text": [
      "(1, 28, 28, 32)\n"
     ]
    }
   ],
   "source": [
    "\"\"\"\n",
    "conv_acti.predict() 메서드가 출력한 feature_maps\n",
    "의 크기를 확인\n",
    "세임 패딩과 32개의 필터를 사용한 합성곱 층의 출력이므로 (28, 28, 32)임\n",
    "첫 번째 차원은 배치 차원이라는 점을 기억\n",
    "샘플을 하나 입력했기 때문에 1이 됨\n",
    "\"\"\"\n",
    "print(feature_maps.shape)"
   ]
  },
  {
   "cell_type": "code",
   "execution_count": 21,
   "id": "d2baef1c",
   "metadata": {},
   "outputs": [
    {
     "data": {
      "image/png": "[encoded data removed]",
      "text/plain": [
       "<Figure size 1080x576 with 32 Axes>"
      ]
     },
     "metadata": {
      "needs_background": "light"
     },
     "output_type": "display_data"
    }
   ],
   "source": [
    "\"\"\"\n",
    "이제 앞에서와 같이 맷플롭립의 imshow함수로 이 특성 맵을 그려봄\n",
    "총 32개의 특성 맵이 있으므로 4개의 행으로 나누어 그림\n",
    "\n",
    "설명은 책을 보자 \n",
    "\"\"\"\n",
    "fig, axs = plt.subplots(4, 8, figsize=(15, 8))\n",
    "for i in range(4):\n",
    "    for j in range(8):\n",
    "        axs[i, j].imshow(feature_maps[0,:,: , i*8 + j])\n",
    "        axs[i, j].axis(\"off\")\n",
    "\n",
    "plt.show()"
   ]
  },
  {
   "cell_type": "code",
   "execution_count": 22,
   "id": "cf37c84b",
   "metadata": {},
   "outputs": [],
   "source": [
    "\"\"\"\n",
    "두 번쨰 합성곱 층이 만든 특성 맵도 같은 방식으로 확인할 수 있다\n",
    "먼저 model 객체의 입력과 두 번째 합성곱 층인 model.layers[2]의 출력을 연결한 conv2_acti 모델을 만듬\n",
    "\"\"\"\n",
    "conv2_acti = keras.Model(model.input, model.layers[2].output)"
   ]
  },
  {
   "cell_type": "code",
   "execution_count": 23,
   "id": "76538746",
   "metadata": {},
   "outputs": [],
   "source": [
    "\"\"\"\n",
    "그다음 첫 번째 샘플을 conv2_acti 모델의 predict()메서드에 전달\n",
    "\"\"\"\n",
    "inputs = train_input[0:1].reshape(-1, 28, 28, 1)/ 255.0\n",
    "feature_maps = conv2_acti.predict(inputs)"
   ]
  },
  {
   "cell_type": "code",
   "execution_count": 24,
   "id": "68ee81ad",
   "metadata": {},
   "outputs": [
    {
     "name": "stdout",
     "output_type": "stream",
     "text": [
      "(1, 14, 14, 64)\n"
     ]
    }
   ],
   "source": [
    "\"\"\"\n",
    "첫 번쨰 풀링 층에서 가로세로 크기가 절반으로 줄었고, 두번째 합성곱층의 필터 개수는 64개 이므로\n",
    "feature_maps의 크기는 배치 차원을 제외하면(14, 14, 64)일 것\n",
    "확인해보자\n",
    "\"\"\"\n",
    "print(feature_maps.shape)"
   ]
  },
  {
   "cell_type": "code",
   "execution_count": 25,
   "id": "b94382c0",
   "metadata": {},
   "outputs": [
    {
     "data": {
      "image/png": "[encoded data removed]",
      "text/plain": [
       "<Figure size 864x864 with 64 Axes>"
      ]
     },
     "metadata": {
      "needs_background": "light"
     },
     "output_type": "display_data"
    }
   ],
   "source": [
    "\"\"\"\n",
    "64개의 특성 맵을 8개씩 나누어 imshow()함수로 그려봄\n",
    "\n",
    "이 특성맵은 시각적으로 이해하기 어려움\n",
    "\n",
    "합성곱 신경망의 앞부분에 있는 합성곱 츠은 이미지의 시각적인 정보를 감지하고 \n",
    "뒤쪽에 있는 합성곱 층은 앞쪽에서 감지한 시각적인 정보를 바탕으로 추상적인 정보를 학습한다고 볼수 있다\n",
    "\"\"\"\n",
    "fig, axs = plt.subplots(8, 8, figsize=(12, 12))\n",
    "for i in range(8):\n",
    "    for j in range(8):\n",
    "        axs[i , j].imshow(feature_maps[0,: , :, i*8 + j])\n",
    "        axs[i, j].axis(\"off\")\n",
    "plt.show()"
   ]
  },
  {
   "cell_type": "code",
   "execution_count": null,
   "id": "a3246226",
   "metadata": {},
   "outputs": [],
   "source": []
  }
 ],
 "metadata": {
  "kernelspec": {
   "display_name": "Python 3 (ipykernel)",
   "language": "python",
   "name": "python3"
  },
  "language_info": {
   "codemirror_mode": {
    "name": "ipython",
    "version": 3
   },
   "file_extension": ".py",
   "mimetype": "text/x-python",
   "name": "python",
   "nbconvert_exporter": "python",
   "pygments_lexer": "ipython3",
   "version": "3.8.12"
  }
 },
 "nbformat": 4,
 "nbformat_minor": 5
}
