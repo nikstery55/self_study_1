{
 "cells": [
  {
   "cell_type": "code",
   "execution_count": 1,
   "metadata": {
    "colab": {
     "base_uri": "https://localhost:8080/"
    },
    "id": "Afo8NZyhJzLO",
    "outputId": "55480872-8727-48c4-c2eb-5b4ce0783dc9"
   },
   "outputs": [],
   "source": [
    "from tensorflow.keras.datasets import imdb\n",
    "from sklearn.model_selection import train_test_split\n",
    "\n",
    "(train_input, train_target), (test_input, test_target) = imdb.load_data(num_words=500)\n",
    "train_input, val_input, train_target, val_target = train_test_split(\n",
    "    train_input, train_target, test_size=0.2, random_state=42\n",
    ")"
   ]
  },
  {
   "cell_type": "code",
   "execution_count": 2,
   "metadata": {
    "id": "frc3hXLnQK35"
   },
   "outputs": [],
   "source": [
    "from tensorflow.keras.preprocessing.sequence import pad_sequences\n",
    "train_seq = pad_sequences(train_input, maxlen=100)\n",
    "val_seq = pad_sequences(val_input, maxlen=100)"
   ]
  },
  {
   "cell_type": "code",
   "execution_count": 3,
   "metadata": {
    "id": "e6HwNsP9QhV1"
   },
   "outputs": [],
   "source": [
    "from tensorflow import keras\n",
    "model = keras.Sequential()\n",
    "model.add(keras.layers.Embedding(500, 16, input_length=100))\n",
    "model.add(keras.layers.LSTM(8))\n",
    "model.add(keras.layers.Dense(1, activation=\"sigmoid\"))"
   ]
  },
  {
   "cell_type": "code",
   "execution_count": 4,
   "metadata": {
    "colab": {
     "base_uri": "https://localhost:8080/"
    },
    "id": "4Qig9YmvQ1Ov",
    "outputId": "e8285b42-f0da-4ced-b967-cc99db3b7b6a"
   },
   "outputs": [
    {
     "name": "stdout",
     "output_type": "stream",
     "text": [
      "Model: \"sequential\"\n",
      "_________________________________________________________________\n",
      " Layer (type)                Output Shape              Param #   \n",
      "=================================================================\n",
      " embedding (Embedding)       (None, 100, 16)           8000      \n",
      "                                                                 \n",
      " lstm (LSTM)                 (None, 8)                 800       \n",
      "                                                                 \n",
      " dense (Dense)               (None, 1)                 9         \n",
      "                                                                 \n",
      "=================================================================\n",
      "Total params: 8,809\n",
      "Trainable params: 8,809\n",
      "Non-trainable params: 0\n",
      "_________________________________________________________________\n"
     ]
    }
   ],
   "source": [
    "model.summary()"
   ]
  },
  {
   "cell_type": "code",
   "execution_count": 5,
   "metadata": {
    "colab": {
     "base_uri": "https://localhost:8080/"
    },
    "id": "JYV1JiGXRAr1",
    "outputId": "b7d5d844-e830-46b4-a5a6-6d8152fa8ebf",
    "scrolled": true
   },
   "outputs": [
    {
     "name": "stdout",
     "output_type": "stream",
     "text": [
      "Epoch 1/100\n",
      "313/313 [==============================] - 8s 11ms/step - loss: 0.6926 - accuracy: 0.5392 - val_loss: 0.6919 - val_accuracy: 0.5706\n",
      "Epoch 2/100\n",
      "313/313 [==============================] - 3s 10ms/step - loss: 0.6907 - accuracy: 0.6018 - val_loss: 0.6894 - val_accuracy: 0.6208\n",
      "Epoch 3/100\n",
      "313/313 [==============================] - 3s 11ms/step - loss: 0.6864 - accuracy: 0.6432 - val_loss: 0.6827 - val_accuracy: 0.6674\n",
      "Epoch 4/100\n",
      "313/313 [==============================] - 4s 11ms/step - loss: 0.6641 - accuracy: 0.6959 - val_loss: 0.6390 - val_accuracy: 0.7078\n",
      "Epoch 5/100\n",
      "313/313 [==============================] - 4s 11ms/step - loss: 0.6215 - accuracy: 0.7185 - val_loss: 0.6134 - val_accuracy: 0.7238\n",
      "Epoch 6/100\n",
      "313/313 [==============================] - 4s 11ms/step - loss: 0.5993 - accuracy: 0.7358 - val_loss: 0.5973 - val_accuracy: 0.7304\n",
      "Epoch 7/100\n",
      "313/313 [==============================] - 4s 11ms/step - loss: 0.5814 - accuracy: 0.7473 - val_loss: 0.5803 - val_accuracy: 0.7426\n",
      "Epoch 8/100\n",
      "313/313 [==============================] - 4s 11ms/step - loss: 0.5657 - accuracy: 0.7572 - val_loss: 0.5650 - val_accuracy: 0.7500\n",
      "Epoch 9/100\n",
      "313/313 [==============================] - 3s 11ms/step - loss: 0.5511 - accuracy: 0.7657 - val_loss: 0.5510 - val_accuracy: 0.7570\n",
      "Epoch 10/100\n",
      "313/313 [==============================] - 3s 10ms/step - loss: 0.5371 - accuracy: 0.7733 - val_loss: 0.5383 - val_accuracy: 0.7672\n",
      "Epoch 11/100\n",
      "313/313 [==============================] - 3s 10ms/step - loss: 0.5237 - accuracy: 0.7793 - val_loss: 0.5272 - val_accuracy: 0.7694\n",
      "Epoch 12/100\n",
      "313/313 [==============================] - 3s 10ms/step - loss: 0.5118 - accuracy: 0.7828 - val_loss: 0.5153 - val_accuracy: 0.7744\n",
      "Epoch 13/100\n",
      "313/313 [==============================] - 3s 11ms/step - loss: 0.5002 - accuracy: 0.7886 - val_loss: 0.5043 - val_accuracy: 0.7792\n",
      "Epoch 14/100\n",
      "313/313 [==============================] - 4s 12ms/step - loss: 0.4898 - accuracy: 0.7936 - val_loss: 0.4952 - val_accuracy: 0.7826\n",
      "Epoch 15/100\n",
      "313/313 [==============================] - 3s 10ms/step - loss: 0.4801 - accuracy: 0.7972 - val_loss: 0.4871 - val_accuracy: 0.7846\n",
      "Epoch 16/100\n",
      "313/313 [==============================] - 3s 10ms/step - loss: 0.4713 - accuracy: 0.8001 - val_loss: 0.4786 - val_accuracy: 0.7878\n",
      "Epoch 17/100\n",
      "313/313 [==============================] - 3s 11ms/step - loss: 0.4633 - accuracy: 0.8036 - val_loss: 0.4717 - val_accuracy: 0.7910\n",
      "Epoch 18/100\n",
      "313/313 [==============================] - 3s 10ms/step - loss: 0.4562 - accuracy: 0.8039 - val_loss: 0.4664 - val_accuracy: 0.7946\n",
      "Epoch 19/100\n",
      "313/313 [==============================] - 3s 10ms/step - loss: 0.4495 - accuracy: 0.8079 - val_loss: 0.4606 - val_accuracy: 0.7958\n",
      "Epoch 20/100\n",
      "313/313 [==============================] - 3s 10ms/step - loss: 0.4440 - accuracy: 0.8080 - val_loss: 0.4596 - val_accuracy: 0.7954\n",
      "Epoch 21/100\n",
      "313/313 [==============================] - 3s 11ms/step - loss: 0.4394 - accuracy: 0.8102 - val_loss: 0.4535 - val_accuracy: 0.7980\n",
      "Epoch 22/100\n",
      "313/313 [==============================] - 3s 11ms/step - loss: 0.4350 - accuracy: 0.8115 - val_loss: 0.4507 - val_accuracy: 0.7990\n",
      "Epoch 23/100\n",
      "313/313 [==============================] - 3s 10ms/step - loss: 0.4317 - accuracy: 0.8110 - val_loss: 0.4545 - val_accuracy: 0.7956\n",
      "Epoch 24/100\n",
      "313/313 [==============================] - 3s 10ms/step - loss: 0.4290 - accuracy: 0.8130 - val_loss: 0.4466 - val_accuracy: 0.7998\n",
      "Epoch 25/100\n",
      "313/313 [==============================] - 3s 10ms/step - loss: 0.4262 - accuracy: 0.8135 - val_loss: 0.4436 - val_accuracy: 0.8024\n",
      "Epoch 26/100\n",
      "313/313 [==============================] - 3s 11ms/step - loss: 0.4239 - accuracy: 0.8140 - val_loss: 0.4434 - val_accuracy: 0.7952\n",
      "Epoch 27/100\n",
      "313/313 [==============================] - 3s 10ms/step - loss: 0.4220 - accuracy: 0.8152 - val_loss: 0.4418 - val_accuracy: 0.7992\n",
      "Epoch 28/100\n",
      "313/313 [==============================] - 3s 10ms/step - loss: 0.4202 - accuracy: 0.8141 - val_loss: 0.4418 - val_accuracy: 0.7966\n",
      "Epoch 29/100\n",
      "313/313 [==============================] - 3s 10ms/step - loss: 0.4189 - accuracy: 0.8155 - val_loss: 0.4447 - val_accuracy: 0.7916\n",
      "Epoch 30/100\n",
      "313/313 [==============================] - 3s 10ms/step - loss: 0.4175 - accuracy: 0.8161 - val_loss: 0.4386 - val_accuracy: 0.7990\n",
      "Epoch 31/100\n",
      "313/313 [==============================] - 3s 10ms/step - loss: 0.4161 - accuracy: 0.8146 - val_loss: 0.4381 - val_accuracy: 0.7960\n",
      "Epoch 32/100\n",
      "313/313 [==============================] - 3s 11ms/step - loss: 0.4152 - accuracy: 0.8159 - val_loss: 0.4370 - val_accuracy: 0.8004\n",
      "Epoch 33/100\n",
      "313/313 [==============================] - 3s 11ms/step - loss: 0.4139 - accuracy: 0.8143 - val_loss: 0.4354 - val_accuracy: 0.8012\n",
      "Epoch 34/100\n",
      "313/313 [==============================] - 3s 11ms/step - loss: 0.4126 - accuracy: 0.8152 - val_loss: 0.4342 - val_accuracy: 0.8014\n",
      "Epoch 35/100\n",
      "313/313 [==============================] - 3s 11ms/step - loss: 0.4121 - accuracy: 0.8140 - val_loss: 0.4339 - val_accuracy: 0.8008\n",
      "Epoch 36/100\n",
      "313/313 [==============================] - 3s 11ms/step - loss: 0.4112 - accuracy: 0.8152 - val_loss: 0.4341 - val_accuracy: 0.8036\n",
      "Epoch 37/100\n",
      "313/313 [==============================] - 3s 11ms/step - loss: 0.4104 - accuracy: 0.8149 - val_loss: 0.4342 - val_accuracy: 0.7962\n",
      "Epoch 38/100\n",
      "313/313 [==============================] - 3s 11ms/step - loss: 0.4100 - accuracy: 0.8149 - val_loss: 0.4323 - val_accuracy: 0.8006\n",
      "Epoch 39/100\n",
      "313/313 [==============================] - 3s 11ms/step - loss: 0.4089 - accuracy: 0.8167 - val_loss: 0.4329 - val_accuracy: 0.8018\n",
      "Epoch 40/100\n",
      "313/313 [==============================] - 3s 11ms/step - loss: 0.4082 - accuracy: 0.8162 - val_loss: 0.4368 - val_accuracy: 0.8036\n",
      "Epoch 41/100\n",
      "313/313 [==============================] - 3s 11ms/step - loss: 0.4076 - accuracy: 0.8168 - val_loss: 0.4326 - val_accuracy: 0.7986\n"
     ]
    }
   ],
   "source": [
    "rmsprop = keras.optimizers.RMSprop(learning_rate = 1e-4)\n",
    "model.compile(optimizer = rmsprop, loss=\"binary_crossentropy\", metrics=[\"accuracy\"])\n",
    "checkpoint_cb = keras.callbacks.ModelCheckpoint(\"best-lstm-model.h5\", save_best_only=True)\n",
    "early_stopping_cb = keras.callbacks.EarlyStopping(patience=3, restore_best_weights=True)\n",
    "history = model.fit(train_seq, train_target, epochs=100, batch_size=64, \n",
    "                    validation_data = (val_seq, val_target),\n",
    "                    callbacks=[checkpoint_cb, early_stopping_cb])"
   ]
  },
  {
   "cell_type": "code",
   "execution_count": 6,
   "metadata": {
    "colab": {
     "base_uri": "https://localhost:8080/",
     "height": 279
    },
    "id": "o-atIP4RRskl",
    "outputId": "6332e98e-aa8a-4e47-b1a6-85ca8ed0a5c5"
   },
   "outputs": [
    {
     "data": {
      "image/png": "[encoded data removed]",
      "text/plain": [
       "<Figure size 432x288 with 1 Axes>"
      ]
     },
     "metadata": {
      "needs_background": "light"
     },
     "output_type": "display_data"
    }
   ],
   "source": [
    "import matplotlib.pyplot as plt\n",
    "plt.plot(history.history[\"loss\"])\n",
    "plt.plot(history.history[\"val_loss\"])\n",
    "plt.xlabel(\"epoch\")\n",
    "plt.ylabel(\"loss\")\n",
    "plt.legend([\"train\", \"val\"])\n",
    "plt.show()"
   ]
  },
  {
   "cell_type": "code",
   "execution_count": 7,
   "metadata": {
    "id": "XMW34HPhTcZs"
   },
   "outputs": [],
   "source": [
    "model2 = keras.Sequential()\n",
    "model2.add(keras.layers.Embedding(500, 16, input_length=100))\n",
    "model2.add(keras.layers.LSTM(8, dropout=0.3))\n",
    "model2.add(keras.layers.Dense(1, activation=\"sigmoid\"))"
   ]
  },
  {
   "cell_type": "code",
   "execution_count": 8,
   "metadata": {
    "colab": {
     "base_uri": "https://localhost:8080/"
    },
    "id": "S3ylT8L8T4dB",
    "outputId": "b79c50ab-aa1b-4ae1-8b8e-472f0321ee6c",
    "scrolled": true
   },
   "outputs": [
    {
     "name": "stdout",
     "output_type": "stream",
     "text": [
      "Epoch 1/100\n",
      "313/313 [==============================] - 5s 13ms/step - loss: 0.6926 - accuracy: 0.5314 - val_loss: 0.6920 - val_accuracy: 0.5616\n",
      "Epoch 2/100\n",
      "313/313 [==============================] - 3s 11ms/step - loss: 0.6902 - accuracy: 0.6032 - val_loss: 0.6884 - val_accuracy: 0.6142\n",
      "Epoch 3/100\n",
      "313/313 [==============================] - 3s 11ms/step - loss: 0.6785 - accuracy: 0.6059 - val_loss: 0.6596 - val_accuracy: 0.6198\n",
      "Epoch 4/100\n",
      "313/313 [==============================] - 3s 11ms/step - loss: 0.6291 - accuracy: 0.7134 - val_loss: 0.6170 - val_accuracy: 0.7292\n",
      "Epoch 5/100\n",
      "313/313 [==============================] - 3s 11ms/step - loss: 0.6076 - accuracy: 0.7282 - val_loss: 0.6018 - val_accuracy: 0.7380\n",
      "Epoch 6/100\n",
      "313/313 [==============================] - 3s 10ms/step - loss: 0.5922 - accuracy: 0.7401 - val_loss: 0.5873 - val_accuracy: 0.7422\n",
      "Epoch 7/100\n",
      "313/313 [==============================] - 3s 10ms/step - loss: 0.5790 - accuracy: 0.7422 - val_loss: 0.5739 - val_accuracy: 0.7536\n",
      "Epoch 8/100\n",
      "313/313 [==============================] - 3s 11ms/step - loss: 0.5654 - accuracy: 0.7545 - val_loss: 0.5607 - val_accuracy: 0.7560\n",
      "Epoch 9/100\n",
      "313/313 [==============================] - 3s 11ms/step - loss: 0.5521 - accuracy: 0.7596 - val_loss: 0.5483 - val_accuracy: 0.7626\n",
      "Epoch 10/100\n",
      "313/313 [==============================] - 3s 11ms/step - loss: 0.5394 - accuracy: 0.7673 - val_loss: 0.5368 - val_accuracy: 0.7614\n",
      "Epoch 11/100\n",
      "313/313 [==============================] - 3s 10ms/step - loss: 0.5275 - accuracy: 0.7702 - val_loss: 0.5241 - val_accuracy: 0.7700\n",
      "Epoch 12/100\n",
      "313/313 [==============================] - 3s 9ms/step - loss: 0.5146 - accuracy: 0.7767 - val_loss: 0.5126 - val_accuracy: 0.7746\n",
      "Epoch 13/100\n",
      "313/313 [==============================] - 3s 11ms/step - loss: 0.5034 - accuracy: 0.7804 - val_loss: 0.5034 - val_accuracy: 0.7764\n",
      "Epoch 14/100\n",
      "313/313 [==============================] - 3s 10ms/step - loss: 0.4940 - accuracy: 0.7811 - val_loss: 0.4917 - val_accuracy: 0.7820\n",
      "Epoch 15/100\n",
      "313/313 [==============================] - 3s 10ms/step - loss: 0.4826 - accuracy: 0.7876 - val_loss: 0.4827 - val_accuracy: 0.7858\n",
      "Epoch 16/100\n",
      "313/313 [==============================] - 3s 11ms/step - loss: 0.4741 - accuracy: 0.7906 - val_loss: 0.4746 - val_accuracy: 0.7872\n",
      "Epoch 17/100\n",
      "313/313 [==============================] - 3s 11ms/step - loss: 0.4652 - accuracy: 0.7948 - val_loss: 0.4678 - val_accuracy: 0.7932\n",
      "Epoch 18/100\n",
      "313/313 [==============================] - 3s 11ms/step - loss: 0.4593 - accuracy: 0.7946 - val_loss: 0.4626 - val_accuracy: 0.7908\n",
      "Epoch 19/100\n",
      "313/313 [==============================] - 3s 11ms/step - loss: 0.4527 - accuracy: 0.7976 - val_loss: 0.4593 - val_accuracy: 0.7924\n",
      "Epoch 20/100\n",
      "313/313 [==============================] - 3s 11ms/step - loss: 0.4483 - accuracy: 0.8027 - val_loss: 0.4543 - val_accuracy: 0.7922\n",
      "Epoch 21/100\n",
      "313/313 [==============================] - 3s 11ms/step - loss: 0.4447 - accuracy: 0.8019 - val_loss: 0.4496 - val_accuracy: 0.7974\n",
      "Epoch 22/100\n",
      "313/313 [==============================] - 3s 11ms/step - loss: 0.4397 - accuracy: 0.8048 - val_loss: 0.4469 - val_accuracy: 0.7978\n",
      "Epoch 23/100\n",
      "313/313 [==============================] - 3s 11ms/step - loss: 0.4364 - accuracy: 0.8048 - val_loss: 0.4447 - val_accuracy: 0.7954\n",
      "Epoch 24/100\n",
      "313/313 [==============================] - 3s 10ms/step - loss: 0.4350 - accuracy: 0.8060 - val_loss: 0.4420 - val_accuracy: 0.7994\n",
      "Epoch 25/100\n",
      "313/313 [==============================] - 3s 9ms/step - loss: 0.4318 - accuracy: 0.8064 - val_loss: 0.4411 - val_accuracy: 0.7994\n",
      "Epoch 26/100\n",
      "313/313 [==============================] - 3s 9ms/step - loss: 0.4310 - accuracy: 0.8037 - val_loss: 0.4430 - val_accuracy: 0.7992\n",
      "Epoch 27/100\n",
      "313/313 [==============================] - 3s 10ms/step - loss: 0.4286 - accuracy: 0.8061 - val_loss: 0.4393 - val_accuracy: 0.8006\n",
      "Epoch 28/100\n",
      "313/313 [==============================] - 3s 10ms/step - loss: 0.4269 - accuracy: 0.8089 - val_loss: 0.4378 - val_accuracy: 0.8002\n",
      "Epoch 29/100\n",
      "313/313 [==============================] - 3s 10ms/step - loss: 0.4271 - accuracy: 0.8073 - val_loss: 0.4365 - val_accuracy: 0.8030\n",
      "Epoch 30/100\n",
      "313/313 [==============================] - 3s 11ms/step - loss: 0.4243 - accuracy: 0.8068 - val_loss: 0.4376 - val_accuracy: 0.8026\n",
      "Epoch 31/100\n",
      "313/313 [==============================] - 3s 10ms/step - loss: 0.4243 - accuracy: 0.8080 - val_loss: 0.4362 - val_accuracy: 0.7980\n",
      "Epoch 32/100\n",
      "313/313 [==============================] - 3s 11ms/step - loss: 0.4240 - accuracy: 0.8064 - val_loss: 0.4358 - val_accuracy: 0.7972\n",
      "Epoch 33/100\n",
      "313/313 [==============================] - 3s 10ms/step - loss: 0.4224 - accuracy: 0.8080 - val_loss: 0.4357 - val_accuracy: 0.8004\n",
      "Epoch 34/100\n",
      "313/313 [==============================] - 3s 9ms/step - loss: 0.4201 - accuracy: 0.8079 - val_loss: 0.4338 - val_accuracy: 0.7998\n",
      "Epoch 35/100\n",
      "313/313 [==============================] - 3s 10ms/step - loss: 0.4196 - accuracy: 0.8094 - val_loss: 0.4343 - val_accuracy: 0.8044\n",
      "Epoch 36/100\n",
      "313/313 [==============================] - 3s 11ms/step - loss: 0.4206 - accuracy: 0.8094 - val_loss: 0.4329 - val_accuracy: 0.8026\n",
      "Epoch 37/100\n",
      "313/313 [==============================] - 3s 10ms/step - loss: 0.4205 - accuracy: 0.8106 - val_loss: 0.4333 - val_accuracy: 0.8016\n",
      "Epoch 38/100\n",
      "313/313 [==============================] - 3s 10ms/step - loss: 0.4190 - accuracy: 0.8084 - val_loss: 0.4324 - val_accuracy: 0.7982\n",
      "Epoch 39/100\n",
      "313/313 [==============================] - 3s 10ms/step - loss: 0.4183 - accuracy: 0.8109 - val_loss: 0.4358 - val_accuracy: 0.8030\n",
      "Epoch 40/100\n",
      "313/313 [==============================] - 3s 10ms/step - loss: 0.4179 - accuracy: 0.8095 - val_loss: 0.4342 - val_accuracy: 0.8024\n",
      "Epoch 41/100\n",
      "313/313 [==============================] - 3s 10ms/step - loss: 0.4159 - accuracy: 0.8108 - val_loss: 0.4327 - val_accuracy: 0.7982\n"
     ]
    }
   ],
   "source": [
    "rmsprop = keras.optimizers.RMSprop(learning_rate = 1e-4)\n",
    "model2.compile(optimizer=rmsprop, loss=\"binary_crossentropy\", metrics=[\"accuracy\"])\n",
    "checkpoint_cb = keras.callbacks.ModelCheckpoint(\"best-dropout-model.h5\", save_best_only=True)\n",
    "early_stopping_cb = keras.callbacks.EarlyStopping(patience =3, restore_best_weights=True)\n",
    "history = model2.fit(train_seq, train_target, epochs=100, batch_size=64, validation_data=(val_seq, val_target),\n",
    "                     callbacks = [checkpoint_cb, early_stopping_cb])"
   ]
  },
  {
   "cell_type": "code",
   "execution_count": 9,
   "metadata": {
    "colab": {
     "base_uri": "https://localhost:8080/",
     "height": 279
    },
    "id": "6vXcvQEgUhFx",
    "outputId": "9b87b3fa-4de8-4c79-cc68-18bdab4653c0"
   },
   "outputs": [
    {
     "data": {
      "image/png": "[encoded data removed]",
      "text/plain": [
       "<Figure size 432x288 with 1 Axes>"
      ]
     },
     "metadata": {
      "needs_background": "light"
     },
     "output_type": "display_data"
    }
   ],
   "source": [
    "plt.plot(history.history[\"loss\"])\n",
    "plt.plot(history.history[\"val_loss\"])\n",
    "plt.xlabel(\"epoch\")\n",
    "plt.ylabel(\"loss\")\n",
    "plt.legend([\"train\", \"val\"])\n",
    "plt.show()"
   ]
  },
  {
   "cell_type": "code",
   "execution_count": 10,
   "metadata": {
    "id": "V-pm5FhFWRXL"
   },
   "outputs": [],
   "source": [
    "model3 = keras.Sequential()\n",
    "model3.add(keras.layers.Embedding(500, 16, input_length=100))\n",
    "model3.add(keras.layers.LSTM(8, dropout=0.3, return_sequences=True))\n",
    "model3.add(keras.layers.LSTM(8, dropout=0.3))\n",
    "model3.add(keras.layers.Dense(1, activation=\"sigmoid\"))"
   ]
  },
  {
   "cell_type": "code",
   "execution_count": 11,
   "metadata": {},
   "outputs": [
    {
     "name": "stdout",
     "output_type": "stream",
     "text": [
      "Model: \"sequential_2\"\n",
      "_________________________________________________________________\n",
      " Layer (type)                Output Shape              Param #   \n",
      "=================================================================\n",
      " embedding_2 (Embedding)     (None, 100, 16)           8000      \n",
      "                                                                 \n",
      " lstm_2 (LSTM)               (None, 100, 8)            800       \n",
      "                                                                 \n",
      " lstm_3 (LSTM)               (None, 8)                 544       \n",
      "                                                                 \n",
      " dense_2 (Dense)             (None, 1)                 9         \n",
      "                                                                 \n",
      "=================================================================\n",
      "Total params: 9,353\n",
      "Trainable params: 9,353\n",
      "Non-trainable params: 0\n",
      "_________________________________________________________________\n"
     ]
    }
   ],
   "source": [
    "model3.summary()"
   ]
  },
  {
   "cell_type": "code",
   "execution_count": 12,
   "metadata": {
    "scrolled": true
   },
   "outputs": [
    {
     "name": "stdout",
     "output_type": "stream",
     "text": [
      "Epoch 1/100\n",
      "313/313 [==============================] - 8s 20ms/step - loss: 0.6925 - accuracy: 0.5395 - val_loss: 0.6916 - val_accuracy: 0.5888\n",
      "Epoch 2/100\n",
      "313/313 [==============================] - 6s 18ms/step - loss: 0.6881 - accuracy: 0.6160 - val_loss: 0.6824 - val_accuracy: 0.6078\n",
      "Epoch 3/100\n",
      "313/313 [==============================] - 6s 18ms/step - loss: 0.6524 - accuracy: 0.6680 - val_loss: 0.6086 - val_accuracy: 0.7064\n",
      "Epoch 4/100\n",
      "313/313 [==============================] - 6s 18ms/step - loss: 0.5766 - accuracy: 0.7232 - val_loss: 0.5497 - val_accuracy: 0.7450\n",
      "Epoch 5/100\n",
      "313/313 [==============================] - 6s 18ms/step - loss: 0.5378 - accuracy: 0.7467 - val_loss: 0.5230 - val_accuracy: 0.7476\n",
      "Epoch 6/100\n",
      "313/313 [==============================] - 5s 17ms/step - loss: 0.5127 - accuracy: 0.7612 - val_loss: 0.4953 - val_accuracy: 0.7674\n",
      "Epoch 7/100\n",
      "313/313 [==============================] - 5s 17ms/step - loss: 0.4965 - accuracy: 0.7710 - val_loss: 0.4833 - val_accuracy: 0.7746\n",
      "Epoch 8/100\n",
      "313/313 [==============================] - 5s 17ms/step - loss: 0.4832 - accuracy: 0.7775 - val_loss: 0.4737 - val_accuracy: 0.7782\n",
      "Epoch 9/100\n",
      "313/313 [==============================] - 6s 18ms/step - loss: 0.4745 - accuracy: 0.7837 - val_loss: 0.4667 - val_accuracy: 0.7830\n",
      "Epoch 10/100\n",
      "313/313 [==============================] - 6s 18ms/step - loss: 0.4691 - accuracy: 0.7821 - val_loss: 0.4616 - val_accuracy: 0.7894\n",
      "Epoch 11/100\n",
      "313/313 [==============================] - 5s 17ms/step - loss: 0.4614 - accuracy: 0.7891 - val_loss: 0.4584 - val_accuracy: 0.7864\n",
      "Epoch 12/100\n",
      "313/313 [==============================] - 5s 17ms/step - loss: 0.4587 - accuracy: 0.7905 - val_loss: 0.4550 - val_accuracy: 0.7880\n",
      "Epoch 13/100\n",
      "313/313 [==============================] - 6s 19ms/step - loss: 0.4571 - accuracy: 0.7905 - val_loss: 0.4521 - val_accuracy: 0.7898\n",
      "Epoch 14/100\n",
      "313/313 [==============================] - 6s 18ms/step - loss: 0.4516 - accuracy: 0.7934 - val_loss: 0.4505 - val_accuracy: 0.7910\n",
      "Epoch 15/100\n",
      "313/313 [==============================] - 6s 18ms/step - loss: 0.4502 - accuracy: 0.7944 - val_loss: 0.4483 - val_accuracy: 0.7910\n",
      "Epoch 16/100\n",
      "313/313 [==============================] - 6s 19ms/step - loss: 0.4456 - accuracy: 0.7980 - val_loss: 0.4478 - val_accuracy: 0.7922\n",
      "Epoch 17/100\n",
      "313/313 [==============================] - 6s 19ms/step - loss: 0.4454 - accuracy: 0.7961 - val_loss: 0.4454 - val_accuracy: 0.7926\n",
      "Epoch 18/100\n",
      "313/313 [==============================] - 6s 19ms/step - loss: 0.4434 - accuracy: 0.7991 - val_loss: 0.4448 - val_accuracy: 0.7920\n",
      "Epoch 19/100\n",
      "313/313 [==============================] - 6s 19ms/step - loss: 0.4385 - accuracy: 0.8003 - val_loss: 0.4448 - val_accuracy: 0.7952\n",
      "Epoch 20/100\n",
      "313/313 [==============================] - 6s 18ms/step - loss: 0.4386 - accuracy: 0.8004 - val_loss: 0.4424 - val_accuracy: 0.7952\n",
      "Epoch 21/100\n",
      "313/313 [==============================] - 6s 18ms/step - loss: 0.4358 - accuracy: 0.8016 - val_loss: 0.4543 - val_accuracy: 0.7908\n",
      "Epoch 22/100\n",
      "313/313 [==============================] - 6s 19ms/step - loss: 0.4365 - accuracy: 0.8013 - val_loss: 0.4471 - val_accuracy: 0.7876\n",
      "Epoch 23/100\n",
      "313/313 [==============================] - 6s 19ms/step - loss: 0.4345 - accuracy: 0.8036 - val_loss: 0.4398 - val_accuracy: 0.7980\n",
      "Epoch 24/100\n",
      "313/313 [==============================] - 5s 17ms/step - loss: 0.4351 - accuracy: 0.8011 - val_loss: 0.4424 - val_accuracy: 0.7984\n",
      "Epoch 25/100\n",
      "313/313 [==============================] - 5s 17ms/step - loss: 0.4315 - accuracy: 0.8048 - val_loss: 0.4417 - val_accuracy: 0.7994\n",
      "Epoch 26/100\n",
      "313/313 [==============================] - 6s 18ms/step - loss: 0.4301 - accuracy: 0.8050 - val_loss: 0.4395 - val_accuracy: 0.7986\n",
      "Epoch 27/100\n",
      "313/313 [==============================] - 6s 18ms/step - loss: 0.4282 - accuracy: 0.8047 - val_loss: 0.4381 - val_accuracy: 0.7998\n",
      "Epoch 28/100\n",
      "313/313 [==============================] - 6s 18ms/step - loss: 0.4301 - accuracy: 0.8034 - val_loss: 0.4363 - val_accuracy: 0.7976\n",
      "Epoch 29/100\n",
      "313/313 [==============================] - 6s 19ms/step - loss: 0.4260 - accuracy: 0.8048 - val_loss: 0.4359 - val_accuracy: 0.7982\n",
      "Epoch 30/100\n",
      "313/313 [==============================] - 6s 20ms/step - loss: 0.4258 - accuracy: 0.8074 - val_loss: 0.4359 - val_accuracy: 0.7986\n",
      "Epoch 31/100\n",
      "313/313 [==============================] - 6s 19ms/step - loss: 0.4252 - accuracy: 0.8066 - val_loss: 0.4373 - val_accuracy: 0.8012\n",
      "Epoch 32/100\n",
      "313/313 [==============================] - 6s 20ms/step - loss: 0.4249 - accuracy: 0.8066 - val_loss: 0.4359 - val_accuracy: 0.7998\n",
      "Epoch 33/100\n",
      "313/313 [==============================] - 6s 19ms/step - loss: 0.4237 - accuracy: 0.8079 - val_loss: 0.4389 - val_accuracy: 0.7960\n",
      "Epoch 34/100\n",
      "313/313 [==============================] - 6s 19ms/step - loss: 0.4221 - accuracy: 0.8059 - val_loss: 0.4344 - val_accuracy: 0.7980\n",
      "Epoch 35/100\n",
      "313/313 [==============================] - 6s 18ms/step - loss: 0.4235 - accuracy: 0.8080 - val_loss: 0.4347 - val_accuracy: 0.8008\n",
      "Epoch 36/100\n",
      "313/313 [==============================] - 6s 18ms/step - loss: 0.4224 - accuracy: 0.8087 - val_loss: 0.4360 - val_accuracy: 0.8000\n",
      "Epoch 37/100\n",
      "313/313 [==============================] - 6s 18ms/step - loss: 0.4217 - accuracy: 0.8095 - val_loss: 0.4330 - val_accuracy: 0.8010\n",
      "Epoch 38/100\n",
      "313/313 [==============================] - 6s 18ms/step - loss: 0.4213 - accuracy: 0.8078 - val_loss: 0.4327 - val_accuracy: 0.7998\n",
      "Epoch 39/100\n",
      "313/313 [==============================] - 6s 19ms/step - loss: 0.4226 - accuracy: 0.8063 - val_loss: 0.4331 - val_accuracy: 0.7998\n",
      "Epoch 40/100\n",
      "313/313 [==============================] - 6s 19ms/step - loss: 0.4205 - accuracy: 0.8094 - val_loss: 0.4329 - val_accuracy: 0.8006\n",
      "Epoch 41/100\n",
      "313/313 [==============================] - 6s 18ms/step - loss: 0.4182 - accuracy: 0.8087 - val_loss: 0.4353 - val_accuracy: 0.7954\n"
     ]
    }
   ],
   "source": [
    "rmsprop = keras.optimizers.RMSprop(learning_rate=1e-4)\n",
    "model3.compile(optimizer=rmsprop, loss=\"binary_crossentropy\", metrics=[\"accuracy\"])\n",
    "checkpoint_cb = keras.callbacks.ModelCheckpoint(\"best-2rnn-model.h5\",\n",
    "                                               save_best_only=True)\n",
    "early_stopping_cb= keras.callbacks.EarlyStopping(patience=3, restore_best_weights=True)\n",
    "history = model3.fit(train_seq, train_target, epochs=100, batch_size =64,\n",
    "                    validation_data=(val_seq, val_target),\n",
    "                    callbacks=[checkpoint_cb, early_stopping_cb])"
   ]
  },
  {
   "cell_type": "code",
   "execution_count": 13,
   "metadata": {},
   "outputs": [
    {
     "data": {
      "image/png": "[encoded data removed]",
      "text/plain": [
       "<Figure size 432x288 with 1 Axes>"
      ]
     },
     "metadata": {
      "needs_background": "light"
     },
     "output_type": "display_data"
    }
   ],
   "source": [
    "plt.plot(history.history[\"loss\"])\n",
    "plt.plot(history.history[\"val_loss\"])\n",
    "plt.xlabel(\"epoch\")\n",
    "plt.ylabel(\"loss\")\n",
    "plt.legend([\"train\",\"val\"])\n",
    "plt.show()"
   ]
  },
  {
   "cell_type": "code",
   "execution_count": 14,
   "metadata": {},
   "outputs": [],
   "source": [
    "\"\"\"\n",
    "-GRU 구조\n",
    "GRU는 Gated Recurrent Unit 의 약자\n",
    "\n",
    "GRU셀은 LSTM보다 가중치가 적기 때문에 계산량이 적지만 LSTM 못지않은 좋은 성능을 내는것으로 알려져 있다\n",
    "GRU 셀을 사용한 순환 신경망을 만들어 봄\n",
    "\"\"\"\n",
    "model4 = keras.Sequential()\n",
    "model4.add(keras.layers.Embedding(500, 16, input_length=100))\n",
    "model4.add(keras.layers.GRU(8))\n",
    "model4.add(keras.layers.Dense(1, activation=\"sigmoid\"))"
   ]
  },
  {
   "cell_type": "code",
   "execution_count": 15,
   "metadata": {},
   "outputs": [
    {
     "name": "stdout",
     "output_type": "stream",
     "text": [
      "Model: \"sequential_3\"\n",
      "_________________________________________________________________\n",
      " Layer (type)                Output Shape              Param #   \n",
      "=================================================================\n",
      " embedding_3 (Embedding)     (None, 100, 16)           8000      \n",
      "                                                                 \n",
      " gru (GRU)                   (None, 8)                 624       \n",
      "                                                                 \n",
      " dense_3 (Dense)             (None, 1)                 9         \n",
      "                                                                 \n",
      "=================================================================\n",
      "Total params: 8,633\n",
      "Trainable params: 8,633\n",
      "Non-trainable params: 0\n",
      "_________________________________________________________________\n"
     ]
    }
   ],
   "source": [
    "model4.summary()"
   ]
  },
  {
   "cell_type": "code",
   "execution_count": 16,
   "metadata": {
    "scrolled": true
   },
   "outputs": [
    {
     "name": "stdout",
     "output_type": "stream",
     "text": [
      "Epoch 1/100\n",
      "313/313 [==============================] - 4s 11ms/step - loss: 0.6922 - accuracy: 0.5349 - val_loss: 0.6915 - val_accuracy: 0.5668\n",
      "Epoch 2/100\n",
      "313/313 [==============================] - 3s 11ms/step - loss: 0.6894 - accuracy: 0.5941 - val_loss: 0.6885 - val_accuracy: 0.5908\n",
      "Epoch 3/100\n",
      "313/313 [==============================] - 3s 11ms/step - loss: 0.6847 - accuracy: 0.6166 - val_loss: 0.6828 - val_accuracy: 0.6074\n",
      "Epoch 4/100\n",
      "313/313 [==============================] - 4s 11ms/step - loss: 0.6774 - accuracy: 0.6246 - val_loss: 0.6745 - val_accuracy: 0.6220\n",
      "Epoch 5/100\n",
      "313/313 [==============================] - 4s 11ms/step - loss: 0.6657 - accuracy: 0.6416 - val_loss: 0.6616 - val_accuracy: 0.6326\n",
      "Epoch 6/100\n",
      "313/313 [==============================] - 4s 11ms/step - loss: 0.6479 - accuracy: 0.6567 - val_loss: 0.6408 - val_accuracy: 0.6544\n",
      "Epoch 7/100\n",
      "313/313 [==============================] - 4s 11ms/step - loss: 0.6192 - accuracy: 0.6774 - val_loss: 0.6072 - val_accuracy: 0.6872\n",
      "Epoch 8/100\n",
      "313/313 [==============================] - 3s 11ms/step - loss: 0.5678 - accuracy: 0.7106 - val_loss: 0.5467 - val_accuracy: 0.7358\n",
      "Epoch 9/100\n",
      "313/313 [==============================] - 4s 11ms/step - loss: 0.5175 - accuracy: 0.7495 - val_loss: 0.5187 - val_accuracy: 0.7482\n",
      "Epoch 10/100\n",
      "313/313 [==============================] - 4s 11ms/step - loss: 0.4986 - accuracy: 0.7620 - val_loss: 0.5057 - val_accuracy: 0.7568\n",
      "Epoch 11/100\n",
      "313/313 [==============================] - 4s 11ms/step - loss: 0.4853 - accuracy: 0.7700 - val_loss: 0.4945 - val_accuracy: 0.7626\n",
      "Epoch 12/100\n",
      "313/313 [==============================] - 4s 11ms/step - loss: 0.4750 - accuracy: 0.7776 - val_loss: 0.4867 - val_accuracy: 0.7660\n",
      "Epoch 13/100\n",
      "313/313 [==============================] - 3s 11ms/step - loss: 0.4669 - accuracy: 0.7849 - val_loss: 0.4801 - val_accuracy: 0.7742\n",
      "Epoch 14/100\n",
      "313/313 [==============================] - 3s 11ms/step - loss: 0.4599 - accuracy: 0.7868 - val_loss: 0.4753 - val_accuracy: 0.7724\n",
      "Epoch 15/100\n",
      "313/313 [==============================] - 3s 11ms/step - loss: 0.4537 - accuracy: 0.7947 - val_loss: 0.4700 - val_accuracy: 0.7782\n",
      "Epoch 16/100\n",
      "313/313 [==============================] - 3s 11ms/step - loss: 0.4488 - accuracy: 0.7969 - val_loss: 0.4663 - val_accuracy: 0.7790\n",
      "Epoch 17/100\n",
      "313/313 [==============================] - 3s 11ms/step - loss: 0.4444 - accuracy: 0.7991 - val_loss: 0.4630 - val_accuracy: 0.7814\n",
      "Epoch 18/100\n",
      "313/313 [==============================] - 4s 11ms/step - loss: 0.4409 - accuracy: 0.8006 - val_loss: 0.4621 - val_accuracy: 0.7824\n",
      "Epoch 19/100\n",
      "313/313 [==============================] - 4s 11ms/step - loss: 0.4378 - accuracy: 0.8043 - val_loss: 0.4591 - val_accuracy: 0.7866\n",
      "Epoch 20/100\n",
      "313/313 [==============================] - 3s 10ms/step - loss: 0.4351 - accuracy: 0.8056 - val_loss: 0.4569 - val_accuracy: 0.7894\n",
      "Epoch 21/100\n",
      "313/313 [==============================] - 3s 11ms/step - loss: 0.4324 - accuracy: 0.8077 - val_loss: 0.4570 - val_accuracy: 0.7880\n",
      "Epoch 22/100\n",
      "313/313 [==============================] - 3s 11ms/step - loss: 0.4308 - accuracy: 0.8073 - val_loss: 0.4562 - val_accuracy: 0.7898\n",
      "Epoch 23/100\n",
      "313/313 [==============================] - 3s 11ms/step - loss: 0.4287 - accuracy: 0.8100 - val_loss: 0.4564 - val_accuracy: 0.7856\n",
      "Epoch 24/100\n",
      "313/313 [==============================] - 3s 10ms/step - loss: 0.4269 - accuracy: 0.8091 - val_loss: 0.4546 - val_accuracy: 0.7898\n",
      "Epoch 25/100\n",
      "313/313 [==============================] - 3s 11ms/step - loss: 0.4257 - accuracy: 0.8106 - val_loss: 0.4600 - val_accuracy: 0.7812\n",
      "Epoch 26/100\n",
      "313/313 [==============================] - 3s 10ms/step - loss: 0.4246 - accuracy: 0.8102 - val_loss: 0.4555 - val_accuracy: 0.7858\n",
      "Epoch 27/100\n",
      "313/313 [==============================] - 3s 11ms/step - loss: 0.4235 - accuracy: 0.8120 - val_loss: 0.4508 - val_accuracy: 0.7884\n",
      "Epoch 28/100\n",
      "313/313 [==============================] - 3s 10ms/step - loss: 0.4224 - accuracy: 0.8116 - val_loss: 0.4561 - val_accuracy: 0.7850\n",
      "Epoch 29/100\n",
      "313/313 [==============================] - 3s 11ms/step - loss: 0.4215 - accuracy: 0.8126 - val_loss: 0.4498 - val_accuracy: 0.7908\n",
      "Epoch 30/100\n",
      "313/313 [==============================] - 3s 10ms/step - loss: 0.4209 - accuracy: 0.8127 - val_loss: 0.4508 - val_accuracy: 0.7888\n",
      "Epoch 31/100\n",
      "313/313 [==============================] - 3s 10ms/step - loss: 0.4201 - accuracy: 0.8138 - val_loss: 0.4502 - val_accuracy: 0.7916\n",
      "Epoch 32/100\n",
      "313/313 [==============================] - 3s 11ms/step - loss: 0.4190 - accuracy: 0.8156 - val_loss: 0.4474 - val_accuracy: 0.7896\n",
      "Epoch 33/100\n",
      "313/313 [==============================] - 3s 10ms/step - loss: 0.4189 - accuracy: 0.8128 - val_loss: 0.4472 - val_accuracy: 0.7904\n",
      "Epoch 34/100\n",
      "313/313 [==============================] - 3s 11ms/step - loss: 0.4177 - accuracy: 0.8160 - val_loss: 0.4468 - val_accuracy: 0.7904\n",
      "Epoch 35/100\n",
      "313/313 [==============================] - 3s 11ms/step - loss: 0.4174 - accuracy: 0.8140 - val_loss: 0.4511 - val_accuracy: 0.7910\n",
      "Epoch 36/100\n",
      "313/313 [==============================] - 3s 11ms/step - loss: 0.4164 - accuracy: 0.8152 - val_loss: 0.4476 - val_accuracy: 0.7894\n",
      "Epoch 37/100\n",
      "313/313 [==============================] - 3s 10ms/step - loss: 0.4162 - accuracy: 0.8158 - val_loss: 0.4492 - val_accuracy: 0.7916\n"
     ]
    }
   ],
   "source": [
    "rmsprop = keras.optimizers.RMSprop(learning_rate=1e-4)\n",
    "model4.compile(optimizer=rmsprop, loss=\"binary_crossentropy\", metrics=[\"accuracy\"])\n",
    "checkpoint_cb = keras.callbacks.ModelCheckpoint(\"best-gru-model.h5\",\n",
    "                                               save_best_only=True)\n",
    "early_stopping_cb= keras.callbacks.EarlyStopping(patience=3, restore_best_weights=True)\n",
    "history = model4.fit(train_seq, train_target, epochs=100, batch_size =64,\n",
    "                    validation_data=(val_seq, val_target),\n",
    "                    callbacks=[checkpoint_cb, early_stopping_cb])"
   ]
  },
  {
   "cell_type": "code",
   "execution_count": 17,
   "metadata": {},
   "outputs": [
    {
     "data": {
      "image/png": "[encoded data removed]",
      "text/plain": [
       "<Figure size 432x288 with 1 Axes>"
      ]
     },
     "metadata": {
      "needs_background": "light"
     },
     "output_type": "display_data"
    }
   ],
   "source": [
    "plt.plot(history.history[\"loss\"])\n",
    "plt.plot(history.history[\"val_loss\"])\n",
    "plt.xlabel(\"epoch\")\n",
    "plt.ylabel(\"loss\")\n",
    "plt.legend([\"train\", \"val\"])\n",
    "plt.show()"
   ]
  },
  {
   "cell_type": "code",
   "execution_count": 18,
   "metadata": {},
   "outputs": [
    {
     "name": "stdout",
     "output_type": "stream",
     "text": [
      "782/782 [==============================] - 7s 8ms/step - loss: 0.4280 - accuracy: 0.8000\n"
     ]
    },
    {
     "data": {
      "text/plain": [
       "[0.4280185103416443, 0.7999600172042847]"
      ]
     },
     "execution_count": 18,
     "metadata": {},
     "output_type": "execute_result"
    }
   ],
   "source": [
    "\"\"\"\n",
    "LSTM 과 GRU 셀로 훈련\n",
    "\"\"\"\n",
    "test_seq = pad_sequences(test_input, maxlen=100)\n",
    "rnn_model = keras.models.load_model(\"best-2rnn-model.h5\")\n",
    "rnn_model.evaluate(test_seq, test_target)"
   ]
  },
  {
   "cell_type": "code",
   "execution_count": null,
   "metadata": {},
   "outputs": [],
   "source": []
  }
 ],
 "metadata": {
  "accelerator": "GPU",
  "colab": {
   "collapsed_sections": [],
   "name": "Untitled3.ipynb",
   "provenance": [],
   "toc_visible": true
  },
  "kernelspec": {
   "display_name": "Python 3 (ipykernel)",
   "language": "python",
   "name": "python3"
  },
  "language_info": {
   "codemirror_mode": {
    "name": "ipython",
    "version": 3
   },
   "file_extension": ".py",
   "mimetype": "text/x-python",
   "name": "python",
   "nbconvert_exporter": "python",
   "pygments_lexer": "ipython3",
   "version": "3.8.12"
  }
 },
 "nbformat": 4,
 "nbformat_minor": 1
}
