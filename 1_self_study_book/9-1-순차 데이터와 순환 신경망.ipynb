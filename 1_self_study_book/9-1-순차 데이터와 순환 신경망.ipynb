{
 "cells": [
  {
   "cell_type": "code",
   "execution_count": null,
   "id": "3f8029d6",
   "metadata": {},
   "outputs": [],
   "source": [
    "\"\"\"\n",
    "다 설명임 - 책읽어보셈\n",
    "\n",
    "-순차 데이터\n",
    "\n",
    "이렇게 입력 데이터의 흐름이 앞으로만 전달되는 신경망을 피드포워드 신경망 이라고 함\n",
    "완전 신경망과 합성곱 신경망이 모두 피드포워드 신경망에 속함\n",
    "\n",
    "\n",
    "순환 신경망은 일반적인 완전 연결 신경망과 거의 비슷함 \n",
    "완전 연결 신경망에 이전 데이터의 처리 흐름을 순환하는 고리 하나만 추가하면 됨\n",
    "\n",
    "-책 읽어봐라\n",
    "\n",
    "타임스텝\n",
    "\n",
    "순환 신경망에서는 특별히 층을 셀 이라고 부름\n",
    "\n",
    "셀의 출력을 은닉 상태 라고 부름\n",
    "\n",
    "\n",
    "일반적으로 은닉층의 활성화 함수로는 하이퍼볼릭 탄젠트 함수인 tanh가 많이 사용됨\n",
    "\n",
    "\n",
    "\"\"\""
   ]
  },
  {
   "cell_type": "code",
   "execution_count": null,
   "id": "0046c02e",
   "metadata": {},
   "outputs": [],
   "source": []
  },
  {
   "cell_type": "code",
   "execution_count": null,
   "id": "afe6a60b",
   "metadata": {},
   "outputs": [],
   "source": []
  },
  {
   "cell_type": "code",
   "execution_count": null,
   "id": "3ca96c54",
   "metadata": {},
   "outputs": [],
   "source": []
  },
  {
   "cell_type": "code",
   "execution_count": null,
   "id": "8fa0f8b4",
   "metadata": {},
   "outputs": [],
   "source": []
  }
 ],
 "metadata": {
  "kernelspec": {
   "display_name": "Python 3 (ipykernel)",
   "language": "python",
   "name": "python3"
  },
  "language_info": {
   "codemirror_mode": {
    "name": "ipython",
    "version": 3
   },
   "file_extension": ".py",
   "mimetype": "text/x-python",
   "name": "python",
   "nbconvert_exporter": "python",
   "pygments_lexer": "ipython3",
   "version": "3.8.12"
  }
 },
 "nbformat": 4,
 "nbformat_minor": 5
}
