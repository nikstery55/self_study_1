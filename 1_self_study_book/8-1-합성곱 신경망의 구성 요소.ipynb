{
 "cells": [
  {
   "cell_type": "code",
   "execution_count": null,
   "id": "af281521",
   "metadata": {},
   "outputs": [],
   "source": [
    "\"\"\"\n",
    "-합성곱\n",
    "\n",
    "책에 이론이 많이 써있음 - 책 잘읽어보자\n",
    "\n",
    "합성곱 신경망 Convolutional Neural Network CNN\n",
    "뉴런을 필터라고 부릅니다 또는 커널이라고 함\n",
    "\n",
    "여기서는 케라스 API와 이름을 맞추어 뉴런 개수를 이야기 할때는 필터\n",
    "입력에 곱해지는 가중치를 의미할 때는 커널 \n",
    "\n",
    "합성곱 계산을 통해 얻은 출력을 특성맵 이라고 부름\n",
    "\n",
    "\n",
    "\n",
    "\"\"\""
   ]
  },
  {
   "cell_type": "code",
   "execution_count": 1,
   "id": "98a1394e",
   "metadata": {},
   "outputs": [
    {
     "data": {
      "text/plain": [
       "<keras.layers.convolutional.Conv2D at 0x29b707103d0>"
      ]
     },
     "execution_count": 1,
     "metadata": {},
     "output_type": "execute_result"
    }
   ],
   "source": [
    "\"\"\"\n",
    "케라스 합성곱 층\n",
    "\n",
    "케라스의 층은 모두 keras.layers 패키지 아래 클래스로 구현되어 있다\n",
    "합성곱 층도 마찬가지 \n",
    "합성곱은 Conv2D 클래스로 제공함\n",
    "\n",
    "\n",
    "Conv2D 클래스의 첫 번째 매개변수는 필터의 개수\n",
    "kernel_size 매개변수는 필터에 사용할 커널의 크기를 지정\n",
    "필터의 개수와 커널의 크기는 반드시 지정해야하는 매개변수\n",
    "마지막으로 밀집층에서 활성화 함수를 지정 - 여기서는 렐루 함수를 선택함\n",
    "\n",
    "케라스 API를 사용하면 합성곱 층을 사용하는것이 어렵지 않다 \n",
    "패딩과 스트라이드\n",
    "\n",
    "\"\"\"\n",
    "from tensorflow import keras\n",
    "keras.layers.Conv2D(10, kernel_size=(3, 3), activation=\"relu\")\n"
   ]
  },
  {
   "cell_type": "code",
   "execution_count": 2,
   "id": "36566f0a",
   "metadata": {},
   "outputs": [
    {
     "data": {
      "text/plain": [
       "<keras.layers.convolutional.Conv2D at 0x29b374292e0>"
      ]
     },
     "execution_count": 2,
     "metadata": {},
     "output_type": "execute_result"
    }
   ],
   "source": [
    "\"\"\"\n",
    "-패딩과 스트리아드\n",
    "이렇게 입력 배열의 주의를 가상의 원소로 채우는 것을 패딩 - 패딩은 0으로 채움\n",
    "\n",
    "이렇게 입력과 특성 맵의 크기를 동일하게 만들기 위해 입력 주위에 0으로 패딩 하는 것을 세임 패딩\n",
    "\n",
    "패딩 없이 순수한 입력 배열에서만 합성곱을 하여 특성 맵을 만드는 경우를 밸리드 패딩 - 밸리드 패딩은 특성 맵의 크기가 줄어듬\n",
    "\n",
    "적절한 패딩은 이처럼 이미지의 주변에 있는 정보를 잃어버리지 않도록 도와줌\n",
    "케라스 Conv2D 클래스에서는 padding 매개변수로 패딩을 지정할 수 있다\n",
    "기본값은 valid로 밸리드 패딩 \n",
    "세임 패딩을 사용하려면 same으로 지정\n",
    "\n",
    "\"\"\"\n",
    "keras.layers.Conv2D(10, kernel_size=(3, 3), activation=\"relu\", padding=\"same\")"
   ]
  },
  {
   "cell_type": "code",
   "execution_count": 3,
   "id": "e511dff3",
   "metadata": {},
   "outputs": [
    {
     "data": {
      "text/plain": [
       "<keras.layers.convolutional.Conv2D at 0x29b37429910>"
      ]
     },
     "execution_count": 3,
     "metadata": {},
     "output_type": "execute_result"
    }
   ],
   "source": [
    "\"\"\"\n",
    "합성곱 연산은 좌우, 위아래 한 칸씩 이동 \n",
    "두 칸씩 건너뛸 수도 있다 - 두 칸씩 이동하면 특성 맵의 크기가 작아질수 있다\n",
    "이런 이동의 크기를 스트라이드\n",
    "기본으로 스트라이드는 1\n",
    "\n",
    "스트라이드를 사용하는 경우는 드물다\n",
    "\"\"\"\n",
    "keras.layers.Conv2D(10, kernel_size=(3, 3), activation=\"relu\", padding=\"same\", strides=1)"
   ]
  },
  {
   "cell_type": "code",
   "execution_count": 4,
   "id": "5796ad0a",
   "metadata": {},
   "outputs": [
    {
     "data": {
      "text/plain": [
       "<keras.layers.pooling.MaxPooling2D at 0x29b37429400>"
      ]
     },
     "execution_count": 4,
     "metadata": {},
     "output_type": "execute_result"
    }
   ],
   "source": [
    "\"\"\"\n",
    "-풀링\n",
    "풀링은 합성곱 층에서 만든 특성 맵의 가로세로 크기를 줄이는 역할을 수행\n",
    "하지만 특성맵의 개수는 줄어들지 않는다\n",
    "예시로 (2, 2, 3) 크기의 특성 맵에 풀링을 적용하면 (1, 1, 3)인 크기의 특성 맵이 됨\n",
    "\n",
    "특성맵에서 가장 큰 값을 고르거나 평균값을 계산함 , 이를 각각 최대 풀링과 평균 풀링이라고 부름\n",
    "\n",
    "예시 (4,4) 크기의 특성맵을 (2,2)최대 풀링을 적용하면 절반으로 크기가 줄어듬\n",
    "\n",
    "풀링은 커널의 영역을 겹치지 않고 이동함\n",
    "\n",
    "풀링은 가중치가 없고 풀링 크기와 스트라이드가 같기 때문에 이해하기 쉽다\n",
    "또 패딩도 없다 \n",
    "케라스에서는 MaxPooling2D 클래스로 풀링을 수행\n",
    "\"\"\"\n",
    "keras.layers.MaxPooling2D(2)"
   ]
  },
  {
   "cell_type": "code",
   "execution_count": null,
   "id": "1353175b",
   "metadata": {},
   "outputs": [],
   "source": [
    "\"\"\"\n",
    "풀링은 strides와 padding 매개변수를 제공\n",
    "strides의 기본값은 자동으로 풀링의 크기이므로 따로 지정할 필요가 없다\n",
    "padding의 기본값은 valid로 패딩을 하지 않는다\n",
    "이 매개변수를 바꾸는 경우는 거의 없다\n",
    "\n",
    "평균 풀링을 제공하는 클래스는 AveragePooling2D \n",
    "최댓값 대신 평균을 계산하는 것만 빼면 MaxPooling2D와 동일하며 제공하는 매개변수도 동일\n",
    "\"\"\"\n"
   ]
  },
  {
   "cell_type": "code",
   "execution_count": null,
   "id": "2c6a78c4",
   "metadata": {},
   "outputs": [],
   "source": [
    "\"\"\"\n",
    "- 합성곱 신경망의 전체 구조\n",
    "\n",
    "\n",
    "\"\"\""
   ]
  }
 ],
 "metadata": {
  "kernelspec": {
   "display_name": "Python 3 (ipykernel)",
   "language": "python",
   "name": "python3"
  },
  "language_info": {
   "codemirror_mode": {
    "name": "ipython",
    "version": 3
   },
   "file_extension": ".py",
   "mimetype": "text/x-python",
   "name": "python",
   "nbconvert_exporter": "python",
   "pygments_lexer": "ipython3",
   "version": "3.8.12"
  }
 },
 "nbformat": 4,
 "nbformat_minor": 5
}
