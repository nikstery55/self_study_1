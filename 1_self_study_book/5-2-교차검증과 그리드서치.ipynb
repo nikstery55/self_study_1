{
 "cells": [
  {
   "cell_type": "code",
   "execution_count": 1,
   "id": "53a14f2a",
   "metadata": {},
   "outputs": [],
   "source": [
    "\"\"\"\n",
    "교차 검증과 그리드 서치\n",
    "\n",
    "검증 세트\n",
    "\n",
    "이 방법은 너무 단순함 - 실제로 많이 사용하는 방법임\n",
    "\n",
    "훈련세트 약60%, 검증세트 약 20%, 테스트세트 약 20%\n",
    "\n",
    "훈련 세트에서 모델을 훈련하고 검증 세트로 모델을 평가함 \n",
    "이런 식으로 테스트하고 싶은 매개변수를 바꿔가며 가장 좋은 모델을 고름\n",
    "그다음 이 매개변수를 사용해 훈련 세트와 검증 세트를 합쳐 전체 훈련 데이터에서 \n",
    "모델을 다시 훈련함\n",
    "그리고 마지막에서 테스트 세트에서 최종 점수를 평가함\n",
    "\n",
    "\"\"\"\n",
    "import pandas as pd\n",
    "wine = pd.read_csv(\"https://bit.ly/wine_csv_data\")"
   ]
  },
  {
   "cell_type": "code",
   "execution_count": 2,
   "id": "31cbcad0",
   "metadata": {},
   "outputs": [],
   "source": [
    "\"\"\"\n",
    "class 열을 타깃으로 사용\n",
    "나머지 열은 특성 배열에 저장\n",
    "\"\"\"\n",
    "\n",
    "data = wine[[\"alcohol\", \"sugar\", \"pH\"]].to_numpy()\n",
    "target = wine[\"class\"].to_numpy()"
   ]
  },
  {
   "cell_type": "code",
   "execution_count": 3,
   "id": "a6bd960d",
   "metadata": {},
   "outputs": [],
   "source": [
    "\"\"\"\n",
    "훈련 세트와 테스트 세트로 나눔\n",
    "\n",
    "\"\"\"\n",
    "from sklearn.model_selection import train_test_split\n",
    "train_input, test_input, train_target, test_target = train_test_split(\n",
    "data, target, test_size=0.2, random_state =42)"
   ]
  },
  {
   "cell_type": "code",
   "execution_count": 4,
   "id": "40f57e6c",
   "metadata": {},
   "outputs": [],
   "source": [
    "\"\"\"\n",
    "훈련 세트 선택\n",
    "train_input과 train_target을 다시 train_test_split()함수에 넣어 \n",
    "훈련 세트 sub_input, sub_target과 검증 세트 val_input, val_target을 만듬\n",
    "\"\"\"\n",
    "sub_input, val_input, sub_target, val_target = train_test_split(\n",
    "train_input, train_target, test_size = 0.2, random_state=42)"
   ]
  },
  {
   "cell_type": "code",
   "execution_count": 5,
   "id": "8d38a4fd",
   "metadata": {},
   "outputs": [
    {
     "name": "stdout",
     "output_type": "stream",
     "text": [
      "(4157, 3) (1040, 3)\n"
     ]
    }
   ],
   "source": [
    "\"\"\"\n",
    "train_test_split() 함수를 2번 적용해서 \n",
    "훈련 세트와 검증 세트로 나눈것\n",
    "\"\"\"\n",
    "print(sub_input.shape, val_input.shape)"
   ]
  },
  {
   "cell_type": "code",
   "execution_count": 6,
   "id": "8c094e68",
   "metadata": {},
   "outputs": [
    {
     "name": "stdout",
     "output_type": "stream",
     "text": [
      "0.9971133028626413\n",
      "0.864423076923077\n"
     ]
    }
   ],
   "source": [
    "\"\"\"\n",
    "sub_input, sub_target과 val_input, val_target을 사용해\n",
    "모델을 만들고 평가\n",
    "\"\"\"\n",
    "from sklearn.tree import DecisionTreeClassifier\n",
    "dt = DecisionTreeClassifier(random_state=42)\n",
    "dt.fit(sub_input, sub_target)\n",
    "print(dt.score(sub_input, sub_target))\n",
    "print(dt.score(val_input, val_target))"
   ]
  },
  {
   "cell_type": "code",
   "execution_count": 7,
   "id": "e6baaa63",
   "metadata": {},
   "outputs": [
    {
     "name": "stdout",
     "output_type": "stream",
     "text": [
      "{'fit_time': array([0.00499868, 0.00400209, 0.00499678, 0.00400019, 0.00400209]), 'score_time': array([0.        , 0.00100136, 0.        , 0.0010004 , 0.        ]), 'test_score': array([0.86923077, 0.84615385, 0.87680462, 0.84889317, 0.83541867])}\n"
     ]
    }
   ],
   "source": [
    "\"\"\"\n",
    "교차 검증\n",
    "검증 세트를 만드느라 훈련세트가 줄었다\n",
    "교차 검증을 이용하면 안정적인 검증 점수를 얻고 훈련에 더 많은 데이터를 사용할 수 있다\n",
    "\n",
    "3-폴드 교차 검증\n",
    "k-폴드 교차 검증 이라고 하며 훈련 세트를 몇 부분으로 나누나에 따라 다르게 부름\n",
    "k-겹 교차 검증 이라고도 함\n",
    "\n",
    "예시를 위헤 3-폴드 교차 검증을 예시로 들었지만\n",
    "보통 5-폴드 교차 검증이나 10-폴드 교차검증을 많이 사용함\n",
    "이렇게 하면 데이터의 80~90%까지 훈련에 사용할 수 있다\n",
    "검증세트가 줄어들지만 각 폴드에서 계산한 검증 점수를 평균하기 때문에 안정된 점수로 \n",
    "생각할 수 있다\n",
    "\n",
    "사이킷런에 cross_validate()라는 교차 검증 함수가 있다\n",
    "사용법은 간단한데 \n",
    "먼저 평가할 모델 객체를 첫 번째 매개변수로 전달함\n",
    "그다음 앞에서 직접 검증 세트를 떼어 내지 않고 훈련 세트 전체를 cross_validate()함수에 전달\n",
    "\"\"\"\n",
    "from sklearn.model_selection import cross_validate\n",
    "scores = cross_validate(dt, train_input, train_target)\n",
    "print(scores)"
   ]
  },
  {
   "cell_type": "code",
   "execution_count": 8,
   "id": "bfd41922",
   "metadata": {},
   "outputs": [
    {
     "name": "stdout",
     "output_type": "stream",
     "text": [
      "0.855300214703487\n"
     ]
    }
   ],
   "source": [
    "\"\"\"\n",
    "이 함수는 fit_time, score_time, test_score 키를 가진 딕셔너리를 반환함\n",
    "처음 2개의 키는 각각 모델을 훈련하는 시간과 검증하는 시간을 의미함\n",
    "각 키다마 5개의 숫자가 담겨 있습니다\n",
    "cross_validate()함수는 기본적으로 5-폴드 교차검증을 수행함\n",
    "cv 매개변수에서 폴드 수를 바꿀 수도 있다\n",
    "\n",
    "교차검증의 최종 점수는 test_score키에 담긴 5개의 점수를 평균하여 얻을 수 있다\n",
    "이름은 test_score지만 검증 폴드의 점수임 - 혼동하지 마셈\n",
    "\"\"\"\n",
    "import numpy as np\n",
    "\n",
    "print(np.mean(scores[\"test_score\"]))"
   ]
  },
  {
   "cell_type": "code",
   "execution_count": 9,
   "id": "a8409b51",
   "metadata": {},
   "outputs": [
    {
     "name": "stdout",
     "output_type": "stream",
     "text": [
      "0.855300214703487\n"
     ]
    }
   ],
   "source": [
    "\"\"\"\n",
    "교차 검증을 수행하면 입력한 모델에서 얻을 수 있는 최상의 검증 점수를 가늠해 볼 수 있다\n",
    "\n",
    "한 가지 주의할 점은 cross_validate()는 훈련 세트를 섞어 폴드를 나누지 않다\n",
    "앞서 train_test_split()함수로 전체 데이터를 섞은 후 훈련 세틀르 준비 했기 때문에 \n",
    "따로 섞을 필요가 없는 상황\n",
    "하지만 만약 교차 검증을 할 때 훈련 세트를 섞으려면 분할기를 지정해야함\n",
    "\n",
    "사이킷런의 분할기는 교차 검증에서 폴드를 어떻게 나눌지 결정해 줌\n",
    "cross_validate() 함수는 기본적으로 회귀 모델일 경우 KFold 분할기를 사용하고 분류 모델일 경우 \n",
    "타깃 클래스를 골고루 나누기 위해 StratifiedKFold 를 사용함\n",
    "즉 앞서 수행한 교차 검증은 다음 코드와 동일함\n",
    "\"\"\"\n",
    "from sklearn.model_selection import StratifiedKFold\n",
    "\n",
    "scores = cross_validate(dt, train_input, train_target, cv=StratifiedKFold())\n",
    "\n",
    "print(np.mean(scores[\"test_score\"]))"
   ]
  },
  {
   "cell_type": "code",
   "execution_count": 10,
   "id": "94c165e2",
   "metadata": {},
   "outputs": [
    {
     "name": "stdout",
     "output_type": "stream",
     "text": [
      "0.8574181117533719\n"
     ]
    }
   ],
   "source": [
    "\"\"\"\n",
    "만약 훈련 세트를 섞은 후 10-폴드 교차 검증을 수행하려면 다음과 같이 작성\n",
    "\"\"\"\n",
    "splitter = StratifiedKFold(n_splits=10, shuffle=True, random_state=42)\n",
    "scores = cross_validate(dt, train_input, train_target, cv=splitter)\n",
    "print(np.mean(scores[\"test_score\"]))"
   ]
  },
  {
   "cell_type": "code",
   "execution_count": 11,
   "id": "868f6210",
   "metadata": {},
   "outputs": [
    {
     "data": {
      "text/plain": [
       "'\\nKFold 클래스도 동일한 방식으로 사용할 수 있다\\n교차 검증에 대해서 이해함\\n\\n결정트리의 매개변수 값을 바꿔가며 가장 좋은 성능이 나오는 모델을 찾아보자\\n이때 테스트 세트를 사용하지 않고 교차 검증을 통해서 좋은 모델을 고르면 됨\\n'"
      ]
     },
     "execution_count": 11,
     "metadata": {},
     "output_type": "execute_result"
    }
   ],
   "source": [
    "\"\"\"\n",
    "KFold 클래스도 동일한 방식으로 사용할 수 있다\n",
    "교차 검증에 대해서 이해함\n",
    "\n",
    "결정트리의 매개변수 값을 바꿔가며 가장 좋은 성능이 나오는 모델을 찾아보자\n",
    "이때 테스트 세트를 사용하지 않고 교차 검증을 통해서 좋은 모델을 고르면 됨\n",
    "\"\"\""
   ]
  },
  {
   "cell_type": "code",
   "execution_count": 12,
   "id": "9ee5f073",
   "metadata": {},
   "outputs": [],
   "source": [
    "\"\"\"\n",
    "하이퍼파라미터 튜닝\n",
    "\n",
    "머신러닝 모델이 학습하는 파라미터를 모델 파라미터라고 부름\n",
    "\n",
    "반면에 모델이 학습할 수 없어서 사용자가 지정해야만 하는 파라미터를 하이퍼파라미터라고 함\n",
    "사이킷런과 같은 머신러닝 라이브러리를 사용할 때 이런 하이퍼파라미터는 모두 클래스나 메서드의 매개변수로 표현\n",
    "\n",
    "그럼 이런 하이퍼파라미터를 튜닝하는 작업은 어떻게 진행할까? - 먼저 라이브러리가 제공하는 기본값을 그대로 사용해 모델을 훈련\n",
    "그다음 검증 세트의 점수나 교차 검증을 통해서 매개변수를 조금씩 바꿔봄\n",
    "모델마다 적게는 1~2개에서, 많게는 5~6개의 매개변수를 제공함\n",
    "이 매개변수를 바꿔가면서 모델을 훈련하고 교차 검증을 수행\n",
    "\n",
    "\n",
    "매개변수를 동시에 바꿔가며 최적의 값을 찾아야 하는 것-\n",
    "\n",
    "사이킷런에서 제공하는 -그리드서치- 를 사용함\n",
    "\n",
    "사이킷런의 GridSearchCV클래스는 하이퍼파라미터 탐색과 교차 검증을 한번에 수행함\n",
    "\n",
    "GridSearchCV클래스를 임포트하고 탐색할 매개변수와 탐색할 값의 리스트를 딕셔너리로 만듬\n",
    "\"\"\"\n",
    "from sklearn.model_selection import GridSearchCV\n",
    "params = {\"min_impurity_decrease\" : [0.0001, 0.0002, 0.0003, 0.0004, 0.0005]}"
   ]
  },
  {
   "cell_type": "code",
   "execution_count": 13,
   "id": "e50386d6",
   "metadata": {},
   "outputs": [],
   "source": [
    "\"\"\"\n",
    "GridSearchCV 클래스에서 탐색 대상 모델과 params 변수를 전달하여 그리드 서치 객체를 생성\n",
    "\"\"\"\n",
    "gs = GridSearchCV(DecisionTreeClassifier(random_state=42), params, n_jobs=-1)"
   ]
  },
  {
   "cell_type": "code",
   "execution_count": 14,
   "id": "efd2db62",
   "metadata": {},
   "outputs": [
    {
     "data": {
      "text/plain": [
       "GridSearchCV(estimator=DecisionTreeClassifier(random_state=42), n_jobs=-1,\n",
       "             param_grid={'min_impurity_decrease': [0.0001, 0.0002, 0.0003,\n",
       "                                                   0.0004, 0.0005]})"
      ]
     },
     "execution_count": 14,
     "metadata": {},
     "output_type": "execute_result"
    }
   ],
   "source": [
    "\"\"\"\n",
    "그리드 서치 객체는 결정 트리 모델 min_impurity_decrease 값을 바꿔가며 총 5번 실행\n",
    "\n",
    "GridSearchCV의 cv 매개변수 기본값은 5\n",
    "따라서 min_impurity_decrease값 마다 5-폴드 교차 검증을 수행함\n",
    "즉 5X5 = 25 개의 모델을 훈련함\n",
    "n_jobs 매개변수는 사용할 CPU 코어 수를 지정, -1은 모든 CPU 사용\n",
    "\"\"\"\n",
    "gs.fit(train_input, train_target)"
   ]
  },
  {
   "cell_type": "code",
   "execution_count": 15,
   "id": "b1970ef3",
   "metadata": {},
   "outputs": [
    {
     "name": "stdout",
     "output_type": "stream",
     "text": [
      "0.9615162593804117\n"
     ]
    }
   ],
   "source": [
    "\"\"\"\n",
    "사이킷런의 그리드 서치는 훈련이 끝나면 25개의 모델 중에서 \n",
    "검증 점수가 가자 높은 모델의 매개변수 조합으로 \n",
    "전체 훈련 세트에서 자동으로 다시 모델을 훈련함\n",
    "best_estimator_ 속성에 저장 되어 있음\n",
    "\"\"\"\n",
    "dt = gs.best_estimator_\n",
    "print(dt.score(train_input, train_target))"
   ]
  },
  {
   "cell_type": "code",
   "execution_count": 16,
   "id": "19d035d6",
   "metadata": {},
   "outputs": [
    {
     "name": "stdout",
     "output_type": "stream",
     "text": [
      "{'min_impurity_decrease': 0.0001}\n"
     ]
    }
   ],
   "source": [
    "\"\"\"\n",
    "그리드 서치로 찾은 최적의 매개변수 \n",
    "\"\"\"\n",
    "print(gs.best_params_)"
   ]
  },
  {
   "cell_type": "code",
   "execution_count": 17,
   "id": "694280d0",
   "metadata": {},
   "outputs": [
    {
     "name": "stdout",
     "output_type": "stream",
     "text": [
      "[0.86819297 0.86453617 0.86492226 0.86780891 0.86761605]\n"
     ]
    }
   ],
   "source": [
    "\"\"\"\n",
    "여기서는 0.0001이 가장 좋은 매개변수\n",
    "\n",
    "각 매개변수에서 수행한 교차 검증의 평균 점수는 cv_results_ 속성의 mean_test_score 키에 저장됨\n",
    "5번의 교차 검증으로 얻은 점수를 출력\n",
    "\"\"\"\n",
    "print(gs.cv_results_[\"mean_test_score\"])"
   ]
  },
  {
   "cell_type": "code",
   "execution_count": 18,
   "id": "bf7ee7c5",
   "metadata": {},
   "outputs": [
    {
     "name": "stdout",
     "output_type": "stream",
     "text": [
      "{'min_impurity_decrease': 0.0001}\n"
     ]
    }
   ],
   "source": [
    "\"\"\"\n",
    "첫 번째 값이 가장 커보임, 수동으로 고르는 것보다 넘파이 argmax()함수를 사용하면 가장 큰 값의 인덱스를 추출함\n",
    "그다음 이 인덱스를 사용해 params 키에 저장된 매개변수를 출력할 수 있다\n",
    "이 값이 최상의 검증 점수를 만든 매개변수 조합\n",
    "\n",
    "\"\"\"\n",
    "best_index = np.argmax(gs.cv_results_[\"mean_test_score\"])\n",
    "print(gs.cv_results_[\"params\"][best_index])"
   ]
  },
  {
   "cell_type": "code",
   "execution_count": 19,
   "id": "f8c9caa4",
   "metadata": {},
   "outputs": [],
   "source": [
    "\"\"\"\n",
    "결정 트리에서 min_impurtiy_decrease는 노드를 분할하기 위한 불순도 감소 최소량을 지정함\n",
    "여기에다가 max_depth로 트리의 깊이를 제한하고 min_samples_split으로 노드를 나누기 위한 최소 샘플 수도 골라 봄\n",
    "\"\"\"\n",
    "params = {\"min_impurity_decrease\": np.arange(0.0001, 0.001, 0.0001),\n",
    "         \"max_depth\": range(5, 20, 1),\n",
    "         \"min_samples_split\": range(2, 100, 10)}"
   ]
  },
  {
   "cell_type": "code",
   "execution_count": 20,
   "id": "d329f247",
   "metadata": {},
   "outputs": [
    {
     "data": {
      "text/plain": [
       "GridSearchCV(estimator=DecisionTreeClassifier(random_state=42), n_jobs=-1,\n",
       "             param_grid={'max_depth': range(5, 20),\n",
       "                         'min_impurity_decrease': array([0.0001, 0.0002, 0.0003, 0.0004, 0.0005, 0.0006, 0.0007, 0.0008,\n",
       "       0.0009]),\n",
       "                         'min_samples_split': range(2, 100, 10)})"
      ]
     },
     "execution_count": 20,
     "metadata": {},
     "output_type": "execute_result"
    }
   ],
   "source": [
    "\"\"\"\n",
    "매개변수로 수행할 교차 검증 횟수는 9 X 15 X 10 = 1350임 \n",
    "기본 5 - 폴드 교차 검증을 수행하므로 \n",
    "만들어지는 모델의 수는 6750개 \n",
    "n_jobs 매개변수를 -1로 설정\n",
    "\"\"\"\n",
    "gs = GridSearchCV(DecisionTreeClassifier(random_state=42), params, n_jobs=-1)\n",
    "gs.fit(train_input, train_target)"
   ]
  },
  {
   "cell_type": "code",
   "execution_count": 21,
   "id": "d0f70bd3",
   "metadata": {},
   "outputs": [
    {
     "name": "stdout",
     "output_type": "stream",
     "text": [
      "{'max_depth': 14, 'min_impurity_decrease': 0.0004, 'min_samples_split': 12}\n"
     ]
    }
   ],
   "source": [
    "\"\"\"\n",
    "최상의 매개변수 조합 확인\n",
    "\"\"\"\n",
    "print(gs.best_params_)"
   ]
  },
  {
   "cell_type": "code",
   "execution_count": 22,
   "id": "46025c9a",
   "metadata": {},
   "outputs": [
    {
     "name": "stdout",
     "output_type": "stream",
     "text": [
      "0.8683865773302731\n"
     ]
    }
   ],
   "source": [
    "\"\"\"\n",
    "최상의 교차 검증 점수 확인\n",
    "\"\"\"\n",
    "print(np.max(gs.cv_results_[\"mean_test_score\"]))"
   ]
  },
  {
   "cell_type": "code",
   "execution_count": 23,
   "id": "04d371ca",
   "metadata": {},
   "outputs": [],
   "source": [
    "\"\"\"\n",
    "랜덤 서치\n",
    "\n",
    "매개변수의 값이 수치일 때 값의 범위나 간격을 미리 정하기 어려움\n",
    "또 너무 많은 매개변수 조건이 있어 그리드 서치 수행 기간이 오래 걸릴 수 있다\n",
    "이럴 때 랜덤 서치를 사용\n",
    "\n",
    "랜덤 서치에는 매개변수 값의 목록을 전달하는 것이 아니라 매개변수를 샘플링할 수 있는 \n",
    "확률 분포 객체를 전달함 \n",
    "확률 분포\n",
    "\"\"\"\n",
    "from scipy.stats import uniform, randint"
   ]
  },
  {
   "cell_type": "code",
   "execution_count": 24,
   "id": "99dfe09e",
   "metadata": {},
   "outputs": [
    {
     "data": {
      "text/plain": [
       "array([8, 2, 0, 8, 9, 1, 9, 0, 5, 0])"
      ]
     },
     "execution_count": 24,
     "metadata": {},
     "output_type": "execute_result"
    }
   ],
   "source": [
    "\"\"\"\n",
    "싸이파이의 stats 서브 패키지에 있는 uniform 과 randint 클래스는 모두 주어진 범위에서 \n",
    "고르게 값을 뽑습니다 - 이를 \"균등 분포에서 샘플링 한다\"라고 말함\n",
    "randint는 정숫값을 뽑고, uniform은 실숫값을 뽑는다\n",
    "사용하는 방법\n",
    "\"\"\"\n",
    "rgen = randint(0, 10)\n",
    "rgen.rvs(10)"
   ]
  },
  {
   "cell_type": "code",
   "execution_count": 25,
   "id": "2b0e44fa",
   "metadata": {},
   "outputs": [
    {
     "data": {
      "text/plain": [
       "(array([0, 1, 2, 3, 4, 5, 6, 7, 8, 9]),\n",
       " array([117,  99,  93, 102, 107,  98, 102,  92,  89, 101], dtype=int64))"
      ]
     },
     "execution_count": 25,
     "metadata": {},
     "output_type": "execute_result"
    }
   ],
   "source": [
    "\"\"\"\n",
    "10개 밖에 되지 않기 때문에 고르게 샘플링 되는것 같지 않지만 샘플링 숫자를 늘리면 \n",
    "쉽게 확인 가능\n",
    "\"\"\"\n",
    "np.unique(rgen.rvs(1000), return_counts=True)"
   ]
  },
  {
   "cell_type": "code",
   "execution_count": 26,
   "id": "10d20be3",
   "metadata": {},
   "outputs": [
    {
     "data": {
      "text/plain": [
       "array([0.19095159, 0.43890066, 0.79980241, 0.60513978, 0.56419292,\n",
       "       0.62424485, 0.11681418, 0.67832842, 0.62617246, 0.45094173])"
      ]
     },
     "execution_count": 26,
     "metadata": {},
     "output_type": "execute_result"
    }
   ],
   "source": [
    "\"\"\"\n",
    "uniform 클래스의 사용법도 동일\n",
    "\"\"\"\n",
    "ugen = uniform(0, 1)\n",
    "ugen.rvs(10)"
   ]
  },
  {
   "cell_type": "code",
   "execution_count": 27,
   "id": "17ee8e17",
   "metadata": {},
   "outputs": [],
   "source": [
    "\"\"\"\n",
    "탐색할 매개변수의 딕셔너리를 만들어 봄\n",
    "여기에는 min_samples_leaf 매개변수를 탐색 대상에 추가함 - 이 매개변수는 리프 노드가 되기 위한 최소 샘플의 개수\n",
    "어떤 노드가 분할하여 만들어질 자식 노드의 샘플 수가 이 값보다 작을 경우 분할하지 않다\n",
    "탐색할 매개변수 범위\n",
    "\"\"\"\n",
    "params = {\"min_impurity_decrease\": uniform(0.0001, 0.001),\n",
    "         \"max_depth\": randint(20, 50),\n",
    "         \"min_samples_split\": randint(2, 25),\n",
    "         \"min_samples_leaf\":randint(1, 25),}"
   ]
  },
  {
   "cell_type": "code",
   "execution_count": 28,
   "id": "c25089ab",
   "metadata": {},
   "outputs": [
    {
     "data": {
      "text/plain": [
       "RandomizedSearchCV(estimator=DecisionTreeClassifier(random_state=42),\n",
       "                   n_iter=100, n_jobs=-1,\n",
       "                   param_distributions={'max_depth': <scipy.stats._distn_infrastructure.rv_frozen object at 0x000002649F5D4280>,\n",
       "                                        'min_impurity_decrease': <scipy.stats._distn_infrastructure.rv_frozen object at 0x00000264DFD89970>,\n",
       "                                        'min_samples_leaf': <scipy.stats._distn_infrastructure.rv_frozen object at 0x00000264BF8A7340>,\n",
       "                                        'min_samples_split': <scipy.stats._distn_infrastructure.rv_frozen object at 0x000002649F5C41F0>},\n",
       "                   random_state=42)"
      ]
     },
     "execution_count": 28,
     "metadata": {},
     "output_type": "execute_result"
    }
   ],
   "source": [
    "\"\"\"\n",
    "샘플링 횟수는 사이킷런의 랜덤 서치 클래스인 RandomizedSerchCV의 n_iter 매개변수에 지정\n",
    "\"\"\"\n",
    "from sklearn.model_selection import RandomizedSearchCV\n",
    "gs = RandomizedSearchCV(DecisionTreeClassifier(random_state=42), params,\n",
    "                       n_iter=100, n_jobs=-1, random_state=42)\n",
    "gs.fit(train_input, train_target)"
   ]
  },
  {
   "cell_type": "code",
   "execution_count": 29,
   "id": "1c2c91e6",
   "metadata": {},
   "outputs": [
    {
     "name": "stdout",
     "output_type": "stream",
     "text": [
      "{'max_depth': 39, 'min_impurity_decrease': 0.00034102546602601173, 'min_samples_leaf': 7, 'min_samples_split': 13}\n"
     ]
    }
   ],
   "source": [
    "\"\"\"\n",
    "params에 정의된 매개변수 범위에서 총 100번(n_iter 매개변수)을 샘플링하여 \n",
    "교차 검증을 수행하고 최적의 매개변수 조합을 찾습니다\n",
    "그리드 서치보다 훨씬 교차 검증 수를 줄이면서 넓은 영역을 효과적으로 탐색할 수 있다\n",
    "결과를 확인\n",
    "최적의 매개변수 조합을 출력\n",
    "\"\"\"\n",
    "print(gs.best_params_)"
   ]
  },
  {
   "cell_type": "code",
   "execution_count": 30,
   "id": "790297b4",
   "metadata": {},
   "outputs": [
    {
     "name": "stdout",
     "output_type": "stream",
     "text": [
      "0.8695428296438884\n"
     ]
    }
   ],
   "source": [
    "\"\"\"\n",
    "최고의 교차 검증 점수도 확인\n",
    "\"\"\"\n",
    "print(np.max(gs.cv_results_[\"mean_test_score\"]))"
   ]
  },
  {
   "cell_type": "code",
   "execution_count": 31,
   "id": "148482e2",
   "metadata": {},
   "outputs": [
    {
     "name": "stdout",
     "output_type": "stream",
     "text": [
      "0.86\n"
     ]
    }
   ],
   "source": [
    "\"\"\"\n",
    "최적의 모델은 이미 전체 훈련세트로 훈련되어 best_estimator_ 속성에 저장되어있다\n",
    "\n",
    "테스트 세트 점수는 검증 세트에 대한 점수보다 조금 작은 것이 일반적\n",
    "\"\"\"\n",
    "dt = gs.best_estimator_\n",
    "print(dt.score(test_input, test_target))"
   ]
  },
  {
   "cell_type": "code",
   "execution_count": 33,
   "id": "d3ff7683",
   "metadata": {},
   "outputs": [
    {
     "data": {
      "text/plain": [
       "RandomizedSearchCV(estimator=DecisionTreeClassifier(random_state=42,\n",
       "                                                    splitter='random'),\n",
       "                   n_iter=100, n_jobs=-1,\n",
       "                   param_distributions={'max_depth': <scipy.stats._distn_infrastructure.rv_frozen object at 0x000002649F5D4280>,\n",
       "                                        'min_impurity_decrease': <scipy.stats._distn_infrastructure.rv_frozen object at 0x00000264DFD89970>,\n",
       "                                        'min_samples_leaf': <scipy.stats._distn_infrastructure.rv_frozen object at 0x00000264BF8A7340>,\n",
       "                                        'min_samples_split': <scipy.stats._distn_infrastructure.rv_frozen object at 0x000002649F5C41F0>},\n",
       "                   random_state=42)"
      ]
     },
     "execution_count": 33,
     "metadata": {},
     "output_type": "execute_result"
    }
   ],
   "source": [
    "\"\"\"\n",
    "확인 문제 \n",
    "마지막 RandomizedSeacrhV 예제에서 DecisionTreeClassifier 클래스에 splitter = \"random\" 매개변수를 추가하고 다시 훈련\n",
    "splitter 매개변수의 기본값은 \"best\"로 각 노드에서 최선의 분할을 찾습니다\n",
    "\"random\"이면 무작위로 분할한 다음 가장 좋은것을 고름\n",
    "\"\"\"\n",
    "from sklearn.model_selection import RandomizedSearchCV\n",
    "gs = RandomizedSearchCV(DecisionTreeClassifier(random_state=42, splitter=\"random\"), params,\n",
    "                       n_iter=100, n_jobs=-1, random_state=42, )\n",
    "gs.fit(train_input, train_target)"
   ]
  },
  {
   "cell_type": "code",
   "execution_count": 34,
   "id": "b050351d",
   "metadata": {},
   "outputs": [
    {
     "name": "stdout",
     "output_type": "stream",
     "text": [
      "{'max_depth': 43, 'min_impurity_decrease': 0.00011407982271508446, 'min_samples_leaf': 19, 'min_samples_split': 18}\n"
     ]
    }
   ],
   "source": [
    "print(gs.best_params_)"
   ]
  },
  {
   "cell_type": "code",
   "execution_count": 35,
   "id": "97e027f6",
   "metadata": {},
   "outputs": [
    {
     "name": "stdout",
     "output_type": "stream",
     "text": [
      "0.8458726956392981\n"
     ]
    }
   ],
   "source": [
    "print(np.max(gs.cv_results_[\"mean_test_score\"]))"
   ]
  },
  {
   "cell_type": "code",
   "execution_count": 36,
   "id": "2737fd70",
   "metadata": {},
   "outputs": [
    {
     "name": "stdout",
     "output_type": "stream",
     "text": [
      "0.786923076923077\n"
     ]
    }
   ],
   "source": [
    "dt = gs.best_estimator_\n",
    "print(dt.score(test_input, test_target))"
   ]
  },
  {
   "cell_type": "code",
   "execution_count": null,
   "id": "5b803e1b",
   "metadata": {},
   "outputs": [],
   "source": []
  }
 ],
 "metadata": {
  "kernelspec": {
   "display_name": "Python 3 (ipykernel)",
   "language": "python",
   "name": "python3"
  },
  "language_info": {
   "codemirror_mode": {
    "name": "ipython",
    "version": 3
   },
   "file_extension": ".py",
   "mimetype": "text/x-python",
   "name": "python",
   "nbconvert_exporter": "python",
   "pygments_lexer": "ipython3",
   "version": "3.8.12"
  }
 },
 "nbformat": 4,
 "nbformat_minor": 5
}
