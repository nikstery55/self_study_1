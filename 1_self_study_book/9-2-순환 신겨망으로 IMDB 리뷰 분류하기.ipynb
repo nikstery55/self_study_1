{
 "cells": [
  {
   "cell_type": "code",
   "execution_count": 1,
   "id": "0c2e0763",
   "metadata": {},
   "outputs": [
    {
     "data": {
      "text/plain": [
       "'\\n- IMDB 리뷰 데이터셋\\n\\nload_data()함수의 num_words 매개변수를 500으로 지정\\n'"
      ]
     },
     "execution_count": 1,
     "metadata": {},
     "output_type": "execute_result"
    }
   ],
   "source": [
    "\"\"\"\n",
    "- IMDB 리뷰 데이터셋\n",
    "\n",
    "load_data()함수의 num_words 매개변수를 500으로 지정\n",
    "\"\"\""
   ]
  },
  {
   "cell_type": "code",
   "execution_count": 2,
   "id": "c0817285",
   "metadata": {},
   "outputs": [],
   "source": [
    "from tensorflow.keras.datasets import imdb\n",
    "(train_input, train_target), (test_input, test_target) = imdb.load_data(num_words=500)"
   ]
  },
  {
   "cell_type": "code",
   "execution_count": 3,
   "id": "1ce10110",
   "metadata": {},
   "outputs": [
    {
     "name": "stdout",
     "output_type": "stream",
     "text": [
      "(25000,) (25000,)\n"
     ]
    }
   ],
   "source": [
    "\"\"\"\n",
    "훈련 세트와 테스트 세트의 크기를 확인\n",
    "\"\"\"\n",
    "print(train_input.shape, test_input.shape)"
   ]
  },
  {
   "cell_type": "code",
   "execution_count": 4,
   "id": "40b7490a",
   "metadata": {},
   "outputs": [
    {
     "name": "stdout",
     "output_type": "stream",
     "text": [
      "218\n"
     ]
    }
   ],
   "source": [
    "\"\"\"\n",
    "훈련 세트의 배열은 1차원임 \n",
    "리뷰마다 별도의 파이썬 리스트로 담아야 메모리를 효율적으로 사용할 수 있다\n",
    "\n",
    "즉 앞의 그림처럼 이 데이터는 개별 리뷰를 담은 파이썬 리스트 객체로 이루어진 넘파이 배열\n",
    "\n",
    "첫 번째 리뷰의 길이를 출력\n",
    "\"\"\"\n",
    "print(len(train_input[0]))\n"
   ]
  },
  {
   "cell_type": "code",
   "execution_count": 5,
   "id": "0d9fb939",
   "metadata": {},
   "outputs": [
    {
     "name": "stdout",
     "output_type": "stream",
     "text": [
      "189\n"
     ]
    }
   ],
   "source": [
    "\"\"\"\n",
    "두 번째 리뷰의 길이를 확인\n",
    "\"\"\"\n",
    "print(len(train_input[1]))"
   ]
  },
  {
   "cell_type": "code",
   "execution_count": 6,
   "id": "729986e2",
   "metadata": {},
   "outputs": [
    {
     "name": "stdout",
     "output_type": "stream",
     "text": [
      "[1, 14, 22, 16, 43, 2, 2, 2, 2, 65, 458, 2, 66, 2, 4, 173, 36, 256, 5, 25, 100, 43, 2, 112, 50, 2, 2, 9, 35, 480, 284, 5, 150, 4, 172, 112, 167, 2, 336, 385, 39, 4, 172, 2, 2, 17, 2, 38, 13, 447, 4, 192, 50, 16, 6, 147, 2, 19, 14, 22, 4, 2, 2, 469, 4, 22, 71, 87, 12, 16, 43, 2, 38, 76, 15, 13, 2, 4, 22, 17, 2, 17, 12, 16, 2, 18, 2, 5, 62, 386, 12, 8, 316, 8, 106, 5, 4, 2, 2, 16, 480, 66, 2, 33, 4, 130, 12, 16, 38, 2, 5, 25, 124, 51, 36, 135, 48, 25, 2, 33, 6, 22, 12, 215, 28, 77, 52, 5, 14, 407, 16, 82, 2, 8, 4, 107, 117, 2, 15, 256, 4, 2, 7, 2, 5, 2, 36, 71, 43, 2, 476, 26, 400, 317, 46, 7, 4, 2, 2, 13, 104, 88, 4, 381, 15, 297, 98, 32, 2, 56, 26, 141, 6, 194, 2, 18, 4, 226, 22, 21, 134, 476, 26, 480, 5, 144, 30, 2, 18, 51, 36, 28, 224, 92, 25, 104, 4, 226, 65, 16, 38, 2, 88, 12, 16, 283, 5, 16, 2, 113, 103, 32, 15, 16, 2, 19, 178, 32]\n"
     ]
    }
   ],
   "source": [
    "\"\"\"\n",
    "리뷰마다 각각 길이가 다름\n",
    "여기서 하나의 리뷰가 하나의 샘플이 됨\n",
    "첫 번째 리뷰에 담김 내용을 출력\n",
    "\n",
    "텐서플로에 있는 IMDB 리뷰데이터는 이미 정수로 변환되어 있다\n",
    "앞서 num_words=500으로 지정했기 때문에 어휘 사전에는 500개의 단어만 들어가 있다\n",
    "따라서 어휘 사전에 없는 단어는 모두 2로 표시되어 나타남\n",
    "\"\"\"\n",
    "print(train_input[0])"
   ]
  },
  {
   "cell_type": "code",
   "execution_count": 7,
   "id": "407cbacd",
   "metadata": {},
   "outputs": [
    {
     "name": "stdout",
     "output_type": "stream",
     "text": [
      "[1 0 0 1 0 0 1 0 1 0 1 0 0 0 0 0 1 1 0 1]\n"
     ]
    }
   ],
   "source": [
    "\"\"\"\n",
    "타깃 데이터를 출력\n",
    "\n",
    "해결할 문제는 리뷰가 긍정인지 부정인지 판단하는것\n",
    "그러면 이진 분류 문제로 볼 수 있으므로 타깃값이 0(부정)과 1(긍정)으로 나누어짐\n",
    "\"\"\"\n",
    "print(train_target[:20])"
   ]
  },
  {
   "cell_type": "code",
   "execution_count": 8,
   "id": "876b02f7",
   "metadata": {},
   "outputs": [],
   "source": [
    "\"\"\"\n",
    "훈련세트에서 검증 세트를 떼어 놓도록 함\n",
    "원래 훈련 세트의 크기가 25000개였으므로 20%를 검증 세트로 떼어 놓음\n",
    "훈련 세트의 크기는 2000개로 줄어들것\n",
    "\"\"\"\n",
    "from sklearn.model_selection import train_test_split\n",
    "train_input, val_input, train_target, val_target = train_test_split(\n",
    "train_input, train_target, test_size=0.2, random_state=42)\n"
   ]
  },
  {
   "cell_type": "code",
   "execution_count": 9,
   "id": "1d4b17bb",
   "metadata": {},
   "outputs": [],
   "source": [
    "\"\"\"\n",
    "훈련 세트에 대해 몇가지 조사\n",
    "각 리뷰의 길이를 계산해 넘파이 배열에 담아봄 - 이유 리뷰 길이 맞추기 -패딩\n",
    "이렇게 하는 이유는 평균적인 리뷰의 길이와 가장 짧은 리뷰의 길이 그리고 가장 긴 리뷰의 길이를 확인하기\n",
    "넘파이 리스트 내포를 사용해 train_input 의 원소를 순회하면서 길이를 측정\n",
    "\"\"\"\n",
    "import numpy as np\n",
    "lengths = np.array([len(x) for x in train_input])"
   ]
  },
  {
   "cell_type": "code",
   "execution_count": 10,
   "id": "26213b1f",
   "metadata": {},
   "outputs": [
    {
     "name": "stdout",
     "output_type": "stream",
     "text": [
      "239.00925 178.0\n"
     ]
    }
   ],
   "source": [
    "\"\"\"\n",
    "lengths 배열이 준비되었으므로 넘파이 mean()함수와 median()함수를 사용해\n",
    "리뷰 길이의 평균과 중간값을 구함\n",
    "\"\"\"\n",
    "print(np.mean(lengths), np.median(lengths))"
   ]
  },
  {
   "cell_type": "code",
   "execution_count": 11,
   "id": "06306bc5",
   "metadata": {},
   "outputs": [
    {
     "data": {
      "image/png": "[encoded data removed]",
      "text/plain": [
       "<Figure size 432x288 with 1 Axes>"
      ]
     },
     "metadata": {
      "needs_background": "light"
     },
     "output_type": "display_data"
    }
   ],
   "source": [
    "\"\"\"\n",
    "리뷰의 평균 단어 개수는 239개 \n",
    "중간값이 178임 \n",
    "리뷰 길이 데이터는 한쪽에 치우친 분포로 보임\n",
    "lengths 배열을 히스토그램으로 표현\n",
    "\"\"\"\n",
    "import matplotlib.pyplot as plt\n",
    "plt.hist(lengths)\n",
    "plt.xlabel(\"length\")\n",
    "plt.ylabel(\"frequency\")\n",
    "plt.show()"
   ]
  },
  {
   "cell_type": "code",
   "execution_count": 12,
   "id": "6625a3cf",
   "metadata": {},
   "outputs": [],
   "source": [
    "\"\"\"\n",
    "한쪽으로 치우친 모습 \n",
    "대부분의 리뷰 길이는 300 미만\n",
    "평균이 중간값보다 높은 이유는 오른쪽 끝에 아주 큰 데이터가 있기 때문\n",
    "\n",
    "리뷰는 대부분 짧아서 이 예제에서는 중간값보다 훨씬 짧은 100개의 단어만 사용함\n",
    "하지만 여전히 100개의 단어보다 작은 리뷰가 있다\n",
    "이런 리뷰들의 길이를 100에 맞추기 위해 패딩이 필요함\n",
    "보통 패딩을 나타내는 토큰으로는 0을 사용함\n",
    "\n",
    "물론 수동으로 훈련 세트에 있는 20000개의 리뷰를 순회하면서 길이가 100이 되도록 잘라내거나 \n",
    "0으로 패딩 할 수 있다\n",
    "케라스는 시퀀스 데이터의 길이를 맞추는 pad_sequences()함수를 제공함\n",
    "이 함수를 사용해 train_input의 길이를 100으로 맞춤\n",
    "\"\"\"\n",
    "from tensorflow.keras.preprocessing.sequence import pad_sequences\n",
    "train_seq = pad_sequences(train_input, maxlen=100)"
   ]
  },
  {
   "cell_type": "code",
   "execution_count": 13,
   "id": "97a2441d",
   "metadata": {},
   "outputs": [
    {
     "name": "stdout",
     "output_type": "stream",
     "text": [
      "(20000, 100)\n"
     ]
    }
   ],
   "source": [
    "\"\"\"\n",
    "사용법은 간단함\n",
    "maxlen에 원하는 길이를 지정하면 이보다 긴 경우는 잘라내고\n",
    "짧은 경우는 0으로 패딩\n",
    "패딩 된 결과가 어떻게 나타나는지 확인\n",
    "train_seq의 크기를 확인\n",
    "\n",
    "길이를 100으로 맞춘 train_seq는 이제(20000, 100)크기의 2차원 배열이 됨\n",
    "\"\"\"\n",
    "print(train_seq.shape)"
   ]
  },
  {
   "cell_type": "code",
   "execution_count": 14,
   "id": "1e89a7a8",
   "metadata": {},
   "outputs": [
    {
     "name": "stdout",
     "output_type": "stream",
     "text": [
      "[ 10   4  20   9   2 364 352   5  45   6   2   2  33 269   8   2 142   2\n",
      "   5   2  17  73  17 204   5   2  19  55   2   2  92  66 104  14  20  93\n",
      "  76   2 151  33   4  58  12 188   2 151  12 215  69 224 142  73 237   6\n",
      "   2   7   2   2 188   2 103  14  31  10  10 451   7   2   5   2  80  91\n",
      "   2  30   2  34  14  20 151  50  26 131  49   2  84  46  50  37  80  79\n",
      "   6   2  46   7  14  20  10  10 470 158]\n"
     ]
    }
   ],
   "source": [
    "\"\"\"\n",
    "train_seq에 있는 첫 번쨰 샘플을 출력\n",
    "\"\"\"\n",
    "print(train_seq[0])"
   ]
  },
  {
   "cell_type": "code",
   "execution_count": 15,
   "id": "9875c4fd",
   "metadata": {},
   "outputs": [
    {
     "name": "stdout",
     "output_type": "stream",
     "text": [
      "[6, 2, 46, 7, 14, 20, 10, 10, 470, 158]\n"
     ]
    }
   ],
   "source": [
    "\"\"\"\n",
    "train_seq[0] 샘플은 앞뒤에 패딩값 0 이 없는 것으로 보아 100보다는 길었을 것 같다\n",
    "그럼 원래 샘플의 앞부분이 잘렸을까 뒷부분이 잘렸을까\n",
    "train_input에 있는 원본 샘플의 끝을 확인해 봄\n",
    "\n",
    "샘플의 앞부분이 잘렸다는 것을 짐작할수 있다\n",
    "\"\"\"\n",
    "print(train_input[0][-10:])"
   ]
  },
  {
   "cell_type": "code",
   "execution_count": 16,
   "id": "02cee4e6",
   "metadata": {},
   "outputs": [
    {
     "name": "stdout",
     "output_type": "stream",
     "text": [
      "[  0   0   0   0   1   2 195  19  49   2   2 190   4   2 352   2 183  10\n",
      "  10  13  82  79   4   2  36  71 269   8   2  25  19  49   7   4   2   2\n",
      "   2   2   2  10  10  48  25  40   2  11   2   2  40   2   2   5   4   2\n",
      "   2  95  14 238  56 129   2  10  10  21   2  94 364 352   2   2  11 190\n",
      "  24 484   2   7  94 205 405  10  10  87   2  34  49   2   7   2   2   2\n",
      "   2   2 290   2  46  48  64  18   4   2]\n"
     ]
    }
   ],
   "source": [
    "\"\"\"\n",
    "pad_sequences()함수는 기본으로 maxlen 보다 긴 시퀀스의 앞부분을 자름\n",
    "이렇게 하는 이유는 일반적으로 시퀀스의 뒷부분의 정보가 더 유용하리라 기대하기 때문\n",
    "영화 리뷰 데이터를 생각해 보면 리뷰 끝에 뭔가 결정적인 소감을 말할 가능서이 높다고 봄\n",
    "만약 시퀀스의 뒷 부분을 잘라내고 싶다면 pad_sequences()함수의 truncating 매개변수의 값을 기본값\"pre\"가 아닌 \"post\"로 바꾸면 됨\n",
    "\n",
    "train_seq에 있는 여섯 번째 샘플을 출력\n",
    "\"\"\"\n",
    "print(train_seq[5])"
   ]
  },
  {
   "cell_type": "code",
   "execution_count": 17,
   "id": "1367739a",
   "metadata": {},
   "outputs": [],
   "source": [
    "\"\"\"\n",
    "앞부분에 0이 있는 것으로 보아 샘플의 길이는 100이 안된듯\n",
    "\n",
    "검증 세트의 길이도 100으로 맞춰봄\n",
    "이렇게 훈련 세트와 검증 세트 준비 완료\n",
    "\"\"\"\n",
    "val_seq = pad_sequences(val_input, maxlen=100)"
   ]
  },
  {
   "cell_type": "code",
   "execution_count": 18,
   "id": "d7155f6b",
   "metadata": {},
   "outputs": [],
   "source": [
    "\"\"\"\n",
    "- 순환 신경망 만들기\n",
    "\n",
    "케라스는 여러 종류의 순환층 클래스를 제공\n",
    "그중에 가장 간단한 것은 SimpleRNN 클래스임\n",
    "IMDB 리뷰 분류 문제는 이진 분류이므로 마지막 출력층으 1개의 뉴런을 가지고 시그모이드 활성화 함수를 \n",
    "사용해야함\n",
    "먼저 케라스의 Sequential 클래스로 만든 신경망 코드를 보자\n",
    "\n",
    "SimpleRNN클래스를 사용\n",
    "첫 번째 매개변수는 사용할 뉴런의 개수로 input_shape에 입력 차원을(100, 500)으로 지정\n",
    "첫 번째 차원이 100인 것은 앞에서 샘플의 길이를 100으로 지정했기 때문\n",
    "\n",
    "순환층도 당연히 활성화 함수를 사용. simpleRNNㅡㄹ래스의 activation 매개변수의 기본값은 \"tanh\" 하이퍼볼릭 탄젠트 함수를 사용\n",
    "여기서는 기본값을 그대로 사용\n",
    "\n",
    "imdb.load_data()함수에서 500개의 단어만 사용하도록 지정했기 때문에 고유한 단어는 모두 500개임\n",
    "즉 훈련 데이터에 포함될 수 있는 정숫값의 범위는 0(패딩토큰)에서 499까지임\n",
    "따라서 이 범위를 원-핫 인코딩으로 표현하려면 배열의 길이가 500이어야 함\n",
    "\n",
    "\"\"\"\n",
    "from tensorflow import keras\n",
    "model = keras.Sequential()\n",
    "model.add(keras.layers.SimpleRNN(8, input_shape=(100, 500)))\n",
    "model.add(keras.layers.Dense(1, activation=\"sigmoid\"))"
   ]
  },
  {
   "cell_type": "code",
   "execution_count": 19,
   "id": "b5cc8623",
   "metadata": {},
   "outputs": [],
   "source": [
    "\"\"\"\n",
    "케라스에는 원-핫 인코딩을 위한 유틸리티를 제공함\n",
    "keras.utils 패키지 아래에 있는 \n",
    "to_categorical()함수 \n",
    "정수 배열을 입력하면 자동으로 원-핫 인코딩된 배열을 반환해 줌\n",
    "\"\"\"\n",
    "train_oh = keras.utils.to_categorical(train_seq)"
   ]
  },
  {
   "cell_type": "code",
   "execution_count": 20,
   "id": "e0fec422",
   "metadata": {},
   "outputs": [
    {
     "name": "stdout",
     "output_type": "stream",
     "text": [
      "(20000, 100, 500)\n"
     ]
    }
   ],
   "source": [
    "\"\"\"\n",
    "먼저 train_seq를 원-핫 인코딩으로 변환하여 \n",
    "train_oh 배열을 만들었다\n",
    "이 배열의 크기를 출력\n",
    "\"\"\"\n",
    "print(train_oh.shape)"
   ]
  },
  {
   "cell_type": "code",
   "execution_count": 21,
   "id": "f3170513",
   "metadata": {},
   "outputs": [
    {
     "name": "stdout",
     "output_type": "stream",
     "text": [
      "[0. 0. 0. 0. 0. 0. 0. 0. 0. 0. 1. 0.]\n"
     ]
    }
   ],
   "source": [
    "\"\"\"\n",
    "정수 하나마다 모두 500차원의 배열로 변경 되었기 때문에\n",
    "(20000, 100)크기의 train_seq가 (20000, 100, 500) 크기의 train_oh로 바뀜\n",
    "이렇게 샘플 데이터의 크기가 1차원 정수 배열(100,)에서 2차원 배열(100, 500)로 바꿔야 하므로\n",
    "SimpleRNN클래스의 input_shape 매개변수의 값을(100, 500)으로 지정함\n",
    "\n",
    "train_oh의 첫 번째 샘플의 첫 번째 토큰10이 잘 인코딩 되었는지 출력\n",
    "\"\"\"\n",
    "print(train_oh[0][0][:12])"
   ]
  },
  {
   "cell_type": "code",
   "execution_count": 22,
   "id": "ffb90cd9",
   "metadata": {},
   "outputs": [
    {
     "name": "stdout",
     "output_type": "stream",
     "text": [
      "1.0\n"
     ]
    }
   ],
   "source": [
    "\"\"\"\n",
    "처음 12개 원소를 출력해 보면 열한 번째 원소가 1인 것을 확인할 수 있다\n",
    "나머지 원소는 모두 0인 상태\n",
    "sum()함수로 모든 원소의 값을 더해서 확인 가능\n",
    "\"\"\"\n",
    "print(np.sum(train_oh[0][0]))"
   ]
  },
  {
   "cell_type": "code",
   "execution_count": 23,
   "id": "c60c78a1",
   "metadata": {},
   "outputs": [],
   "source": [
    "\"\"\"\n",
    "토큰 10이 잘 인코딩된 것 같다 \n",
    "열한 번쨰 원소만 1이고 나머지는 모두 0이어서 원-핫인코딩 배열의 값을 모두 더한 결과가 1이 됨\n",
    "같은 방식으로 val_seq도 원-핫 인코딩으로 바꿔봄\n",
    "\"\"\"\n",
    "val_oh = keras.utils.to_categorical(val_seq)"
   ]
  },
  {
   "cell_type": "code",
   "execution_count": 24,
   "id": "892d4332",
   "metadata": {},
   "outputs": [
    {
     "name": "stdout",
     "output_type": "stream",
     "text": [
      "Model: \"sequential\"\n",
      "_________________________________________________________________\n",
      " Layer (type)                Output Shape              Param #   \n",
      "=================================================================\n",
      " simple_rnn (SimpleRNN)      (None, 8)                 4072      \n",
      "                                                                 \n",
      " dense (Dense)               (None, 1)                 9         \n",
      "                                                                 \n",
      "=================================================================\n",
      "Total params: 4,081\n",
      "Trainable params: 4,081\n",
      "Non-trainable params: 0\n",
      "_________________________________________________________________\n"
     ]
    }
   ],
   "source": [
    "\"\"\"\n",
    "훈련 세트와 검증 세트가 모두 준비됨\n",
    "앞서 만든 모델의 구조를 출력\n",
    "\n",
    "simpleRNN에 전달한 샘플의 크기는 (100, 500)이지만 \n",
    "이 순환층은 마지막 타임스탭의 은닉 상태만 출력\n",
    "이 때문에 출력 크기가 순환층의 뉴런 개수와 동일한 8임을 확인\n",
    "\n",
    "순환층에 사용된 모델 파라미터의 개수 확인\n",
    "입력 토큰은 500차원의 원-핫 인코딩 배열\n",
    "이 배열이 순환층의 뉴런8개와 완전히 연결되기 때문에 총 500 X 8 = 4000개의 가중치가 있다\n",
    "순환층의 은닉 상태는 다시 다음 타임스텝에 사용되기 위해 또 다른 가중치와 곱해짐\n",
    "이 은닉 상태도 순환층의 뉴런과 완전히 연결되기 때문에 8(은닉 상태 크기)  X 8(뉴런 개수) = 64개의 가중치가 필요\n",
    "마지막으로 뉴런 마다 하나의 절편이 있다\n",
    "따라서 모두 4000 + 64 + 8 = 4072개의 모델 파라미터가 필요\n",
    "\n",
    "케라스 API를 사용해 순환 신경망 모델을 손쉽게 만듬\n",
    "순환 신경망 모델을 훈련\n",
    "\"\"\"\n",
    "model.summary()"
   ]
  },
  {
   "cell_type": "code",
   "execution_count": 25,
   "id": "c784c412",
   "metadata": {},
   "outputs": [
    {
     "name": "stdout",
     "output_type": "stream",
     "text": [
      "Epoch 1/100\n",
      "313/313 [==============================] - 36s 113ms/step - loss: 0.6973 - accuracy: 0.5186 - val_loss: 0.6851 - val_accuracy: 0.5532\n",
      "Epoch 2/100\n",
      "313/313 [==============================] - 35s 111ms/step - loss: 0.6741 - accuracy: 0.5834 - val_loss: 0.6638 - val_accuracy: 0.6066\n",
      "Epoch 3/100\n",
      "313/313 [==============================] - 34s 110ms/step - loss: 0.6532 - accuracy: 0.6301 - val_loss: 0.6468 - val_accuracy: 0.6402\n",
      "Epoch 4/100\n",
      "313/313 [==============================] - 34s 110ms/step - loss: 0.6341 - accuracy: 0.6617 - val_loss: 0.6286 - val_accuracy: 0.6684\n",
      "Epoch 5/100\n",
      "313/313 [==============================] - 34s 109ms/step - loss: 0.6138 - accuracy: 0.6902 - val_loss: 0.6082 - val_accuracy: 0.6940\n",
      "Epoch 6/100\n",
      "313/313 [==============================] - 33s 105ms/step - loss: 0.5931 - accuracy: 0.7149 - val_loss: 0.5936 - val_accuracy: 0.7074\n",
      "Epoch 7/100\n",
      "313/313 [==============================] - 34s 110ms/step - loss: 0.5764 - accuracy: 0.7302 - val_loss: 0.5757 - val_accuracy: 0.7250\n",
      "Epoch 8/100\n",
      "313/313 [==============================] - 34s 108ms/step - loss: 0.5605 - accuracy: 0.7440 - val_loss: 0.5608 - val_accuracy: 0.7370\n",
      "Epoch 9/100\n",
      "313/313 [==============================] - 33s 106ms/step - loss: 0.5459 - accuracy: 0.7570 - val_loss: 0.5467 - val_accuracy: 0.7478\n",
      "Epoch 10/100\n",
      "313/313 [==============================] - 34s 109ms/step - loss: 0.5322 - accuracy: 0.7645 - val_loss: 0.5343 - val_accuracy: 0.7602\n",
      "Epoch 11/100\n",
      "313/313 [==============================] - 34s 110ms/step - loss: 0.5202 - accuracy: 0.7727 - val_loss: 0.5253 - val_accuracy: 0.7612\n",
      "Epoch 12/100\n",
      "313/313 [==============================] - 35s 111ms/step - loss: 0.5091 - accuracy: 0.7772 - val_loss: 0.5153 - val_accuracy: 0.7640\n",
      "Epoch 13/100\n",
      "313/313 [==============================] - 33s 106ms/step - loss: 0.4999 - accuracy: 0.7814 - val_loss: 0.5089 - val_accuracy: 0.7670\n",
      "Epoch 14/100\n",
      "313/313 [==============================] - 33s 105ms/step - loss: 0.4911 - accuracy: 0.7860 - val_loss: 0.5009 - val_accuracy: 0.7706\n",
      "Epoch 15/100\n",
      "313/313 [==============================] - 33s 107ms/step - loss: 0.4832 - accuracy: 0.7894 - val_loss: 0.4957 - val_accuracy: 0.7738\n",
      "Epoch 16/100\n",
      "313/313 [==============================] - 34s 109ms/step - loss: 0.4766 - accuracy: 0.7925 - val_loss: 0.4885 - val_accuracy: 0.7796\n",
      "Epoch 17/100\n",
      "313/313 [==============================] - 32s 102ms/step - loss: 0.4704 - accuracy: 0.7952 - val_loss: 0.4828 - val_accuracy: 0.7822\n",
      "Epoch 18/100\n",
      "313/313 [==============================] - 33s 106ms/step - loss: 0.4648 - accuracy: 0.7965 - val_loss: 0.4777 - val_accuracy: 0.7860\n",
      "Epoch 19/100\n",
      "313/313 [==============================] - 34s 109ms/step - loss: 0.4600 - accuracy: 0.8003 - val_loss: 0.4750 - val_accuracy: 0.7850\n",
      "Epoch 20/100\n",
      "313/313 [==============================] - 35s 111ms/step - loss: 0.4553 - accuracy: 0.8009 - val_loss: 0.4763 - val_accuracy: 0.7802\n",
      "Epoch 21/100\n",
      "313/313 [==============================] - 34s 109ms/step - loss: 0.4512 - accuracy: 0.8031 - val_loss: 0.4686 - val_accuracy: 0.7870\n",
      "Epoch 22/100\n",
      "313/313 [==============================] - 33s 106ms/step - loss: 0.4475 - accuracy: 0.8041 - val_loss: 0.4659 - val_accuracy: 0.7874\n",
      "Epoch 23/100\n",
      "313/313 [==============================] - 31s 100ms/step - loss: 0.4438 - accuracy: 0.8067 - val_loss: 0.4636 - val_accuracy: 0.7890\n",
      "Epoch 24/100\n",
      "313/313 [==============================] - 31s 100ms/step - loss: 0.4406 - accuracy: 0.8094 - val_loss: 0.4601 - val_accuracy: 0.7898\n",
      "Epoch 25/100\n",
      "313/313 [==============================] - 31s 101ms/step - loss: 0.4379 - accuracy: 0.8087 - val_loss: 0.4599 - val_accuracy: 0.7874\n",
      "Epoch 26/100\n",
      "313/313 [==============================] - 31s 100ms/step - loss: 0.4355 - accuracy: 0.8114 - val_loss: 0.4577 - val_accuracy: 0.7904\n",
      "Epoch 27/100\n",
      "313/313 [==============================] - 32s 101ms/step - loss: 0.4329 - accuracy: 0.8120 - val_loss: 0.4559 - val_accuracy: 0.7896\n",
      "Epoch 28/100\n",
      "313/313 [==============================] - 31s 100ms/step - loss: 0.4308 - accuracy: 0.8133 - val_loss: 0.4548 - val_accuracy: 0.7916\n",
      "Epoch 29/100\n",
      "313/313 [==============================] - 31s 99ms/step - loss: 0.4287 - accuracy: 0.8150 - val_loss: 0.4538 - val_accuracy: 0.7908\n",
      "Epoch 30/100\n",
      "313/313 [==============================] - 32s 102ms/step - loss: 0.4269 - accuracy: 0.8156 - val_loss: 0.4550 - val_accuracy: 0.7904\n",
      "Epoch 31/100\n",
      "313/313 [==============================] - 32s 103ms/step - loss: 0.4248 - accuracy: 0.8156 - val_loss: 0.4556 - val_accuracy: 0.7902\n",
      "Epoch 32/100\n",
      "313/313 [==============================] - 32s 102ms/step - loss: 0.4229 - accuracy: 0.8169 - val_loss: 0.4547 - val_accuracy: 0.7888\n"
     ]
    }
   ],
   "source": [
    "\"\"\"\n",
    "- 순환 신경망 훈련하기\n",
    "\n",
    "이 예에서는 기본 RMSprop의 학습률 0.001을 사용하지 않기 위해 별도의 RMSprop 객체를 만들어\n",
    "학습률을 0.0001로 지정 \n",
    "그다음 에포크 횟수를 100으로 늘리고 배치 크기를 64개로 설정\n",
    "그 밖에 체크포인트와 조기 종료를 구성하는 코드는 거의 동일\n",
    "\"\"\"\n",
    "rmsprop = keras.optimizers.RMSprop(learning_rate = 1e-4)\n",
    "model.compile(optimizer = rmsprop, loss = \"binary_crossentropy\", metrics=[\"accuracy\"])\n",
    "checkpoint_cb = keras.callbacks.ModelCheckpoint(\"best-simplernn-model.h5\", save_best_only = True)\n",
    "early_stopping_cb = keras.callbacks.EarlyStopping(patience = 3, restore_best_weights = True)\n",
    "history = model.fit(train_oh, train_target, epochs =100, batch_size=64, validation_data=(val_oh, val_target),\n",
    "                   callbacks =[checkpoint_cb, early_stopping_cb])"
   ]
  },
  {
   "cell_type": "code",
   "execution_count": 26,
   "id": "65475700",
   "metadata": {},
   "outputs": [
    {
     "data": {
      "image/png": "[encoded data removed]",
      "text/plain": [
       "<Figure size 432x288 with 1 Axes>"
      ]
     },
     "metadata": {
      "needs_background": "light"
     },
     "output_type": "display_data"
    }
   ],
   "source": [
    "\"\"\"\n",
    "훈련 손실과 검증 손실을 그래프로 그려서 훈련 과정을 살펴봄\n",
    "\n",
    "훈련 손실은 꾸준히 감소하고 있지만 검증 손실은 대략 스무 번째 에포크에서 감소가 둔해지고있다\n",
    "적절한 에포크에서 훈련을 멈춤\n",
    "\n",
    "\"\"\"\n",
    "plt.plot(history.history[\"loss\"])\n",
    "plt.plot(history.history[\"val_loss\"])\n",
    "plt.xlabel(\"epoch\")\n",
    "plt.ylabel(\"loss\")\n",
    "plt.legend([\"train\",\"val\"])\n",
    "plt.show()"
   ]
  },
  {
   "cell_type": "code",
   "execution_count": 27,
   "id": "37fc1c4d",
   "metadata": {},
   "outputs": [
    {
     "name": "stdout",
     "output_type": "stream",
     "text": [
      "8000000 4000000000\n"
     ]
    }
   ],
   "source": [
    "\"\"\"\n",
    "한가지 생가갈 점이 있다\n",
    "이 작업을 하기 위해서 입력 데이터를 원-핫 인코딩으로 변환했다\n",
    "원-핫 인코딩의 단점은 입력 데이터가 엄청 커진다는 점\n",
    "실제로 tain_seq 배열과 train_oh 배열의 nbytes 속성을 출력하여 크기를 확인\n",
    "\n",
    "토큰 1개로 500차원으로 늘렸기 때문에 대략 500배가 커짐\n",
    "좋은 방법은 아닌것 같다 - 단어 임베딩 사용하기\n",
    "\"\"\"\n",
    "print(train_seq.nbytes, train_oh.nbytes)"
   ]
  },
  {
   "cell_type": "code",
   "execution_count": 28,
   "id": "3692eaf1",
   "metadata": {},
   "outputs": [],
   "source": [
    "\"\"\"\n",
    "- 단어 임베딩을 사용하기\n",
    "\n",
    "순환 신경망에서 텍스트를 처리할 때 즐겨 사용하는 방법은 단어 임베딩 임\n",
    "단어 임베딩은 각 단어를 고정된 크기의 실수 벡터로 바꿔줌\n",
    "\n",
    "단어 임베딩의 장점은 입력으로 정수 데이터를 받는다는 것\n",
    "즉 원-핫 인코딩으로 변경된 train_oh 배열이 아니라 train_seq를 사용할 수 있다\n",
    "이 때문에 메모리를 훨씬 효율적으로 사용\n",
    "\n",
    "임베딩도(100,) 크기의 샘플을 (100, 20)과 같이 2차원 배열로 늘림\n",
    "하지만 원-핫 인코딩과는 달리 훨씬 작은 크기로도 단어를 잘 표현할 수 있다\n",
    "\n",
    "Embedding 클래스를 SimpleRNN 층 앞에서 추가한 두 번째 순환 신경망을 만들어 봄\n",
    "\n",
    "Embedding 클래스의 첫 번째 매개변수(500)는 어휘 사전의 크기\n",
    "\n",
    "두 번째 매개변수(16)는 임베딩 벡터의 크기\n",
    "\n",
    "세 번째 input_length 매개변수는 입력 시퀀스의 길이 - 샘플의 길이를 100으로 맞춤\n",
    "\"\"\"\n",
    "model2 = keras.Sequential()\n",
    "model2.add(keras.layers.Embedding(500, 16, input_length=100))\n",
    "model2.add(keras.layers.SimpleRNN(8))\n",
    "model2.add(keras.layers.Dense(1, activation=\"sigmoid\"))"
   ]
  },
  {
   "cell_type": "code",
   "execution_count": 29,
   "id": "7765c8e4",
   "metadata": {},
   "outputs": [
    {
     "name": "stdout",
     "output_type": "stream",
     "text": [
      "Model: \"sequential_1\"\n",
      "_________________________________________________________________\n",
      " Layer (type)                Output Shape              Param #   \n",
      "=================================================================\n",
      " embedding (Embedding)       (None, 100, 16)           8000      \n",
      "                                                                 \n",
      " simple_rnn_1 (SimpleRNN)    (None, 8)                 200       \n",
      "                                                                 \n",
      " dense_1 (Dense)             (None, 1)                 9         \n",
      "                                                                 \n",
      "=================================================================\n",
      "Total params: 8,209\n",
      "Trainable params: 8,209\n",
      "Non-trainable params: 0\n",
      "_________________________________________________________________\n"
     ]
    }
   ],
   "source": [
    "\"\"\"\n",
    "모델의 구조 출력\n",
    "\n",
    "Embedding 클래스는 500개의 각 토큰을 크기가 16인 벡터로 변경하기 때문에 \n",
    "총 500 X 16 = 8000개의 모델 파라미터를 가짐\n",
    "\n",
    "그 다음 Simple RNN층은 임베딩 벡터의 크기가 16이므로 8개의 뉴런과 곱하기 위해\n",
    "필요한 가중치 16 X 8 = 128개를 가짐\n",
    "또한 은닉 상태에 곱해지는 가중치 8 X 8 = 64개 있다\n",
    "마지막 8개의 절편이 있으므로 \n",
    "전체 모델 파라미터의 개수는 128 + 64 + 8 =200\n",
    "\n",
    "마지막 Dense층의 가중치 개수는 이전과 동일하게 9 개 \n",
    "\"\"\"\n",
    "model2.summary()"
   ]
  },
  {
   "cell_type": "code",
   "execution_count": 30,
   "id": "3e1d6794",
   "metadata": {},
   "outputs": [
    {
     "name": "stdout",
     "output_type": "stream",
     "text": [
      "Epoch 1/100\n",
      "313/313 [==============================] - 40s 127ms/step - loss: 0.6871 - accuracy: 0.5459 - val_loss: 0.6642 - val_accuracy: 0.6188\n",
      "Epoch 2/100\n",
      "313/313 [==============================] - 40s 128ms/step - loss: 0.6455 - accuracy: 0.6690 - val_loss: 0.6347 - val_accuracy: 0.6912\n",
      "Epoch 3/100\n",
      "313/313 [==============================] - 41s 131ms/step - loss: 0.6196 - accuracy: 0.7090 - val_loss: 0.6153 - val_accuracy: 0.7124\n",
      "Epoch 4/100\n",
      "313/313 [==============================] - 40s 127ms/step - loss: 0.5988 - accuracy: 0.7314 - val_loss: 0.6027 - val_accuracy: 0.7112\n",
      "Epoch 5/100\n",
      "313/313 [==============================] - 41s 132ms/step - loss: 0.5811 - accuracy: 0.7427 - val_loss: 0.5873 - val_accuracy: 0.7292\n",
      "Epoch 6/100\n",
      "313/313 [==============================] - 40s 127ms/step - loss: 0.5638 - accuracy: 0.7552 - val_loss: 0.5709 - val_accuracy: 0.7350\n",
      "Epoch 7/100\n",
      "313/313 [==============================] - 40s 129ms/step - loss: 0.5474 - accuracy: 0.7643 - val_loss: 0.5538 - val_accuracy: 0.7574\n",
      "Epoch 8/100\n",
      "313/313 [==============================] - 41s 130ms/step - loss: 0.5333 - accuracy: 0.7726 - val_loss: 0.5463 - val_accuracy: 0.7526\n",
      "Epoch 9/100\n",
      "313/313 [==============================] - 41s 131ms/step - loss: 0.5193 - accuracy: 0.7778 - val_loss: 0.5297 - val_accuracy: 0.7606\n",
      "Epoch 10/100\n",
      "313/313 [==============================] - 43s 139ms/step - loss: 0.5057 - accuracy: 0.7838 - val_loss: 0.5183 - val_accuracy: 0.7668\n",
      "Epoch 11/100\n",
      "313/313 [==============================] - 42s 134ms/step - loss: 0.4946 - accuracy: 0.7878 - val_loss: 0.5150 - val_accuracy: 0.7664\n",
      "Epoch 12/100\n",
      "313/313 [==============================] - 41s 133ms/step - loss: 0.4837 - accuracy: 0.7931 - val_loss: 0.5020 - val_accuracy: 0.7740\n",
      "Epoch 13/100\n",
      "313/313 [==============================] - 44s 140ms/step - loss: 0.4733 - accuracy: 0.7970 - val_loss: 0.4953 - val_accuracy: 0.7790\n",
      "Epoch 14/100\n",
      "313/313 [==============================] - 43s 138ms/step - loss: 0.4640 - accuracy: 0.8029 - val_loss: 0.4904 - val_accuracy: 0.7760\n",
      "Epoch 15/100\n",
      "313/313 [==============================] - 43s 136ms/step - loss: 0.4572 - accuracy: 0.8040 - val_loss: 0.4855 - val_accuracy: 0.7816\n",
      "Epoch 16/100\n",
      "313/313 [==============================] - 43s 139ms/step - loss: 0.4495 - accuracy: 0.8088 - val_loss: 0.4813 - val_accuracy: 0.7822\n",
      "Epoch 17/100\n",
      "313/313 [==============================] - 43s 137ms/step - loss: 0.4424 - accuracy: 0.8099 - val_loss: 0.4756 - val_accuracy: 0.7866\n",
      "Epoch 18/100\n",
      "313/313 [==============================] - 42s 135ms/step - loss: 0.4373 - accuracy: 0.8126 - val_loss: 0.4746 - val_accuracy: 0.7866\n",
      "Epoch 19/100\n",
      "313/313 [==============================] - 45s 143ms/step - loss: 0.4322 - accuracy: 0.8148 - val_loss: 0.4784 - val_accuracy: 0.7796\n",
      "Epoch 20/100\n",
      "313/313 [==============================] - 44s 141ms/step - loss: 0.4276 - accuracy: 0.8156 - val_loss: 0.4707 - val_accuracy: 0.7852\n",
      "Epoch 21/100\n",
      "313/313 [==============================] - 44s 140ms/step - loss: 0.4232 - accuracy: 0.8169 - val_loss: 0.4703 - val_accuracy: 0.7822\n",
      "Epoch 22/100\n",
      "313/313 [==============================] - 43s 138ms/step - loss: 0.4205 - accuracy: 0.8181 - val_loss: 0.4708 - val_accuracy: 0.7824\n",
      "Epoch 23/100\n",
      "313/313 [==============================] - 41s 131ms/step - loss: 0.4170 - accuracy: 0.8211 - val_loss: 0.4682 - val_accuracy: 0.7820\n",
      "Epoch 24/100\n",
      "313/313 [==============================] - 39s 126ms/step - loss: 0.4139 - accuracy: 0.8217 - val_loss: 0.4663 - val_accuracy: 0.7850\n",
      "Epoch 25/100\n",
      "313/313 [==============================] - 39s 126ms/step - loss: 0.4120 - accuracy: 0.8216 - val_loss: 0.4672 - val_accuracy: 0.7860\n",
      "Epoch 26/100\n",
      "313/313 [==============================] - 39s 124ms/step - loss: 0.4094 - accuracy: 0.8241 - val_loss: 0.4672 - val_accuracy: 0.7834\n",
      "Epoch 27/100\n",
      "313/313 [==============================] - 39s 123ms/step - loss: 0.4072 - accuracy: 0.8248 - val_loss: 0.4684 - val_accuracy: 0.7822\n"
     ]
    }
   ],
   "source": [
    "\"\"\"\n",
    "원-핫 인코딩보다 SimpleRNN에 주입되는 입력의 크기가 크게 줄었지만 \n",
    "임베딩 벡터는 단어를 잘 표현하는 능력이 있기 때문에 \n",
    "훈련 결과는 좋을것\n",
    "모델 훈련 과정은 이전과 동일 train_oh 없고 train_seq 이런거 잘봐, model2 인거 잘보고\n",
    "\"\"\"\n",
    "rmsprop = keras.optimizers.RMSprop(learning_rate = 1e-4)\n",
    "model2.compile(optimizer = rmsprop, loss = \"binary_crossentropy\", metrics=[\"accuracy\"])\n",
    "checkpoint_cb = keras.callbacks.ModelCheckpoint(\"best-embedding-model.h5\", save_best_only = True)\n",
    "early_stopping_cb = keras.callbacks.EarlyStopping(patience = 3, restore_best_weights = True)\n",
    "history = model2.fit(train_seq, train_target, epochs =100, batch_size=64, validation_data=(val_seq, val_target),\n",
    "                   callbacks =[checkpoint_cb, early_stopping_cb])"
   ]
  },
  {
   "cell_type": "code",
   "execution_count": 31,
   "id": "4e158408",
   "metadata": {},
   "outputs": [
    {
     "data": {
      "image/png": "[encoded data removed]",
      "text/plain": [
       "<Figure size 432x288 with 1 Axes>"
      ]
     },
     "metadata": {
      "needs_background": "light"
     },
     "output_type": "display_data"
    }
   ],
   "source": [
    "\"\"\"\n",
    "출력 결과를 보면 원-핫 인코딩을 사용한 모델과 비슷한 성능을 냄\n",
    "반면에 순환층의 가중치 개수는 훨씬 작고 훈련 세트 크기도 훨씬 줄어듬\n",
    "마지막으로 훈련 손실과 검증 손실을 그래프로 출력\n",
    "\"\"\"\n",
    "plt.plot(history.history[\"loss\"])\n",
    "plt.plot(history.history[\"val_loss\"])\n",
    "plt.xlabel(\"epoch\")\n",
    "plt.ylabel(\"loss\")\n",
    "plt.legend([\"train\", \"val\"])\n",
    "plt.show()"
   ]
  },
  {
   "cell_type": "code",
   "execution_count": null,
   "id": "604d151a",
   "metadata": {},
   "outputs": [],
   "source": []
  }
 ],
 "metadata": {
  "kernelspec": {
   "display_name": "Python 3 (ipykernel)",
   "language": "python",
   "name": "python3"
  },
  "language_info": {
   "codemirror_mode": {
    "name": "ipython",
    "version": 3
   },
   "file_extension": ".py",
   "mimetype": "text/x-python",
   "name": "python",
   "nbconvert_exporter": "python",
   "pygments_lexer": "ipython3",
   "version": "3.8.12"
  }
 },
 "nbformat": 4,
 "nbformat_minor": 5
}
